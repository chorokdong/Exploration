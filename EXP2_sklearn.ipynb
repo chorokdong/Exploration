{
 "cells": [
  {
   "cell_type": "markdown",
   "metadata": {},
   "source": [
    "# ------------------------ 당뇨병 데이터 ------------------------"
   ]
  },
  {
   "cell_type": "markdown",
   "metadata": {},
   "source": [
    "# 1. 데이터 가져오기"
   ]
  },
  {
   "cell_type": "code",
   "execution_count": 1,
   "metadata": {},
   "outputs": [],
   "source": [
    "# 필요 모듈 불러오기\n",
    "import numpy as np\n",
    "import pandas as pd\n",
    "import matplotlib.pyplot as plt\n",
    "import seaborn as sns\n",
    "from sklearn.model_selection import train_test_split\n",
    "from sklearn.datasets import load_diabetes"
   ]
  },
  {
   "cell_type": "markdown",
   "metadata": {},
   "source": [
    "- 총 데이터의 개수 "
   ]
  },
  {
   "cell_type": "code",
   "execution_count": 2,
   "metadata": {},
   "outputs": [
    {
     "name": "stdout",
     "output_type": "stream",
     "text": [
      "dict_keys(['data', 'target', 'frame', 'DESCR', 'feature_names', 'data_filename', 'target_filename'])\n"
     ]
    }
   ],
   "source": [
    "# 데이터 가져오기\n",
    "load = load_diabetes()\n",
    "\n",
    "# 키값 확인\n",
    "print(load.keys())"
   ]
  },
  {
   "cell_type": "code",
   "execution_count": 3,
   "metadata": {},
   "outputs": [
    {
     "name": "stdout",
     "output_type": "stream",
     "text": [
      "['age', 'sex', 'bmi', 'bp', 's1', 's2', 's3', 's4', 's5', 's6']\n",
      "/Users/keonkookkim/opt/anaconda3/lib/python3.8/site-packages/sklearn/datasets/data/diabetes_data.csv.gz\n",
      "/Users/keonkookkim/opt/anaconda3/lib/python3.8/site-packages/sklearn/datasets/data/diabetes_target.csv.gz\n"
     ]
    }
   ],
   "source": [
    "# 데이터 값 확인\n",
    "print(load.feature_names)\n",
    "print(load.data_filename)\n",
    "print(load.target_filename)\n"
   ]
  },
  {
   "cell_type": "markdown",
   "metadata": {},
   "source": [
    "- 10개의 정보를 가진 입력값이 442개 있는 배열"
   ]
  },
  {
   "cell_type": "code",
   "execution_count": 4,
   "metadata": {},
   "outputs": [
    {
     "name": "stdout",
     "output_type": "stream",
     "text": [
      ".. _diabetes_dataset:\n",
      "\n",
      "Diabetes dataset\n",
      "----------------\n",
      "\n",
      "Ten baseline variables, age, sex, body mass index, average blood\n",
      "pressure, and six blood serum measurements were obtained for each of n =\n",
      "442 diabetes patients, as well as the response of interest, a\n",
      "quantitative measure of disease progression one year after baseline.\n",
      "\n",
      "**Data Set Characteristics:**\n",
      "\n",
      "  :Number of Instances: 442\n",
      "\n",
      "  :Number of Attributes: First 10 columns are numeric predictive values\n",
      "\n",
      "  :Target: Column 11 is a quantitative measure of disease progression one year after baseline\n",
      "\n",
      "  :Attribute Information:\n",
      "      - age     age in years\n",
      "      - sex\n",
      "      - bmi     body mass index\n",
      "      - bp      average blood pressure\n",
      "      - s1      tc, T-Cells (a type of white blood cells)\n",
      "      - s2      ldl, low-density lipoproteins\n",
      "      - s3      hdl, high-density lipoproteins\n",
      "      - s4      tch, thyroid stimulating hormone\n",
      "      - s5      ltg, lamotrigine\n",
      "      - s6      glu, blood sugar level\n",
      "\n",
      "Note: Each of these 10 feature variables have been mean centered and scaled by the standard deviation times `n_samples` (i.e. the sum of squares of each column totals 1).\n",
      "\n",
      "Source URL:\n",
      "https://www4.stat.ncsu.edu/~boos/var.select/diabetes.html\n",
      "\n",
      "For more information see:\n",
      "Bradley Efron, Trevor Hastie, Iain Johnstone and Robert Tibshirani (2004) \"Least Angle Regression,\" Annals of Statistics (with discussion), 407-499.\n",
      "(https://web.stanford.edu/~hastie/Papers/LARS/LeastAngle_2002.pdf)\n"
     ]
    }
   ],
   "source": [
    "# 데이터 정보 확인\n",
    "print(load.DESCR)"
   ]
  },
  {
   "cell_type": "code",
   "execution_count": 5,
   "metadata": {},
   "outputs": [
    {
     "name": "stdout",
     "output_type": "stream",
     "text": [
      "(442, 10)\n",
      "(442,)\n"
     ]
    }
   ],
   "source": [
    "# 데이터 값 저장 \n",
    "df_X = load.data\n",
    "df_y = load.target\n",
    "\n",
    "# 데이터 크기 확인\n",
    "print(df_X.shape)\n",
    "print(df_y.shape)"
   ]
  },
  {
   "cell_type": "code",
   "execution_count": 6,
   "metadata": {},
   "outputs": [
    {
     "name": "stdout",
     "output_type": "stream",
     "text": [
      "feature no.1 : age\n",
      "feature no.2 : sex\n",
      "feature no.3 : bmi\n",
      "feature no.4 : bp\n",
      "feature no.5 : s1\n",
      "feature no.6 : s2\n",
      "feature no.7 : s3\n",
      "feature no.8 : s4\n",
      "feature no.9 : s5\n",
      "feature no.10 : s6\n"
     ]
    }
   ],
   "source": [
    "# 데이터 이름 개수 및 확인\n",
    "for i, feature_name in enumerate(load.feature_names):\n",
    "    print('feature no.{} : {}'.format(i+1,feature_name))"
   ]
  },
  {
   "cell_type": "markdown",
   "metadata": {},
   "source": [
    "# 2. 모델에 입력할 데이터 X 준비하기"
   ]
  },
  {
   "cell_type": "code",
   "execution_count": 7,
   "metadata": {},
   "outputs": [
    {
     "name": "stdout",
     "output_type": "stream",
     "text": [
      "(442, 10)\n"
     ]
    },
    {
     "data": {
      "text/plain": [
       "numpy.ndarray"
      ]
     },
     "execution_count": 7,
     "metadata": {},
     "output_type": "execute_result"
    }
   ],
   "source": [
    "df_X = np.array(df_X)\n",
    "print(df_X.shape)\n",
    "type(df_X)"
   ]
  },
  {
   "cell_type": "markdown",
   "metadata": {},
   "source": [
    "# 3. 모델에 입력할 데이터 y 준비하기"
   ]
  },
  {
   "cell_type": "code",
   "execution_count": 8,
   "metadata": {},
   "outputs": [
    {
     "name": "stdout",
     "output_type": "stream",
     "text": [
      "(442,)\n"
     ]
    },
    {
     "data": {
      "text/plain": [
       "numpy.ndarray"
      ]
     },
     "execution_count": 8,
     "metadata": {},
     "output_type": "execute_result"
    }
   ],
   "source": [
    "df_y = np.array(df_y)\n",
    "print(df_y.shape)\n",
    "type(df_y)"
   ]
  },
  {
   "cell_type": "markdown",
   "metadata": {},
   "source": [
    "# 4. train / test 데이터셋 분리 "
   ]
  },
  {
   "cell_type": "code",
   "execution_count": 9,
   "metadata": {},
   "outputs": [
    {
     "name": "stdout",
     "output_type": "stream",
     "text": [
      "X_train 개수: 349 X_test 개수: 93\n",
      "(349, 10) (349,)\n",
      "(93, 10) (93,)\n"
     ]
    }
   ],
   "source": [
    "X = df_X\n",
    "y = df_y\n",
    "X_train, X_test, y_train, y_test = train_test_split(X, y, test_size=0.21, random_state= 22)\n",
    "\n",
    "print('X_train 개수:', len(X_train), 'X_test 개수:', len(X_test))\n",
    "\n",
    "# 데이터 확인\n",
    "print(X_train.shape, y_train.shape)\n",
    "print(X_test.shape, y_test.shape)"
   ]
  },
  {
   "cell_type": "markdown",
   "metadata": {},
   "source": [
    "# 5. 모델 준비하기"
   ]
  },
  {
   "cell_type": "code",
   "execution_count": 10,
   "metadata": {},
   "outputs": [],
   "source": [
    "# w,b 값 임의 생성\n",
    "W = np.random.rand(10)\n",
    "b = np.random.rand(1)\n",
    "\n",
    "# 모델 함수 구현\n",
    "def model(X, W, b):\n",
    "    predictions = 0\n",
    "    for i in range(10): \n",
    "        predictions += X[:, i] * W[i] #x와 w값 매칭\n",
    "    predictions += b # 마지막에 b값 추가\n",
    "    return predictions"
   ]
  },
  {
   "cell_type": "markdown",
   "metadata": {},
   "source": [
    "# 6. 손실함수 정의하기"
   ]
  },
  {
   "cell_type": "code",
   "execution_count": 11,
   "metadata": {},
   "outputs": [],
   "source": [
    "def MSE(a,b):\n",
    "    mse = ((a - b) ** 2).mean()  # 두 값의 차이의 제곱의 평균\n",
    "    return mse\n",
    "\n",
    "def loss(X, W, b, y):\n",
    "    predictions = model(X, W, b)\n",
    "    L = MSE(predictions, y)\n",
    "    return L"
   ]
  },
  {
   "cell_type": "markdown",
   "metadata": {},
   "source": [
    "# 7. 기울기 함수 정의하기\n",
    "\n",
    "- w1 부터 w10까지 + b값 기울기 구현 "
   ]
  },
  {
   "cell_type": "code",
   "execution_count": 12,
   "metadata": {},
   "outputs": [
    {
     "name": "stdout",
     "output_type": "stream",
     "text": [
      "dW: [ -60.53049915  -13.65881195 -189.42962086 -142.50735238  -68.21824697\n",
      "  -55.95259933  127.55287289 -138.9083389  -182.73031374 -123.38708308]\n",
      "db: -303.863908788442\n"
     ]
    }
   ],
   "source": [
    "def gradient(X, W, b, y):\n",
    "    # N은 가중치의 개수\n",
    "    N = len(W)\n",
    "    \n",
    "    # y_pred 준비\n",
    "    y_pred = model(X, W, b)\n",
    "    \n",
    "    # 공식에 맞게 gradient 계산\n",
    "    dW = 1/N * 2 * X.T.dot(y_pred - y)\n",
    "        \n",
    "    # b의 gradient 계산\n",
    "    db = 2 * (y_pred - y).mean()\n",
    "    return dW, db\n",
    "\n",
    "\n",
    "dW, db = gradient(X, W, b, y)\n",
    "print(\"dW:\", dW)\n",
    "print(\"db:\", db)"
   ]
  },
  {
   "cell_type": "markdown",
   "metadata": {},
   "source": [
    "# 8. 모델학습, test 데이터 확인 및 시각화"
   ]
  },
  {
   "cell_type": "markdown",
   "metadata": {},
   "source": [
    "- 목적 \n",
    "  - 학습률이 변경되었을 때, Loss값의 변화를 알고싶다  \n",
    "  \n",
    "    생각 1) 학습률을 누적하지 않고, 학습률을 각각 설정 후 상호연관성이 없을 때 loss값의 변화를 비교한다  \n",
    "           해당 문제를 이행하기 위해 w,b의 값을 copy를 통해, 각 모델을 돌리기전에 w,b의 값을 초기화 하여 학습률 마다 loss값을 비교한다  \n",
    "           즉, 각 학습률 별 모델을 1만번씩 돌린다.\n",
    "      \n",
    "    생각 2) 모델에 4가지 학습률을 1만번 누적하여 돌려서 loss값을 작게 만든다. \n"
   ]
  },
  {
   "cell_type": "markdown",
   "metadata": {},
   "source": [
    "##### 생각 1"
   ]
  },
  {
   "cell_type": "code",
   "execution_count": 13,
   "metadata": {},
   "outputs": [],
   "source": [
    "# w,b 초기화를 위해 \n",
    "w1 = W.copy()\n",
    "b1 = b.copy()\n",
    "\n",
    "w2 = W.copy()\n",
    "b2 = b.copy()\n",
    "\n",
    "w3 = W.copy()\n",
    "b3 = b.copy()\n",
    "\n",
    "w4 = W.copy()\n",
    "b4 = b.copy()"
   ]
  },
  {
   "cell_type": "markdown",
   "metadata": {},
   "source": [
    "- 학습률: 0.001 / 반복 횟수: 1만번"
   ]
  },
  {
   "cell_type": "code",
   "execution_count": 14,
   "metadata": {},
   "outputs": [
    {
     "name": "stdout",
     "output_type": "stream",
     "text": [
      "Iteration 100 : Loss 21125.0243\n",
      "Iteration 200 : Loss 15777.5441\n",
      "Iteration 300 : Loss 12143.3502\n",
      "Iteration 400 : Loss 9662.1513\n",
      "Iteration 500 : Loss 7957.9952\n",
      "Iteration 600 : Loss 6778.4977\n",
      "Iteration 700 : Loss 5954.1213\n",
      "Iteration 800 : Loss 5370.8844\n",
      "Iteration 900 : Loss 4952.0722\n",
      "Iteration 1000 : Loss 4645.9774\n",
      "Iteration 1100 : Loss 4417.6829\n",
      "Iteration 1200 : Loss 4243.5514\n",
      "Iteration 1300 : Loss 4107.5305\n",
      "Iteration 1400 : Loss 3998.6742\n",
      "Iteration 1500 : Loss 3909.4789\n",
      "Iteration 1600 : Loss 3834.7663\n",
      "Iteration 1700 : Loss 3770.9335\n",
      "Iteration 1800 : Loss 3715.4474\n",
      "Iteration 1900 : Loss 3666.5051\n",
      "Iteration 2000 : Loss 3622.8048\n",
      "Iteration 2100 : Loss 3583.3907\n",
      "Iteration 2200 : Loss 3547.5478\n",
      "Iteration 2300 : Loss 3514.7308\n",
      "Iteration 2400 : Loss 3484.5154\n",
      "Iteration 2500 : Loss 3456.5643\n",
      "Iteration 2600 : Loss 3430.6048\n",
      "Iteration 2700 : Loss 3406.4120\n",
      "Iteration 2800 : Loss 3383.7977\n",
      "Iteration 2900 : Loss 3362.6021\n",
      "Iteration 3000 : Loss 3342.6881\n",
      "Iteration 3100 : Loss 3323.9370\n",
      "Iteration 3200 : Loss 3306.2448\n",
      "Iteration 3300 : Loss 3289.5201\n",
      "Iteration 3400 : Loss 3273.6822\n",
      "Iteration 3500 : Loss 3258.6594\n",
      "Iteration 3600 : Loss 3244.3875\n",
      "Iteration 3700 : Loss 3230.8094\n",
      "Iteration 3800 : Loss 3217.8737\n",
      "Iteration 3900 : Loss 3205.5341\n",
      "Iteration 4000 : Loss 3193.7490\n",
      "Iteration 4100 : Loss 3182.4808\n",
      "Iteration 4200 : Loss 3171.6954\n",
      "Iteration 4300 : Loss 3161.3618\n",
      "Iteration 4400 : Loss 3151.4519\n",
      "Iteration 4500 : Loss 3141.9402\n",
      "Iteration 4600 : Loss 3132.8032\n",
      "Iteration 4700 : Loss 3124.0196\n",
      "Iteration 4800 : Loss 3115.5698\n",
      "Iteration 4900 : Loss 3107.4358\n",
      "Iteration 5000 : Loss 3099.6011\n",
      "Iteration 5100 : Loss 3092.0504\n",
      "Iteration 5200 : Loss 3084.7695\n",
      "Iteration 5300 : Loss 3077.7455\n",
      "Iteration 5400 : Loss 3070.9663\n",
      "Iteration 5500 : Loss 3064.4205\n",
      "Iteration 5600 : Loss 3058.0977\n",
      "Iteration 5700 : Loss 3051.9881\n",
      "Iteration 5800 : Loss 3046.0825\n",
      "Iteration 5900 : Loss 3040.3724\n",
      "Iteration 6000 : Loss 3034.8497\n",
      "Iteration 6100 : Loss 3029.5069\n",
      "Iteration 6200 : Loss 3024.3367\n",
      "Iteration 6300 : Loss 3019.3326\n",
      "Iteration 6400 : Loss 3014.4881\n",
      "Iteration 6500 : Loss 3009.7971\n",
      "Iteration 6600 : Loss 3005.2541\n",
      "Iteration 6700 : Loss 3000.8535\n",
      "Iteration 6800 : Loss 2996.5902\n",
      "Iteration 6900 : Loss 2992.4594\n",
      "Iteration 7000 : Loss 2988.4562\n",
      "Iteration 7100 : Loss 2984.5764\n",
      "Iteration 7200 : Loss 2980.8155\n",
      "Iteration 7300 : Loss 2977.1696\n",
      "Iteration 7400 : Loss 2973.6347\n",
      "Iteration 7500 : Loss 2970.2070\n",
      "Iteration 7600 : Loss 2966.8831\n",
      "Iteration 7700 : Loss 2963.6595\n",
      "Iteration 7800 : Loss 2960.5328\n",
      "Iteration 7900 : Loss 2957.4999\n",
      "Iteration 8000 : Loss 2954.5578\n",
      "Iteration 8100 : Loss 2951.7035\n",
      "Iteration 8200 : Loss 2948.9341\n",
      "Iteration 8300 : Loss 2946.2471\n",
      "Iteration 8400 : Loss 2943.6396\n",
      "Iteration 8500 : Loss 2941.1093\n",
      "Iteration 8600 : Loss 2938.6537\n",
      "Iteration 8700 : Loss 2936.2704\n",
      "Iteration 8800 : Loss 2933.9572\n",
      "Iteration 8900 : Loss 2931.7118\n",
      "Iteration 9000 : Loss 2929.5322\n",
      "Iteration 9100 : Loss 2927.4163\n",
      "Iteration 9200 : Loss 2925.3621\n",
      "Iteration 9300 : Loss 2923.3677\n",
      "Iteration 9400 : Loss 2921.4314\n",
      "Iteration 9500 : Loss 2919.5512\n",
      "Iteration 9600 : Loss 2917.7255\n",
      "Iteration 9700 : Loss 2915.9527\n",
      "Iteration 9800 : Loss 2914.2310\n",
      "Iteration 9900 : Loss 2912.5590\n",
      "Iteration 10000 : Loss 2910.9351\n"
     ]
    }
   ],
   "source": [
    "LEARNING_RATE = 0.001\n",
    "awq1 = {} # 빈 딕셔너리에 100단위로 키:벨류 값을 반환\n",
    "losses1 = []\n",
    "\n",
    "# 값 초기화\n",
    "W = w1\n",
    "b = b1\n",
    "\n",
    "for i in range(1, 10001):\n",
    "    dW, db = gradient(X_train, W, b, y_train)\n",
    "    W -= LEARNING_RATE * dW\n",
    "    b -= LEARNING_RATE * db\n",
    "    L = loss(X_train, W, b, y_train)\n",
    "    losses1.append(L)\n",
    "    if i % 100 == 0:\n",
    "        awq1[i] = L\n",
    "        print('Iteration %d : Loss %0.4f' % (i, L))"
   ]
  },
  {
   "cell_type": "markdown",
   "metadata": {},
   "source": [
    "- 학습률: 0.0005 / 반복 횟수: 1만번"
   ]
  },
  {
   "cell_type": "code",
   "execution_count": 15,
   "metadata": {},
   "outputs": [
    {
     "name": "stdout",
     "output_type": "stream",
     "text": [
      "Iteration 100 : Loss 24690.1476\n",
      "Iteration 200 : Loss 21128.1686\n",
      "Iteration 300 : Loss 18196.5524\n",
      "Iteration 400 : Loss 15781.7721\n",
      "Iteration 500 : Loss 13790.8471\n",
      "Iteration 600 : Loss 12147.6188\n",
      "Iteration 700 : Loss 10789.7016\n",
      "Iteration 800 : Loss 9665.9876\n",
      "Iteration 900 : Loss 8734.6026\n",
      "Iteration 1000 : Loss 7961.2336\n",
      "Iteration 1100 : Loss 7317.7593\n",
      "Iteration 1200 : Loss 6781.1287\n",
      "Iteration 1300 : Loss 6332.4434\n",
      "Iteration 1400 : Loss 5956.2061\n",
      "Iteration 1500 : Loss 5639.7048\n",
      "Iteration 1600 : Loss 5372.5095\n",
      "Iteration 1700 : Loss 5146.0596\n",
      "Iteration 1800 : Loss 4953.3259\n",
      "Iteration 1900 : Loss 4788.5343\n",
      "Iteration 2000 : Loss 4646.9393\n",
      "Iteration 2100 : Loss 4524.6382\n",
      "Iteration 2200 : Loss 4418.4198\n",
      "Iteration 2300 : Loss 4325.6394\n",
      "Iteration 2400 : Loss 4244.1173\n",
      "Iteration 2500 : Loss 4172.0552\n",
      "Iteration 2600 : Loss 4107.9678\n",
      "Iteration 2700 : Loss 4050.6269\n",
      "Iteration 2800 : Loss 3999.0153\n",
      "Iteration 2900 : Loss 3952.2895\n",
      "Iteration 3000 : Loss 3909.7483\n",
      "Iteration 3100 : Loss 3870.8082\n",
      "Iteration 3200 : Loss 3834.9824\n",
      "Iteration 3300 : Loss 3801.8634\n",
      "Iteration 3400 : Loss 3771.1098\n",
      "Iteration 3500 : Loss 3742.4341\n",
      "Iteration 3600 : Loss 3715.5938\n",
      "Iteration 3700 : Loss 3690.3836\n",
      "Iteration 3800 : Loss 3666.6290\n",
      "Iteration 3900 : Loss 3644.1809\n",
      "Iteration 4000 : Loss 3622.9116\n",
      "Iteration 4100 : Loss 3602.7110\n",
      "Iteration 4200 : Loss 3583.4841\n",
      "Iteration 4300 : Loss 3565.1481\n",
      "Iteration 4400 : Loss 3547.6308\n",
      "Iteration 4500 : Loss 3530.8685\n",
      "Iteration 4600 : Loss 3514.8054\n",
      "Iteration 4700 : Loss 3499.3917\n",
      "Iteration 4800 : Loss 3484.5832\n",
      "Iteration 4900 : Loss 3470.3400\n",
      "Iteration 5000 : Loss 3456.6265\n",
      "Iteration 5100 : Loss 3443.4103\n",
      "Iteration 5200 : Loss 3430.6622\n",
      "Iteration 5300 : Loss 3418.3553\n",
      "Iteration 5400 : Loss 3406.4652\n",
      "Iteration 5500 : Loss 3394.9695\n",
      "Iteration 5600 : Loss 3383.8473\n",
      "Iteration 5700 : Loss 3373.0795\n",
      "Iteration 5800 : Loss 3362.6485\n",
      "Iteration 5900 : Loss 3352.5377\n",
      "Iteration 6000 : Loss 3342.7317\n",
      "Iteration 6100 : Loss 3333.2163\n",
      "Iteration 6200 : Loss 3323.9780\n",
      "Iteration 6300 : Loss 3315.0043\n",
      "Iteration 6400 : Loss 3306.2834\n",
      "Iteration 6500 : Loss 3297.8044\n",
      "Iteration 6600 : Loss 3289.5567\n",
      "Iteration 6700 : Loss 3281.5306\n",
      "Iteration 6800 : Loss 3273.7168\n",
      "Iteration 6900 : Loss 3266.1068\n",
      "Iteration 7000 : Loss 3258.6922\n",
      "Iteration 7100 : Loss 3251.4653\n",
      "Iteration 7200 : Loss 3244.4187\n",
      "Iteration 7300 : Loss 3237.5455\n",
      "Iteration 7400 : Loss 3230.8391\n",
      "Iteration 7500 : Loss 3224.2932\n",
      "Iteration 7600 : Loss 3217.9020\n",
      "Iteration 7700 : Loss 3211.6597\n",
      "Iteration 7800 : Loss 3205.5611\n",
      "Iteration 7900 : Loss 3199.6011\n",
      "Iteration 8000 : Loss 3193.7749\n",
      "Iteration 8100 : Loss 3188.0778\n",
      "Iteration 8200 : Loss 3182.5055\n",
      "Iteration 8300 : Loss 3177.0539\n",
      "Iteration 8400 : Loss 3171.7191\n",
      "Iteration 8500 : Loss 3166.4971\n",
      "Iteration 8600 : Loss 3161.3845\n",
      "Iteration 8700 : Loss 3156.3778\n",
      "Iteration 8800 : Loss 3151.4738\n",
      "Iteration 8900 : Loss 3146.6692\n",
      "Iteration 9000 : Loss 3141.9612\n",
      "Iteration 9100 : Loss 3137.3469\n",
      "Iteration 9200 : Loss 3132.8235\n",
      "Iteration 9300 : Loss 3128.3884\n",
      "Iteration 9400 : Loss 3124.0392\n",
      "Iteration 9500 : Loss 3119.7734\n",
      "Iteration 9600 : Loss 3115.5888\n",
      "Iteration 9700 : Loss 3111.4830\n",
      "Iteration 9800 : Loss 3107.4542\n",
      "Iteration 9900 : Loss 3103.5001\n",
      "Iteration 10000 : Loss 3099.6188\n"
     ]
    }
   ],
   "source": [
    "LEARNING_RATE = 0.0005\n",
    "awq2 = {}\n",
    "losses2 = []\n",
    "\n",
    "# 값 초기화\n",
    "W = w2\n",
    "b = b2\n",
    "\n",
    "for i in range(1, 10001):\n",
    "    dW, db = gradient(X_train, W, b, y_train)\n",
    "    W -= LEARNING_RATE * dW\n",
    "    b -= LEARNING_RATE * db\n",
    "    L = loss(X_train, W, b, y_train)\n",
    "    losses2.append(L)\n",
    "    if i % 100 == 0:\n",
    "        awq2[i] = L\n",
    "        print('Iteration %d : Loss %0.4f' % (i, L))\n"
   ]
  },
  {
   "cell_type": "markdown",
   "metadata": {},
   "source": [
    "- 학습률: 0.00003 / 반복 횟수: 1만번"
   ]
  },
  {
   "cell_type": "code",
   "execution_count": 16,
   "metadata": {},
   "outputs": [
    {
     "name": "stdout",
     "output_type": "stream",
     "text": [
      "Iteration 100 : Loss 28736.7780\n",
      "Iteration 200 : Loss 28455.7678\n",
      "Iteration 300 : Loss 28178.0416\n",
      "Iteration 400 : Loss 27903.5607\n",
      "Iteration 500 : Loss 27632.2863\n",
      "Iteration 600 : Loss 27364.1806\n",
      "Iteration 700 : Loss 27099.2059\n",
      "Iteration 800 : Loss 26837.3251\n",
      "Iteration 900 : Loss 26578.5015\n",
      "Iteration 1000 : Loss 26322.6989\n",
      "Iteration 1100 : Loss 26069.8813\n",
      "Iteration 1200 : Loss 25820.0134\n",
      "Iteration 1300 : Loss 25573.0603\n",
      "Iteration 1400 : Loss 25328.9873\n",
      "Iteration 1500 : Loss 25087.7603\n",
      "Iteration 1600 : Loss 24849.3456\n",
      "Iteration 1700 : Loss 24613.7098\n",
      "Iteration 1800 : Loss 24380.8200\n",
      "Iteration 1900 : Loss 24150.6436\n",
      "Iteration 2000 : Loss 23923.1484\n",
      "Iteration 2100 : Loss 23698.3027\n",
      "Iteration 2200 : Loss 23476.0751\n",
      "Iteration 2300 : Loss 23256.4345\n",
      "Iteration 2400 : Loss 23039.3504\n",
      "Iteration 2500 : Loss 22824.7922\n",
      "Iteration 2600 : Loss 22612.7303\n",
      "Iteration 2700 : Loss 22403.1349\n",
      "Iteration 2800 : Loss 22195.9768\n",
      "Iteration 2900 : Loss 21991.2272\n",
      "Iteration 3000 : Loss 21788.8576\n",
      "Iteration 3100 : Loss 21588.8396\n",
      "Iteration 3200 : Loss 21391.1456\n",
      "Iteration 3300 : Loss 21195.7479\n",
      "Iteration 3400 : Loss 21002.6193\n",
      "Iteration 3500 : Loss 20811.7331\n",
      "Iteration 3600 : Loss 20623.0625\n",
      "Iteration 3700 : Loss 20436.5814\n",
      "Iteration 3800 : Loss 20252.2639\n",
      "Iteration 3900 : Loss 20070.0843\n",
      "Iteration 4000 : Loss 19890.0173\n",
      "Iteration 4100 : Loss 19712.0379\n",
      "Iteration 4200 : Loss 19536.1215\n",
      "Iteration 4300 : Loss 19362.2435\n",
      "Iteration 4400 : Loss 19190.3798\n",
      "Iteration 4500 : Loss 19020.5066\n",
      "Iteration 4600 : Loss 18852.6004\n",
      "Iteration 4700 : Loss 18686.6378\n",
      "Iteration 4800 : Loss 18522.5959\n",
      "Iteration 4900 : Loss 18360.4520\n",
      "Iteration 5000 : Loss 18200.1835\n",
      "Iteration 5100 : Loss 18041.7683\n",
      "Iteration 5200 : Loss 17885.1845\n",
      "Iteration 5300 : Loss 17730.4103\n",
      "Iteration 5400 : Loss 17577.4245\n",
      "Iteration 5500 : Loss 17426.2058\n",
      "Iteration 5600 : Loss 17276.7334\n",
      "Iteration 5700 : Loss 17128.9865\n",
      "Iteration 5800 : Loss 16982.9448\n",
      "Iteration 5900 : Loss 16838.5881\n",
      "Iteration 6000 : Loss 16695.8966\n",
      "Iteration 6100 : Loss 16554.8504\n",
      "Iteration 6200 : Loss 16415.4302\n",
      "Iteration 6300 : Loss 16277.6168\n",
      "Iteration 6400 : Loss 16141.3911\n",
      "Iteration 6500 : Loss 16006.7343\n",
      "Iteration 6600 : Loss 15873.6280\n",
      "Iteration 6700 : Loss 15742.0539\n",
      "Iteration 6800 : Loss 15611.9937\n",
      "Iteration 6900 : Loss 15483.4297\n",
      "Iteration 7000 : Loss 15356.3441\n",
      "Iteration 7100 : Loss 15230.7196\n",
      "Iteration 7200 : Loss 15106.5387\n",
      "Iteration 7300 : Loss 14983.7845\n",
      "Iteration 7400 : Loss 14862.4402\n",
      "Iteration 7500 : Loss 14742.4890\n",
      "Iteration 7600 : Loss 14623.9146\n",
      "Iteration 7700 : Loss 14506.7006\n",
      "Iteration 7800 : Loss 14390.8311\n",
      "Iteration 7900 : Loss 14276.2901\n",
      "Iteration 8000 : Loss 14163.0619\n",
      "Iteration 8100 : Loss 14051.1311\n",
      "Iteration 8200 : Loss 13940.4824\n",
      "Iteration 8300 : Loss 13831.1006\n",
      "Iteration 8400 : Loss 13722.9707\n",
      "Iteration 8500 : Loss 13616.0781\n",
      "Iteration 8600 : Loss 13510.4081\n",
      "Iteration 8700 : Loss 13405.9462\n",
      "Iteration 8800 : Loss 13302.6783\n",
      "Iteration 8900 : Loss 13200.5902\n",
      "Iteration 9000 : Loss 13099.6681\n",
      "Iteration 9100 : Loss 12999.8982\n",
      "Iteration 9200 : Loss 12901.2669\n",
      "Iteration 9300 : Loss 12803.7608\n",
      "Iteration 9400 : Loss 12707.3665\n",
      "Iteration 9500 : Loss 12612.0711\n",
      "Iteration 9600 : Loss 12517.8616\n",
      "Iteration 9700 : Loss 12424.7251\n",
      "Iteration 9800 : Loss 12332.6491\n",
      "Iteration 9900 : Loss 12241.6210\n",
      "Iteration 10000 : Loss 12151.6284\n"
     ]
    }
   ],
   "source": [
    "LEARNING_RATE = 0.00003\n",
    "awq3 = {}\n",
    "losses3 = []\n",
    "\n",
    "# 값 초기화\n",
    "W = w3\n",
    "b = b3\n",
    "\n",
    "for i in range(1, 10001):\n",
    "    dW, db = gradient(X_train, W, b, y_train)\n",
    "    W -= LEARNING_RATE * dW\n",
    "    b -= LEARNING_RATE * db\n",
    "    L = loss(X_train, W, b, y_train)\n",
    "    losses3.append(L)\n",
    "    if i % 100 == 0:\n",
    "        awq3[i] = L\n",
    "        print('Iteration %d : Loss %0.4f' % (i, L))"
   ]
  },
  {
   "cell_type": "markdown",
   "metadata": {},
   "source": [
    "- 학습률: 0.00001 / 반복 횟수: 1만번"
   ]
  },
  {
   "cell_type": "code",
   "execution_count": 17,
   "metadata": {},
   "outputs": [
    {
     "name": "stdout",
     "output_type": "stream",
     "text": [
      "Iteration 100 : Loss 28925.9640\n",
      "Iteration 200 : Loss 28831.1884\n",
      "Iteration 300 : Loss 28736.7836\n",
      "Iteration 400 : Loss 28642.7480\n",
      "Iteration 500 : Loss 28549.0802\n",
      "Iteration 600 : Loss 28455.7787\n",
      "Iteration 700 : Loss 28362.8422\n",
      "Iteration 800 : Loss 28270.2690\n",
      "Iteration 900 : Loss 28178.0579\n",
      "Iteration 1000 : Loss 28086.2073\n",
      "Iteration 1100 : Loss 27994.7158\n",
      "Iteration 1200 : Loss 27903.5820\n",
      "Iteration 1300 : Loss 27812.8046\n",
      "Iteration 1400 : Loss 27722.3819\n",
      "Iteration 1500 : Loss 27632.3127\n",
      "Iteration 1600 : Loss 27542.5956\n",
      "Iteration 1700 : Loss 27453.2291\n",
      "Iteration 1800 : Loss 27364.2119\n",
      "Iteration 1900 : Loss 27275.5426\n",
      "Iteration 2000 : Loss 27187.2198\n",
      "Iteration 2100 : Loss 27099.2420\n",
      "Iteration 2200 : Loss 27011.6081\n",
      "Iteration 2300 : Loss 26924.3165\n",
      "Iteration 2400 : Loss 26837.3659\n",
      "Iteration 2500 : Loss 26750.7550\n",
      "Iteration 2600 : Loss 26664.4824\n",
      "Iteration 2700 : Loss 26578.5469\n",
      "Iteration 2800 : Loss 26492.9469\n",
      "Iteration 2900 : Loss 26407.6813\n",
      "Iteration 3000 : Loss 26322.7486\n",
      "Iteration 3100 : Loss 26238.1476\n",
      "Iteration 3200 : Loss 26153.8770\n",
      "Iteration 3300 : Loss 26069.9354\n",
      "Iteration 3400 : Loss 25986.3215\n",
      "Iteration 3500 : Loss 25903.0340\n",
      "Iteration 3600 : Loss 25820.0717\n",
      "Iteration 3700 : Loss 25737.4332\n",
      "Iteration 3800 : Loss 25655.1173\n",
      "Iteration 3900 : Loss 25573.1227\n",
      "Iteration 4000 : Loss 25491.4480\n",
      "Iteration 4100 : Loss 25410.0921\n",
      "Iteration 4200 : Loss 25329.0537\n",
      "Iteration 4300 : Loss 25248.3315\n",
      "Iteration 4400 : Loss 25167.9242\n",
      "Iteration 4500 : Loss 25087.8306\n",
      "Iteration 4600 : Loss 25008.0495\n",
      "Iteration 4700 : Loss 24928.5796\n",
      "Iteration 4800 : Loss 24849.4197\n",
      "Iteration 4900 : Loss 24770.5685\n",
      "Iteration 5000 : Loss 24692.0249\n",
      "Iteration 5100 : Loss 24613.7876\n",
      "Iteration 5200 : Loss 24535.8554\n",
      "Iteration 5300 : Loss 24458.2270\n",
      "Iteration 5400 : Loss 24380.9014\n",
      "Iteration 5500 : Loss 24303.8772\n",
      "Iteration 5600 : Loss 24227.1533\n",
      "Iteration 5700 : Loss 24150.7285\n",
      "Iteration 5800 : Loss 24074.6015\n",
      "Iteration 5900 : Loss 23998.7714\n",
      "Iteration 6000 : Loss 23923.2367\n",
      "Iteration 6100 : Loss 23847.9964\n",
      "Iteration 6200 : Loss 23773.0494\n",
      "Iteration 6300 : Loss 23698.3944\n",
      "Iteration 6400 : Loss 23624.0302\n",
      "Iteration 6500 : Loss 23549.9558\n",
      "Iteration 6600 : Loss 23476.1700\n",
      "Iteration 6700 : Loss 23402.6716\n",
      "Iteration 6800 : Loss 23329.4595\n",
      "Iteration 6900 : Loss 23256.5325\n",
      "Iteration 7000 : Loss 23183.8896\n",
      "Iteration 7100 : Loss 23111.5296\n",
      "Iteration 7200 : Loss 23039.4514\n",
      "Iteration 7300 : Loss 22967.6538\n",
      "Iteration 7400 : Loss 22896.1358\n",
      "Iteration 7500 : Loss 22824.8962\n",
      "Iteration 7600 : Loss 22753.9340\n",
      "Iteration 7700 : Loss 22683.2480\n",
      "Iteration 7800 : Loss 22612.8372\n",
      "Iteration 7900 : Loss 22542.7004\n",
      "Iteration 8000 : Loss 22472.8365\n",
      "Iteration 8100 : Loss 22403.2446\n",
      "Iteration 8200 : Loss 22333.9234\n",
      "Iteration 8300 : Loss 22264.8720\n",
      "Iteration 8400 : Loss 22196.0892\n",
      "Iteration 8500 : Loss 22127.5740\n",
      "Iteration 8600 : Loss 22059.3254\n",
      "Iteration 8700 : Loss 21991.3423\n",
      "Iteration 8800 : Loss 21923.6235\n",
      "Iteration 8900 : Loss 21856.1682\n",
      "Iteration 9000 : Loss 21788.9752\n",
      "Iteration 9100 : Loss 21722.0434\n",
      "Iteration 9200 : Loss 21655.3720\n",
      "Iteration 9300 : Loss 21588.9597\n",
      "Iteration 9400 : Loss 21522.8057\n",
      "Iteration 9500 : Loss 21456.9088\n",
      "Iteration 9600 : Loss 21391.2681\n",
      "Iteration 9700 : Loss 21325.8825\n",
      "Iteration 9800 : Loss 21260.7510\n",
      "Iteration 9900 : Loss 21195.8727\n",
      "Iteration 10000 : Loss 21131.2465\n"
     ]
    }
   ],
   "source": [
    "LEARNING_RATE = 0.00001\n",
    "awq4 = {}\n",
    "losses4 = []\n",
    "\n",
    "# 값 초기화\n",
    "W = w4\n",
    "b = b4\n",
    "\n",
    "for i in range(1, 10001):\n",
    "    dW, db = gradient(X_train, W, b, y_train)\n",
    "    W -= LEARNING_RATE * dW\n",
    "    b -= LEARNING_RATE * db\n",
    "    L = loss(X_train, W, b, y_train)\n",
    "    losses4.append(L)\n",
    "    if i % 100 == 0:\n",
    "        awq4[i] = L\n",
    "        print('Iteration %d : Loss %0.4f' % (i, L))"
   ]
  },
  {
   "cell_type": "code",
   "execution_count": 18,
   "metadata": {},
   "outputs": [
    {
     "data": {
      "image/png": "[encoded data removed]",
      "text/plain": [
       "<Figure size 432x288 with 1 Axes>"
      ]
     },
     "metadata": {
      "needs_background": "light"
     },
     "output_type": "display_data"
    },
    {
     "data": {
      "image/png": "[encoded data removed]",
      "text/plain": [
       "<Figure size 432x288 with 1 Axes>"
      ]
     },
     "metadata": {
      "needs_background": "light"
     },
     "output_type": "display_data"
    }
   ],
   "source": [
    "# 4가지 학습률별 loss값 그래프\n",
    "plt.plot(awq1.keys(),awq1.values(), label = '0.001')\n",
    "plt.plot(awq2.keys(),awq2.values(), label = '0.0005')\n",
    "plt.plot(awq3.keys(),awq3.values(), label = '0.00003')\n",
    "plt.plot(awq4.keys(),awq4.values(), label = '0.00001')\n",
    "plt.ylim(0,30000)\n",
    "plt.legend(loc = 'upper left')\n",
    "plt.show()\n",
    "\n",
    "# 3000 언저리 loss값의 그래프(확대)\n",
    "plt.plot(awq1.keys(),awq1.values(), label = '0.001')\n",
    "plt.plot(awq2.keys(),awq2.values(), label = '0.0005')\n",
    "plt.ylim(2500,3500)\n",
    "plt.legend(loc = 'upper left')\n",
    "plt.axhline(y = 3000, color = 'dimgray',lw = 1, ls = '--') # lw: 두께 ls: 선스타일\n",
    "plt.show()\n"
   ]
  },
  {
   "cell_type": "markdown",
   "metadata": {},
   "source": [
    "### 생각1_결론 : 각 학습률별 1만번을 돌렸을 때, 학습률이 0.001 일때, loss 값이 3000이하로 떨어진다."
   ]
  },
  {
   "cell_type": "markdown",
   "metadata": {},
   "source": [
    "- 0.001 / 0.0005 / 0.00003 / 0.00001의 학습률을 토대로 각 2500번씩 모델에 돌림"
   ]
  },
  {
   "cell_type": "code",
   "execution_count": 19,
   "metadata": {},
   "outputs": [
    {
     "name": "stdout",
     "output_type": "stream",
     "text": [
      "Iteration 250 : Loss 10787.9245\n",
      "Iteration 500 : Loss 6779.3651\n",
      "Iteration 750 : Loss 5144.9632\n",
      "Iteration 1000 : Loss 4417.8154\n",
      "Iteration 1250 : Loss 4050.2977\n",
      "Iteration 1500 : Loss 3834.7930\n",
      "Iteration 1750 : Loss 3690.2636\n",
      "Iteration 2000 : Loss 3583.3995\n",
      "Iteration 2250 : Loss 3499.3267\n",
      "Iteration 2500 : Loss 3430.6092\n",
      "------------------------\n",
      "Iteration 250 : Loss 3400.6233\n",
      "Iteration 500 : Loss 3373.0391\n",
      "Iteration 750 : Loss 3347.5618\n",
      "Iteration 1000 : Loss 3323.9462\n",
      "Iteration 1250 : Loss 3301.9859\n",
      "Iteration 1500 : Loss 3281.5051\n",
      "Iteration 1750 : Loss 3262.3526\n",
      "Iteration 2000 : Loss 3244.3979\n",
      "Iteration 2250 : Loss 3227.5276\n",
      "Iteration 2500 : Loss 3211.6425\n",
      "------------------------\n",
      "Iteration 250 : Loss 3210.7188\n",
      "Iteration 500 : Loss 3209.7983\n",
      "Iteration 750 : Loss 3208.8811\n",
      "Iteration 1000 : Loss 3207.9670\n",
      "Iteration 1250 : Loss 3207.0560\n",
      "Iteration 1500 : Loss 3206.1482\n",
      "Iteration 1750 : Loss 3205.2436\n",
      "Iteration 2000 : Loss 3204.3420\n",
      "Iteration 2250 : Loss 3203.4436\n",
      "Iteration 2500 : Loss 3202.5482\n",
      "------------------------\n",
      "Iteration 250 : Loss 3202.2504\n",
      "Iteration 500 : Loss 3201.9530\n",
      "Iteration 750 : Loss 3201.6559\n",
      "Iteration 1000 : Loss 3201.3592\n",
      "Iteration 1250 : Loss 3201.0627\n",
      "Iteration 1500 : Loss 3200.7666\n",
      "Iteration 1750 : Loss 3200.4709\n",
      "Iteration 2000 : Loss 3200.1755\n",
      "Iteration 2250 : Loss 3199.8804\n",
      "Iteration 2500 : Loss 3199.5857\n"
     ]
    }
   ],
   "source": [
    "awq = {}\n",
    "losses = []\n",
    "\n",
    "# 1번 학습률 \n",
    "LEARNING_RATE = 0.001\n",
    "for i in range(1, 2501):\n",
    "    dW, db = gradient(X_train, W, b, y_train)\n",
    "    W -= LEARNING_RATE * dW\n",
    "    b -= LEARNING_RATE * db\n",
    "    L = loss(X_train, W, b, y_train)\n",
    "    losses.append(L)\n",
    "    if i % 250 == 0:\n",
    "        awq[i] = L\n",
    "        print('Iteration %d : Loss %0.4f' % (i, L))\n",
    "print('------------------------')\n",
    "\n",
    "# 2번 학습률\n",
    "LEARNING_RATE = 0.0005\n",
    "for i in range(1, 2501):\n",
    "    dW, db = gradient(X_train, W, b, y_train)\n",
    "    W -= LEARNING_RATE * dW\n",
    "    b -= LEARNING_RATE * db\n",
    "    L = loss(X_train, W, b, y_train)\n",
    "    losses.append(L)\n",
    "    if i % 250 == 0:\n",
    "        awq[i] = L\n",
    "        print('Iteration %d : Loss %0.4f' % (i, L))\n",
    "print('------------------------')\n",
    "\n",
    "# 3번 학습률\n",
    "LEARNING_RATE = 0.00003\n",
    "for i in range(1, 2501):\n",
    "    dW, db = gradient(X_train, W, b, y_train)\n",
    "    W -= LEARNING_RATE * dW\n",
    "    b -= LEARNING_RATE * db\n",
    "    L = loss(X_train, W, b, y_train)\n",
    "    losses.append(L)\n",
    "    if i % 250 == 0:\n",
    "        awq[i] = L\n",
    "        print('Iteration %d : Loss %0.4f' % (i, L))\n",
    "print('------------------------')\n",
    "\n",
    "# 4번 학습률\n",
    "LEARNING_RATE = 0.00001\n",
    "for i in range(1, 2501):\n",
    "    dW, db = gradient(X_train, W, b, y_train)\n",
    "    W -= LEARNING_RATE * dW\n",
    "    b -= LEARNING_RATE * db\n",
    "    L = loss(X_train, W, b, y_train)\n",
    "    losses.append(L)\n",
    "    if i % 250== 0:\n",
    "        awq[i] = L\n",
    "        print('Iteration %d : Loss %0.4f' % (i, L))"
   ]
  },
  {
   "cell_type": "code",
   "execution_count": 20,
   "metadata": {},
   "outputs": [
    {
     "data": {
      "image/png": "[encoded data removed]",
      "text/plain": [
       "<Figure size 432x288 with 1 Axes>"
      ]
     },
     "metadata": {
      "needs_background": "light"
     },
     "output_type": "display_data"
    },
    {
     "data": {
      "image/png": "[encoded data removed]",
      "text/plain": [
       "<Figure size 432x288 with 1 Axes>"
      ]
     },
     "metadata": {
      "needs_background": "light"
     },
     "output_type": "display_data"
    }
   ],
   "source": [
    "plt.plot(losses)\n",
    "plt.ylim(0,12000)\n",
    "plt.show()\n",
    "\n",
    "# test 데이터에 대한 loss값\n",
    "prediction = model(X_test, W, b)\n",
    "mse = loss(X_test, W, b, y_test)\n",
    "mse\n",
    "\n",
    "# 예측값과 테스트 값의 비교\n",
    "plt.scatter(X_test[:, 0], y_test, c = 'r', label = 'True')\n",
    "plt.scatter(X_test[:, 0], prediction, c = 'g', label = 'Pred')\n",
    "plt.legend()\n",
    "plt.show()"
   ]
  },
  {
   "cell_type": "markdown",
   "metadata": {},
   "source": [
    "### 생각2_결론: 4가지 학습률 중 가장 큰 값으로 먼저 loss 값을 감소시킨 후 점차 작은 값으로 loss값을 감소하였으나 최종 loss값은 약 3200 값으로 목표치인 3000이하의 값을 도달하지 못하였다.\n"
   ]
  },
  {
   "cell_type": "markdown",
   "metadata": {},
   "source": [
    "# 최종결론 \n",
    "- 학습률이 큰 경우 loss 값의 작아지는 것을 확인하였다.\n",
    "- 현재 데이터의 경우 큰 학습률로 1만번 진행하는 것이, 큰 학습률 부터 작은 학습률까지 누적으로 1만번 진행하는 것에 근소한 차이로 loss값이 더 작다."
   ]
  },
  {
   "cell_type": "markdown",
   "metadata": {},
   "source": [
    "# ----------------------- 당뇨병 데이터 종료 -----------------------"
   ]
  },
  {
   "cell_type": "code",
   "execution_count": null,
   "metadata": {},
   "outputs": [],
   "source": []
  },
  {
   "cell_type": "markdown",
   "metadata": {},
   "source": [
    "# ------------------------- 자전거 데이터 -------------------------"
   ]
  },
  {
   "cell_type": "markdown",
   "metadata": {},
   "source": [
    "# 1. 데이터 가져오기"
   ]
  },
  {
   "cell_type": "code",
   "execution_count": 21,
   "metadata": {},
   "outputs": [],
   "source": [
    "# 필요 라이브러리 가져오기\n",
    "import numpy as np\n",
    "import pandas as pd\n",
    "import matplotlib.pyplot as plt\n",
    "import seaborn as sns\n",
    "from sklearn.model_selection import train_test_split"
   ]
  },
  {
   "cell_type": "markdown",
   "metadata": {},
   "source": [
    "- 컬럼 확인  \n",
    "datatime: 시간  \n",
    "season: 봄(1) / 여름(2) / 가을(3) / 겨울(4)  \n",
    "holiday: 휴일O(1) / 휴일X(0)  \n",
    "workingday: 근무일(=평일)  \n",
    "weather: 날씨의 상태 (1 > 2 > 3 > 4)  \n",
    "temp: 온도(섭씨)  \n",
    "atemp: 체감온도  \n",
    "humidity: 습도  \n",
    "windspeed: 풍속  \n",
    "casual: 등록되지 않은 사용자 대여 횟수  \n",
    "registered: 등록된 사용자 대여 횟수  \n",
    "count: 총 대여 개수 \n",
    "  \n",
    "- 10886개의 데이터와 12개의 feature가 존재"
   ]
  },
  {
   "cell_type": "markdown",
   "metadata": {},
   "source": [
    "### count를 제외한 11가지 feature가 count에 어떤 영향을 미치는지 확인 해보고자 한다."
   ]
  },
  {
   "cell_type": "code",
   "execution_count": 22,
   "metadata": {},
   "outputs": [
    {
     "name": "stdout",
     "output_type": "stream",
     "text": [
      "(10886, 12)\n"
     ]
    },
    {
     "data": {
      "text/html": [
       "<div>\n",
       "<style scoped>\n",
       "    .dataframe tbody tr th:only-of-type {\n",
       "        vertical-align: middle;\n",
       "    }\n",
       "\n",
       "    .dataframe tbody tr th {\n",
       "        vertical-align: top;\n",
       "    }\n",
       "\n",
       "    .dataframe thead th {\n",
       "        text-align: right;\n",
       "    }\n",
       "</style>\n",
       "<table border=\"1\" class=\"dataframe\">\n",
       "  <thead>\n",
       "    <tr style=\"text-align: right;\">\n",
       "      <th></th>\n",
       "      <th>datetime</th>\n",
       "      <th>season</th>\n",
       "      <th>holiday</th>\n",
       "      <th>workingday</th>\n",
       "      <th>weather</th>\n",
       "      <th>temp</th>\n",
       "      <th>atemp</th>\n",
       "      <th>humidity</th>\n",
       "      <th>windspeed</th>\n",
       "      <th>casual</th>\n",
       "      <th>registered</th>\n",
       "      <th>count</th>\n",
       "    </tr>\n",
       "  </thead>\n",
       "  <tbody>\n",
       "    <tr>\n",
       "      <th>10881</th>\n",
       "      <td>2012-12-19 19:00:00</td>\n",
       "      <td>4</td>\n",
       "      <td>0</td>\n",
       "      <td>1</td>\n",
       "      <td>1</td>\n",
       "      <td>15.58</td>\n",
       "      <td>19.695</td>\n",
       "      <td>50</td>\n",
       "      <td>26.0027</td>\n",
       "      <td>7</td>\n",
       "      <td>329</td>\n",
       "      <td>336</td>\n",
       "    </tr>\n",
       "    <tr>\n",
       "      <th>10882</th>\n",
       "      <td>2012-12-19 20:00:00</td>\n",
       "      <td>4</td>\n",
       "      <td>0</td>\n",
       "      <td>1</td>\n",
       "      <td>1</td>\n",
       "      <td>14.76</td>\n",
       "      <td>17.425</td>\n",
       "      <td>57</td>\n",
       "      <td>15.0013</td>\n",
       "      <td>10</td>\n",
       "      <td>231</td>\n",
       "      <td>241</td>\n",
       "    </tr>\n",
       "    <tr>\n",
       "      <th>10883</th>\n",
       "      <td>2012-12-19 21:00:00</td>\n",
       "      <td>4</td>\n",
       "      <td>0</td>\n",
       "      <td>1</td>\n",
       "      <td>1</td>\n",
       "      <td>13.94</td>\n",
       "      <td>15.910</td>\n",
       "      <td>61</td>\n",
       "      <td>15.0013</td>\n",
       "      <td>4</td>\n",
       "      <td>164</td>\n",
       "      <td>168</td>\n",
       "    </tr>\n",
       "    <tr>\n",
       "      <th>10884</th>\n",
       "      <td>2012-12-19 22:00:00</td>\n",
       "      <td>4</td>\n",
       "      <td>0</td>\n",
       "      <td>1</td>\n",
       "      <td>1</td>\n",
       "      <td>13.94</td>\n",
       "      <td>17.425</td>\n",
       "      <td>61</td>\n",
       "      <td>6.0032</td>\n",
       "      <td>12</td>\n",
       "      <td>117</td>\n",
       "      <td>129</td>\n",
       "    </tr>\n",
       "    <tr>\n",
       "      <th>10885</th>\n",
       "      <td>2012-12-19 23:00:00</td>\n",
       "      <td>4</td>\n",
       "      <td>0</td>\n",
       "      <td>1</td>\n",
       "      <td>1</td>\n",
       "      <td>13.12</td>\n",
       "      <td>16.665</td>\n",
       "      <td>66</td>\n",
       "      <td>8.9981</td>\n",
       "      <td>4</td>\n",
       "      <td>84</td>\n",
       "      <td>88</td>\n",
       "    </tr>\n",
       "  </tbody>\n",
       "</table>\n",
       "</div>"
      ],
      "text/plain": [
       "                  datetime  season  holiday  workingday  weather   temp  \\\n",
       "10881  2012-12-19 19:00:00       4        0           1        1  15.58   \n",
       "10882  2012-12-19 20:00:00       4        0           1        1  14.76   \n",
       "10883  2012-12-19 21:00:00       4        0           1        1  13.94   \n",
       "10884  2012-12-19 22:00:00       4        0           1        1  13.94   \n",
       "10885  2012-12-19 23:00:00       4        0           1        1  13.12   \n",
       "\n",
       "        atemp  humidity  windspeed  casual  registered  count  \n",
       "10881  19.695        50    26.0027       7         329    336  \n",
       "10882  17.425        57    15.0013      10         231    241  \n",
       "10883  15.910        61    15.0013       4         164    168  \n",
       "10884  17.425        61     6.0032      12         117    129  \n",
       "10885  16.665        66     8.9981       4          84     88  "
      ]
     },
     "execution_count": 22,
     "metadata": {},
     "output_type": "execute_result"
    }
   ],
   "source": [
    "bike = pd.read_csv('/Users/keonkookkim/Desktop/aiffel_data/bike-sharing-demand/train.csv')\n",
    "\n",
    "print(bike.shape)\n",
    "bike.tail()\n"
   ]
  },
  {
   "cell_type": "code",
   "execution_count": 23,
   "metadata": {},
   "outputs": [
    {
     "name": "stdout",
     "output_type": "stream",
     "text": [
      "<class 'pandas.core.frame.DataFrame'>\n",
      "RangeIndex: 10886 entries, 0 to 10885\n",
      "Data columns (total 12 columns):\n",
      " #   Column      Non-Null Count  Dtype  \n",
      "---  ------      --------------  -----  \n",
      " 0   datetime    10886 non-null  object \n",
      " 1   season      10886 non-null  int64  \n",
      " 2   holiday     10886 non-null  int64  \n",
      " 3   workingday  10886 non-null  int64  \n",
      " 4   weather     10886 non-null  int64  \n",
      " 5   temp        10886 non-null  float64\n",
      " 6   atemp       10886 non-null  float64\n",
      " 7   humidity    10886 non-null  int64  \n",
      " 8   windspeed   10886 non-null  float64\n",
      " 9   casual      10886 non-null  int64  \n",
      " 10  registered  10886 non-null  int64  \n",
      " 11  count       10886 non-null  int64  \n",
      "dtypes: float64(3), int64(8), object(1)\n",
      "memory usage: 1020.7+ KB\n"
     ]
    },
    {
     "data": {
      "text/html": [
       "<div>\n",
       "<style scoped>\n",
       "    .dataframe tbody tr th:only-of-type {\n",
       "        vertical-align: middle;\n",
       "    }\n",
       "\n",
       "    .dataframe tbody tr th {\n",
       "        vertical-align: top;\n",
       "    }\n",
       "\n",
       "    .dataframe thead th {\n",
       "        text-align: right;\n",
       "    }\n",
       "</style>\n",
       "<table border=\"1\" class=\"dataframe\">\n",
       "  <thead>\n",
       "    <tr style=\"text-align: right;\">\n",
       "      <th></th>\n",
       "      <th>datetime</th>\n",
       "      <th>season</th>\n",
       "      <th>holiday</th>\n",
       "      <th>workingday</th>\n",
       "      <th>weather</th>\n",
       "      <th>temp</th>\n",
       "      <th>atemp</th>\n",
       "      <th>humidity</th>\n",
       "      <th>windspeed</th>\n",
       "      <th>casual</th>\n",
       "      <th>registered</th>\n",
       "      <th>count</th>\n",
       "    </tr>\n",
       "  </thead>\n",
       "  <tbody>\n",
       "    <tr>\n",
       "      <th>0</th>\n",
       "      <td>2011-01-01 00:00:00</td>\n",
       "      <td>1</td>\n",
       "      <td>0</td>\n",
       "      <td>0</td>\n",
       "      <td>1</td>\n",
       "      <td>9.84</td>\n",
       "      <td>14.395</td>\n",
       "      <td>81</td>\n",
       "      <td>0.0000</td>\n",
       "      <td>3</td>\n",
       "      <td>13</td>\n",
       "      <td>16</td>\n",
       "    </tr>\n",
       "    <tr>\n",
       "      <th>1</th>\n",
       "      <td>2011-01-01 01:00:00</td>\n",
       "      <td>1</td>\n",
       "      <td>0</td>\n",
       "      <td>0</td>\n",
       "      <td>1</td>\n",
       "      <td>9.02</td>\n",
       "      <td>13.635</td>\n",
       "      <td>80</td>\n",
       "      <td>0.0000</td>\n",
       "      <td>8</td>\n",
       "      <td>32</td>\n",
       "      <td>40</td>\n",
       "    </tr>\n",
       "    <tr>\n",
       "      <th>2</th>\n",
       "      <td>2011-01-01 02:00:00</td>\n",
       "      <td>1</td>\n",
       "      <td>0</td>\n",
       "      <td>0</td>\n",
       "      <td>1</td>\n",
       "      <td>9.02</td>\n",
       "      <td>13.635</td>\n",
       "      <td>80</td>\n",
       "      <td>0.0000</td>\n",
       "      <td>5</td>\n",
       "      <td>27</td>\n",
       "      <td>32</td>\n",
       "    </tr>\n",
       "    <tr>\n",
       "      <th>3</th>\n",
       "      <td>2011-01-01 03:00:00</td>\n",
       "      <td>1</td>\n",
       "      <td>0</td>\n",
       "      <td>0</td>\n",
       "      <td>1</td>\n",
       "      <td>9.84</td>\n",
       "      <td>14.395</td>\n",
       "      <td>75</td>\n",
       "      <td>0.0000</td>\n",
       "      <td>3</td>\n",
       "      <td>10</td>\n",
       "      <td>13</td>\n",
       "    </tr>\n",
       "    <tr>\n",
       "      <th>4</th>\n",
       "      <td>2011-01-01 04:00:00</td>\n",
       "      <td>1</td>\n",
       "      <td>0</td>\n",
       "      <td>0</td>\n",
       "      <td>1</td>\n",
       "      <td>9.84</td>\n",
       "      <td>14.395</td>\n",
       "      <td>75</td>\n",
       "      <td>0.0000</td>\n",
       "      <td>0</td>\n",
       "      <td>1</td>\n",
       "      <td>1</td>\n",
       "    </tr>\n",
       "    <tr>\n",
       "      <th>...</th>\n",
       "      <td>...</td>\n",
       "      <td>...</td>\n",
       "      <td>...</td>\n",
       "      <td>...</td>\n",
       "      <td>...</td>\n",
       "      <td>...</td>\n",
       "      <td>...</td>\n",
       "      <td>...</td>\n",
       "      <td>...</td>\n",
       "      <td>...</td>\n",
       "      <td>...</td>\n",
       "      <td>...</td>\n",
       "    </tr>\n",
       "    <tr>\n",
       "      <th>10881</th>\n",
       "      <td>2012-12-19 19:00:00</td>\n",
       "      <td>4</td>\n",
       "      <td>0</td>\n",
       "      <td>1</td>\n",
       "      <td>1</td>\n",
       "      <td>15.58</td>\n",
       "      <td>19.695</td>\n",
       "      <td>50</td>\n",
       "      <td>26.0027</td>\n",
       "      <td>7</td>\n",
       "      <td>329</td>\n",
       "      <td>336</td>\n",
       "    </tr>\n",
       "    <tr>\n",
       "      <th>10882</th>\n",
       "      <td>2012-12-19 20:00:00</td>\n",
       "      <td>4</td>\n",
       "      <td>0</td>\n",
       "      <td>1</td>\n",
       "      <td>1</td>\n",
       "      <td>14.76</td>\n",
       "      <td>17.425</td>\n",
       "      <td>57</td>\n",
       "      <td>15.0013</td>\n",
       "      <td>10</td>\n",
       "      <td>231</td>\n",
       "      <td>241</td>\n",
       "    </tr>\n",
       "    <tr>\n",
       "      <th>10883</th>\n",
       "      <td>2012-12-19 21:00:00</td>\n",
       "      <td>4</td>\n",
       "      <td>0</td>\n",
       "      <td>1</td>\n",
       "      <td>1</td>\n",
       "      <td>13.94</td>\n",
       "      <td>15.910</td>\n",
       "      <td>61</td>\n",
       "      <td>15.0013</td>\n",
       "      <td>4</td>\n",
       "      <td>164</td>\n",
       "      <td>168</td>\n",
       "    </tr>\n",
       "    <tr>\n",
       "      <th>10884</th>\n",
       "      <td>2012-12-19 22:00:00</td>\n",
       "      <td>4</td>\n",
       "      <td>0</td>\n",
       "      <td>1</td>\n",
       "      <td>1</td>\n",
       "      <td>13.94</td>\n",
       "      <td>17.425</td>\n",
       "      <td>61</td>\n",
       "      <td>6.0032</td>\n",
       "      <td>12</td>\n",
       "      <td>117</td>\n",
       "      <td>129</td>\n",
       "    </tr>\n",
       "    <tr>\n",
       "      <th>10885</th>\n",
       "      <td>2012-12-19 23:00:00</td>\n",
       "      <td>4</td>\n",
       "      <td>0</td>\n",
       "      <td>1</td>\n",
       "      <td>1</td>\n",
       "      <td>13.12</td>\n",
       "      <td>16.665</td>\n",
       "      <td>66</td>\n",
       "      <td>8.9981</td>\n",
       "      <td>4</td>\n",
       "      <td>84</td>\n",
       "      <td>88</td>\n",
       "    </tr>\n",
       "  </tbody>\n",
       "</table>\n",
       "<p>10886 rows × 12 columns</p>\n",
       "</div>"
      ],
      "text/plain": [
       "                  datetime  season  holiday  workingday  weather   temp  \\\n",
       "0      2011-01-01 00:00:00       1        0           0        1   9.84   \n",
       "1      2011-01-01 01:00:00       1        0           0        1   9.02   \n",
       "2      2011-01-01 02:00:00       1        0           0        1   9.02   \n",
       "3      2011-01-01 03:00:00       1        0           0        1   9.84   \n",
       "4      2011-01-01 04:00:00       1        0           0        1   9.84   \n",
       "...                    ...     ...      ...         ...      ...    ...   \n",
       "10881  2012-12-19 19:00:00       4        0           1        1  15.58   \n",
       "10882  2012-12-19 20:00:00       4        0           1        1  14.76   \n",
       "10883  2012-12-19 21:00:00       4        0           1        1  13.94   \n",
       "10884  2012-12-19 22:00:00       4        0           1        1  13.94   \n",
       "10885  2012-12-19 23:00:00       4        0           1        1  13.12   \n",
       "\n",
       "        atemp  humidity  windspeed  casual  registered  count  \n",
       "0      14.395        81     0.0000       3          13     16  \n",
       "1      13.635        80     0.0000       8          32     40  \n",
       "2      13.635        80     0.0000       5          27     32  \n",
       "3      14.395        75     0.0000       3          10     13  \n",
       "4      14.395        75     0.0000       0           1      1  \n",
       "...       ...       ...        ...     ...         ...    ...  \n",
       "10881  19.695        50    26.0027       7         329    336  \n",
       "10882  17.425        57    15.0013      10         231    241  \n",
       "10883  15.910        61    15.0013       4         164    168  \n",
       "10884  17.425        61     6.0032      12         117    129  \n",
       "10885  16.665        66     8.9981       4          84     88  \n",
       "\n",
       "[10886 rows x 12 columns]"
      ]
     },
     "execution_count": 23,
     "metadata": {},
     "output_type": "execute_result"
    }
   ],
   "source": [
    "bike.info()\n",
    "bike"
   ]
  },
  {
   "cell_type": "markdown",
   "metadata": {},
   "source": [
    "# 2. Datatime 칼럼 변환"
   ]
  },
  {
   "cell_type": "code",
   "execution_count": 24,
   "metadata": {},
   "outputs": [
    {
     "name": "stdout",
     "output_type": "stream",
     "text": [
      "<class 'pandas.core.frame.DataFrame'>\n",
      "RangeIndex: 10886 entries, 0 to 10885\n",
      "Data columns (total 12 columns):\n",
      " #   Column      Non-Null Count  Dtype         \n",
      "---  ------      --------------  -----         \n",
      " 0   datetime    10886 non-null  datetime64[ns]\n",
      " 1   season      10886 non-null  int64         \n",
      " 2   holiday     10886 non-null  int64         \n",
      " 3   workingday  10886 non-null  int64         \n",
      " 4   weather     10886 non-null  int64         \n",
      " 5   temp        10886 non-null  float64       \n",
      " 6   atemp       10886 non-null  float64       \n",
      " 7   humidity    10886 non-null  int64         \n",
      " 8   windspeed   10886 non-null  float64       \n",
      " 9   casual      10886 non-null  int64         \n",
      " 10  registered  10886 non-null  int64         \n",
      " 11  count       10886 non-null  int64         \n",
      "dtypes: datetime64[ns](1), float64(3), int64(8)\n",
      "memory usage: 1020.7 KB\n"
     ]
    }
   ],
   "source": [
    "# 자료형으로 전환\n",
    "bike['datetime'] = pd.to_datetime(bike['datetime'])\n",
    "bike.info() # 변환 확인"
   ]
  },
  {
   "cell_type": "code",
   "execution_count": 25,
   "metadata": {},
   "outputs": [],
   "source": [
    "# 각 시간별 컬럼 생성\n",
    "bike['year'] = bike['datetime'].dt.year\n",
    "bike['month'] = bike['datetime'].dt.month\n",
    "bike['day'] = bike['datetime'].dt.day\n",
    "bike['hour'] = bike['datetime'].dt.hour\n",
    "bike['minute'] = bike['datetime'].dt.minute\n",
    "bike['second'] = bike['datetime'].dt.second\n",
    "\n",
    "# 기존 datetime 컬럼 삭제\n",
    "del bike['datetime']"
   ]
  },
  {
   "cell_type": "code",
   "execution_count": 26,
   "metadata": {},
   "outputs": [
    {
     "name": "stdout",
     "output_type": "stream",
     "text": [
      "<class 'pandas.core.frame.DataFrame'>\n",
      "RangeIndex: 10886 entries, 0 to 10885\n",
      "Data columns (total 17 columns):\n",
      " #   Column      Non-Null Count  Dtype  \n",
      "---  ------      --------------  -----  \n",
      " 0   season      10886 non-null  int64  \n",
      " 1   holiday     10886 non-null  int64  \n",
      " 2   workingday  10886 non-null  int64  \n",
      " 3   weather     10886 non-null  int64  \n",
      " 4   temp        10886 non-null  float64\n",
      " 5   atemp       10886 non-null  float64\n",
      " 6   humidity    10886 non-null  int64  \n",
      " 7   windspeed   10886 non-null  float64\n",
      " 8   casual      10886 non-null  int64  \n",
      " 9   registered  10886 non-null  int64  \n",
      " 10  count       10886 non-null  int64  \n",
      " 11  year        10886 non-null  int64  \n",
      " 12  month       10886 non-null  int64  \n",
      " 13  day         10886 non-null  int64  \n",
      " 14  hour        10886 non-null  int64  \n",
      " 15  minute      10886 non-null  int64  \n",
      " 16  second      10886 non-null  int64  \n",
      "dtypes: float64(3), int64(14)\n",
      "memory usage: 1.4 MB\n"
     ]
    }
   ],
   "source": [
    "# 컬럼 생성 확인 \n",
    "bike.info()"
   ]
  },
  {
   "cell_type": "code",
   "execution_count": 27,
   "metadata": {},
   "outputs": [
    {
     "data": {
      "text/plain": [
       "season        0\n",
       "holiday       0\n",
       "workingday    0\n",
       "weather       0\n",
       "temp          0\n",
       "atemp         0\n",
       "humidity      0\n",
       "windspeed     0\n",
       "casual        0\n",
       "registered    0\n",
       "count         0\n",
       "year          0\n",
       "month         0\n",
       "day           0\n",
       "hour          0\n",
       "minute        0\n",
       "second        0\n",
       "dtype: int64"
      ]
     },
     "execution_count": 27,
     "metadata": {},
     "output_type": "execute_result"
    }
   ],
   "source": [
    "# 결측치 확인\n",
    "bike.isnull().sum()"
   ]
  },
  {
   "cell_type": "markdown",
   "metadata": {},
   "source": [
    "# 3. datatime 데이터 개수 시각화"
   ]
  },
  {
   "cell_type": "code",
   "execution_count": 28,
   "metadata": {},
   "outputs": [
    {
     "name": "stdout",
     "output_type": "stream",
     "text": [
      "[2011 2012]\n",
      "[ 1  2  3  4  5  6  7  8  9 10 11 12]\n",
      "[ 1  2  3  4  5  6  7  8  9 10 11 12 13 14 15 16 17 18 19]\n",
      "[ 0  1  2  3  4  5  6  7  8  9 10 11 12 13 14 15 16 17 18 19 20 21 22 23]\n",
      "[0]\n",
      "[0]\n"
     ]
    }
   ],
   "source": [
    "# 각 컬럼별 유니크 확인 \n",
    "print(bike['year'].unique())\n",
    "print(bike['month'].unique())\n",
    "print(bike['day'].unique())\n",
    "print(bike['hour'].unique())\n",
    "print(bike['minute'].unique())\n",
    "print(bike['second'].unique())"
   ]
  },
  {
   "cell_type": "code",
   "execution_count": 29,
   "metadata": {},
   "outputs": [
    {
     "data": {
      "image/png": "[encoded data removed]",
      "text/plain": [
       "<Figure size 1296x1080 with 6 Axes>"
      ]
     },
     "metadata": {
      "needs_background": "light"
     },
     "output_type": "display_data"
    }
   ],
   "source": [
    "# 경고메세지 삭제 처리\n",
    "import warnings\n",
    "warnings.filterwarnings(action='ignore')\n",
    "\n",
    "# 그래프 그리기\n",
    "f, ax = plt.subplots(2,3, figsize = (18,15))\n",
    "\n",
    "sns.countplot(bike['year'],ax = ax[0,0])\n",
    "sns.countplot(bike['month'],ax = ax[0,1])\n",
    "sns.countplot(bike['day'],ax = ax[0,2])\n",
    "sns.countplot(bike['hour'],ax = ax[1,0])\n",
    "sns.countplot(bike['minute'],ax = ax[1,1])\n",
    "sns.countplot(bike['second'],ax = ax[1,2])\n",
    "\n",
    "# 각 그래프별 제목 작성 \n",
    "ax[0,0].set_title('Year',weight=\"bold\",fontsize = 22)\n",
    "ax[0,1].set_title('Month',weight=\"bold\",fontsize = 22)\n",
    "ax[0,2].set_title('Day',weight=\"bold\",fontsize = 22)\n",
    "ax[1,0].set_title('Hour',weight=\"bold\",fontsize = 22)\n",
    "ax[1,1].set_title('Minute',weight=\"bold\",fontsize = 22)\n",
    "ax[1,2].set_title('Second',weight=\"bold\",fontsize = 22)\n",
    "\n",
    "# 각 그래프 별 x축 이름 삭제 \n",
    "ax[0,0].axes.set_xlabel('')\n",
    "ax[0,1].axes.set_xlabel('')\n",
    "ax[0,2].axes.set_xlabel('')\n",
    "ax[1,0].axes.set_xlabel('')\n",
    "ax[1,1].axes.set_xlabel('')\n",
    "ax[1,2].axes.set_xlabel('')\n",
    "\n",
    "# 1,4번째만 남기고 그래프 별 y축 이름 삭제\n",
    "ax[0,1].axes.set_ylabel('')\n",
    "ax[0,2].axes.set_ylabel('')\n",
    "ax[1,1].axes.set_ylabel('')\n",
    "ax[1,2].axes.set_ylabel('')\n",
    "\n",
    "warnings.filterwarnings(action='default')"
   ]
  },
  {
   "cell_type": "markdown",
   "metadata": {},
   "source": [
    "# 4. 데이터 분리"
   ]
  },
  {
   "cell_type": "markdown",
   "metadata": {},
   "source": [
    "- minute, second 데이터는 모두 0값을 가지므로 삭제\n",
    "- Count와 나머지 feature의 상관계수를 확인하여 상관계수가 작은 컬럼 삭제"
   ]
  },
  {
   "cell_type": "code",
   "execution_count": 30,
   "metadata": {},
   "outputs": [
    {
     "name": "stderr",
     "output_type": "stream",
     "text": [
      "/Users/keonkookkim/opt/anaconda3/lib/python3.8/site-packages/ipykernel/ipkernel.py:287: DeprecationWarning: `should_run_async` will not call `transform_cell` automatically in the future. Please pass the result to `transformed_cell` argument and any exception that happen during thetransform in `preprocessing_exc_tuple` in IPython 7.17 and above.\n",
      "  and should_run_async(code)\n"
     ]
    }
   ],
   "source": [
    "del bike['minute']\n",
    "del bike['second']"
   ]
  },
  {
   "cell_type": "markdown",
   "metadata": {},
   "source": [
    "- 상관계수 확인을 위한 히트맵 그래프 생성"
   ]
  },
  {
   "cell_type": "code",
   "execution_count": 31,
   "metadata": {},
   "outputs": [
    {
     "name": "stderr",
     "output_type": "stream",
     "text": [
      "<ipython-input-31-d24733376863>:5: DeprecationWarning: `np.bool` is a deprecated alias for the builtin `bool`. To silence this warning, use `bool` by itself. Doing this will not modify any behavior and is safe. If you specifically wanted the numpy scalar type, use `np.bool_` here.\n",
      "Deprecated in NumPy 1.20; for more details and guidance: https://numpy.org/devdocs/release/1.20.0-notes.html#deprecations\n",
      "  mask = np.zeros_like(bike.corr(), dtype=np.bool)\n"
     ]
    },
    {
     "data": {
      "text/plain": [
       "(array([ 0.5,  1.5,  2.5,  3.5,  4.5,  5.5,  6.5,  7.5,  8.5,  9.5, 10.5,\n",
       "        11.5, 12.5, 13.5, 14.5]),\n",
       " [Text(0.5, 0, 'season'),\n",
       "  Text(1.5, 0, 'holiday'),\n",
       "  Text(2.5, 0, 'workingday'),\n",
       "  Text(3.5, 0, 'weather'),\n",
       "  Text(4.5, 0, 'temp'),\n",
       "  Text(5.5, 0, 'atemp'),\n",
       "  Text(6.5, 0, 'humidity'),\n",
       "  Text(7.5, 0, 'windspeed'),\n",
       "  Text(8.5, 0, 'casual'),\n",
       "  Text(9.5, 0, 'registered'),\n",
       "  Text(10.5, 0, 'count'),\n",
       "  Text(11.5, 0, 'year'),\n",
       "  Text(12.5, 0, 'month'),\n",
       "  Text(13.5, 0, 'day'),\n",
       "  Text(14.5, 0, 'hour')])"
      ]
     },
     "execution_count": 31,
     "metadata": {},
     "output_type": "execute_result"
    },
    {
     "data": {
      "image/png": "[encoded data removed]",
      "text/plain": [
       "<Figure size 1080x1080 with 2 Axes>"
      ]
     },
     "metadata": {
      "needs_background": "light"
     },
     "output_type": "display_data"
    }
   ],
   "source": [
    "# 상관계수 확인\n",
    "plt.figure(figsize=(15,15))\n",
    "\n",
    "# 삼각형 마스크를 만든다(위 쪽 삼각형에 True, 아래 삼각형에 False)\n",
    "mask = np.zeros_like(bike.corr(), dtype=np.bool)\n",
    "mask[np.triu_indices_from(mask)] = True # 위쪽 삼각형 True 아래쪽 삼각형 False\n",
    "\n",
    "sns.heatmap(data = bike.corr(), annot=True,  # annot : 실제값 그리기 \n",
    "mask = mask , fmt = '.2f', linewidths=.5, cmap='Blues') # mask = 표시하지 않을 부분 지정\n",
    "plt.xticks(rotation = 30)\n"
   ]
  },
  {
   "cell_type": "markdown",
   "metadata": {},
   "source": [
    "<img src = \"data:image/jpeg;base64,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\">"
   ]
  },
  {
   "cell_type": "markdown",
   "metadata": {},
   "source": [
    "### 상관계수를 기준으로한 데이터 제거\n",
    "\n",
    "- 상관계수를 비교한 결과 위 이미지의 기준을 토대로 제거하려 하였으나  \n",
    "  기준점을 낮춰서 ± 0.01 < 상관계수 < ± 0.1 사이의 상관계수만 제거하려 한다.  \n",
    "  제거 목록: holiday, workingday, day"
   ]
  },
  {
   "cell_type": "code",
   "execution_count": 32,
   "metadata": {},
   "outputs": [],
   "source": [
    "# 상관계수에 따른 데이터 제거\n",
    "bike_df = bike.copy()\n",
    "\n",
    "del bike_df['holiday']\n",
    "del bike_df['workingday']\n",
    "del bike_df['day']\n",
    "del bike_df['count']"
   ]
  },
  {
   "cell_type": "code",
   "execution_count": 33,
   "metadata": {},
   "outputs": [
    {
     "name": "stdout",
     "output_type": "stream",
     "text": [
      "(10886, 11)\n",
      "(10886,)\n"
     ]
    }
   ],
   "source": [
    "# X,y값 저장\n",
    "X = bike_df\n",
    "y = bike['count']\n",
    "\n",
    "# 크기 확인\n",
    "print(X.shape)\n",
    "print(y.shape)"
   ]
  },
  {
   "cell_type": "code",
   "execution_count": 34,
   "metadata": {},
   "outputs": [
    {
     "name": "stdout",
     "output_type": "stream",
     "text": [
      "X_train 개수: 8708 X_test 개수: 2178\n"
     ]
    }
   ],
   "source": [
    "# 데이터 분리\n",
    "X_train, X_test, y_train, y_test = train_test_split(X, y, test_size=0.2, random_state= 27)\n",
    "\n",
    "print('X_train 개수:', len(X_train), 'X_test 개수:', len(X_test))"
   ]
  },
  {
   "cell_type": "markdown",
   "metadata": {},
   "source": [
    "# 5. 로지스틱 회귀분석 모델학습"
   ]
  },
  {
   "cell_type": "code",
   "execution_count": 35,
   "metadata": {},
   "outputs": [],
   "source": [
    "# 선형함수 모델 선택\n",
    "from sklearn.linear_model import LinearRegression\n",
    "model = LinearRegression()\n",
    "\n",
    "# 모델 학습\n",
    "model.fit(X_train, y_train)\n",
    "\n",
    "# 예측값 \n",
    "predictions = model.predict(X_test)"
   ]
  },
  {
   "cell_type": "markdown",
   "metadata": {},
   "source": [
    "# 6. X_test에 대한 예측값 출력 및 손실함수 계산"
   ]
  },
  {
   "cell_type": "code",
   "execution_count": 36,
   "metadata": {},
   "outputs": [
    {
     "name": "stderr",
     "output_type": "stream",
     "text": [
      "/Users/keonkookkim/opt/anaconda3/lib/python3.8/site-packages/ipykernel/ipkernel.py:287: DeprecationWarning: `should_run_async` will not call `transform_cell` automatically in the future. Please pass the result to `transformed_cell` argument and any exception that happen during thetransform in `preprocessing_exc_tuple` in IPython 7.17 and above.\n",
      "  and should_run_async(code)\n"
     ]
    },
    {
     "data": {
      "image/png": "[encoded data removed]",
      "text/plain": [
       "<Figure size 432x288 with 1 Axes>"
      ]
     },
     "metadata": {
      "needs_background": "light"
     },
     "output_type": "display_data"
    },
    {
     "data": {
      "image/png": "[encoded data removed]",
      "text/plain": [
       "<Figure size 432x288 with 1 Axes>"
      ]
     },
     "metadata": {
      "needs_background": "light"
     },
     "output_type": "display_data"
    }
   ],
   "source": [
    "# mse값 추출\n",
    "from sklearn.metrics import mean_squared_error\n",
    "mse = mean_squared_error(y_test, predictions)\n",
    "\n",
    "# rmse값 추출\n",
    "rmse = (mean_squared_error(y_test, predictions)) ** 0.5\n",
    "\n",
    "# 그래프 그리기\n",
    "plt.scatter(X_test.loc[:,'temp'], y_test, label=\"true\")\n",
    "plt.scatter(X_test.loc[:,'temp'], predictions, label=\"pred\")\n",
    "plt.legend()\n",
    "plt.show()\n",
    "\n",
    "plt.scatter(X_test.loc[:,'humidity'], y_test, label=\"true\")\n",
    "plt.scatter(X_test.loc[:,'humidity'], predictions, label=\"pred\")\n",
    "plt.legend()\n",
    "plt.show()"
   ]
  },
  {
   "cell_type": "code",
   "execution_count": 37,
   "metadata": {},
   "outputs": [
    {
     "name": "stdout",
     "output_type": "stream",
     "text": [
      "1.5608665346578058e-24\n",
      "1.2493464430084258e-12\n"
     ]
    },
    {
     "name": "stderr",
     "output_type": "stream",
     "text": [
      "/Users/keonkookkim/opt/anaconda3/lib/python3.8/site-packages/ipykernel/ipkernel.py:287: DeprecationWarning: `should_run_async` will not call `transform_cell` automatically in the future. Please pass the result to `transformed_cell` argument and any exception that happen during thetransform in `preprocessing_exc_tuple` in IPython 7.17 and above.\n",
      "  and should_run_async(code)\n"
     ]
    }
   ],
   "source": [
    "print(mse)\n",
    "print(rmse)"
   ]
  },
  {
   "cell_type": "markdown",
   "metadata": {},
   "source": [
    "해당 그래프를 보면 실제값(파란색)과 예측값(주황색)이 모두 일치하는 그래프를 볼 수 있다. \n",
    "높은 정확성을 보인다고 말할 수 있지만, 반대로 의심 또한 해봐야 한다.\n"
   ]
  },
  {
   "cell_type": "markdown",
   "metadata": {},
   "source": [
    "### feature값 제거\n",
    "- casual값과 registered값은 해당 두 값을 더했을 때, count값이 나오는 지표로써 상관계수가 매우 높음을 알 수 있다.  \n",
    "  그리하여 해당 두가지 값도 추가적으로 제거 했을 때, RMSE / MSE 값의 변화를 알아보고자 한다\n",
    "    \n",
    "- 제거 대상: casual, registered, holiday, workingday, day"
   ]
  },
  {
   "cell_type": "code",
   "execution_count": 38,
   "metadata": {},
   "outputs": [],
   "source": [
    "# 상관계수에 따른 데이터 제거\n",
    "bike_df2 = bike.copy()\n",
    "\n",
    "del bike_df2['holiday']\n",
    "del bike_df2['workingday']\n",
    "del bike_df2['day']\n",
    "del bike_df2['count']\n",
    "del bike_df2['casual']\n",
    "del bike_df2['registered']"
   ]
  },
  {
   "cell_type": "code",
   "execution_count": 39,
   "metadata": {},
   "outputs": [
    {
     "name": "stdout",
     "output_type": "stream",
     "text": [
      "(10886, 9)\n",
      "(10886,)\n"
     ]
    }
   ],
   "source": [
    "# X,y값 저장\n",
    "X = bike_df2\n",
    "y = bike['count']\n",
    "\n",
    "# 크기 확인\n",
    "print(X.shape)\n",
    "print(y.shape)"
   ]
  },
  {
   "cell_type": "code",
   "execution_count": 40,
   "metadata": {},
   "outputs": [
    {
     "name": "stdout",
     "output_type": "stream",
     "text": [
      "X_train 개수: 8708 X_test 개수: 2178\n"
     ]
    }
   ],
   "source": [
    "# 데이터 분리\n",
    "X_train2, X_test2, y_train2, y_test2 = train_test_split(X, y, test_size=0.2, random_state= 27)\n",
    "\n",
    "print('X_train 개수:', len(X_train2), 'X_test 개수:', len(X_test2))\n",
    "\n"
   ]
  },
  {
   "cell_type": "code",
   "execution_count": 41,
   "metadata": {},
   "outputs": [
    {
     "data": {
      "image/png": "[encoded data removed]",
      "text/plain": [
       "<Figure size 432x288 with 1 Axes>"
      ]
     },
     "metadata": {
      "needs_background": "light"
     },
     "output_type": "display_data"
    },
    {
     "data": {
      "image/png": "[encoded data removed]",
      "text/plain": [
       "<Figure size 432x288 with 1 Axes>"
      ]
     },
     "metadata": {
      "needs_background": "light"
     },
     "output_type": "display_data"
    }
   ],
   "source": [
    "# 선형함수 모델 선택\n",
    "from sklearn.linear_model import LinearRegression\n",
    "model2 = LinearRegression()\n",
    "\n",
    "# 모델 학습\n",
    "model2.fit(X_train2, y_train2)\n",
    "\n",
    "# 예측값 \n",
    "predictions2 = model2.predict(X_test2)\n",
    "\n",
    "# mse값 추출\n",
    "from sklearn.metrics import mean_squared_error\n",
    "mse2 = mean_squared_error(y_test2, predictions2)\n",
    "\n",
    "# rmse값 추출\n",
    "rmse2 = (mean_squared_error(y_test2, predictions2)) ** 0.5\n",
    "\n",
    "# 그래프 그리기\n",
    "plt.scatter(X_test2.loc[:,'temp'], y_test2, label=\"true\")\n",
    "plt.scatter(X_test2.loc[:,'temp'], predictions2, label=\"pred\")\n",
    "plt.legend()\n",
    "plt.show()\n",
    "\n",
    "plt.scatter(X_test2.loc[:,'humidity'], y_test2, label=\"true\")\n",
    "plt.scatter(X_test2.loc[:,'humidity'], predictions2, label=\"pred\")\n",
    "plt.legend()\n",
    "plt.show()"
   ]
  },
  {
   "cell_type": "code",
   "execution_count": 42,
   "metadata": {},
   "outputs": [
    {
     "name": "stdout",
     "output_type": "stream",
     "text": [
      "상관계수에 따른 데이터 처리 후 MSE 값: 1.5608665346578058e-24\n",
      "상관계수에 따른 데이터 처리 후 RMSE 값: 1.2493464430084258e-12 \n",
      "\n",
      "상관계수 + 추가 데이터 처리 후 MSE 값: 19437.82674789028\n",
      "상관계수 + 추가 데이터 처리 후 RMSE 값: 139.41960675561484\n"
     ]
    },
    {
     "name": "stderr",
     "output_type": "stream",
     "text": [
      "/Users/keonkookkim/opt/anaconda3/lib/python3.8/site-packages/ipykernel/ipkernel.py:287: DeprecationWarning: `should_run_async` will not call `transform_cell` automatically in the future. Please pass the result to `transformed_cell` argument and any exception that happen during thetransform in `preprocessing_exc_tuple` in IPython 7.17 and above.\n",
      "  and should_run_async(code)\n"
     ]
    }
   ],
   "source": [
    "print('상관계수에 따른 데이터 처리 후 MSE 값:' ,mse)\n",
    "print('상관계수에 따른 데이터 처리 후 RMSE 값:',rmse,'\\n')\n",
    "print('상관계수 + 추가 데이터 처리 후 MSE 값:',mse2)\n",
    "print('상관계수 + 추가 데이터 처리 후 RMSE 값:',rmse2)"
   ]
  },
  {
   "cell_type": "markdown",
   "metadata": {},
   "source": [
    "# 결론\n",
    "- 상관계수에 따른 데이터를 처리한 후 모델에 학습하고, 예측하는 과정을 지닌 후 성능을 평가하는값인 RMSE의 값은 다소 작은 값이 나왔다.\n",
    "  하지만 데이터셋을 보면 casual값 + registered값 = count값이 나온다는 것을 알 수 있다.\n",
    "  해당 데이터는 count값과 높은 상관계수가 있으나 정답지인 count값과 비슷한 값을 가지고 있어 모델에 학습이 정확하게 되지 않을 수 있기에  \n",
    "  해당 2가지 값을 제거하고 모델에 학습하는 방법이 더 옳은 방법이라고 생각한다.\n"
   ]
  },
  {
   "cell_type": "markdown",
   "metadata": {},
   "source": [
    "# ----------------------- 자전거 데이터 종료 -----------------------"
   ]
  }
 ],
 "metadata": {
  "interpreter": {
   "hash": "8304a273293ff553923ad58e0bbfbb68d42103ea8ff98bcac614e0d841aefdf2"
  },
  "kernelspec": {
   "display_name": "Python 3.8.8 ('base')",
   "language": "python",
   "name": "python3"
  },
  "language_info": {
   "codemirror_mode": {
    "name": "ipython",
    "version": 3
   },
   "file_extension": ".py",
   "mimetype": "text/x-python",
   "name": "python",
   "nbconvert_exporter": "python",
   "pygments_lexer": "ipython3",
   "version": "3.8.8"
  },
  "orig_nbformat": 4
 },
 "nbformat": 4,
 "nbformat_minor": 2
}
