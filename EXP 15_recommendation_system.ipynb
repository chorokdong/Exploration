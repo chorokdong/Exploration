{
 "cells": [
  {
   "cell_type": "markdown",
   "id": "a1f84a94",
   "metadata": {},
   "source": [
    "----\n",
    "# 1. 데이터 불러오기 및 전처리\n",
    "---"
   ]
  },
  {
   "cell_type": "code",
   "execution_count": 1,
   "id": "e8fd00ef",
   "metadata": {},
   "outputs": [
    {
     "data": {
      "text/html": [
       "<div>\n",
       "<style scoped>\n",
       "    .dataframe tbody tr th:only-of-type {\n",
       "        vertical-align: middle;\n",
       "    }\n",
       "\n",
       "    .dataframe tbody tr th {\n",
       "        vertical-align: top;\n",
       "    }\n",
       "\n",
       "    .dataframe thead th {\n",
       "        text-align: right;\n",
       "    }\n",
       "</style>\n",
       "<table border=\"1\" class=\"dataframe\">\n",
       "  <thead>\n",
       "    <tr style=\"text-align: right;\">\n",
       "      <th></th>\n",
       "      <th>user_id</th>\n",
       "      <th>movie_id</th>\n",
       "      <th>rating</th>\n",
       "      <th>timestamp</th>\n",
       "    </tr>\n",
       "  </thead>\n",
       "  <tbody>\n",
       "    <tr>\n",
       "      <th>0</th>\n",
       "      <td>1</td>\n",
       "      <td>1193</td>\n",
       "      <td>5</td>\n",
       "      <td>978300760</td>\n",
       "    </tr>\n",
       "    <tr>\n",
       "      <th>1</th>\n",
       "      <td>1</td>\n",
       "      <td>661</td>\n",
       "      <td>3</td>\n",
       "      <td>978302109</td>\n",
       "    </tr>\n",
       "    <tr>\n",
       "      <th>2</th>\n",
       "      <td>1</td>\n",
       "      <td>914</td>\n",
       "      <td>3</td>\n",
       "      <td>978301968</td>\n",
       "    </tr>\n",
       "    <tr>\n",
       "      <th>3</th>\n",
       "      <td>1</td>\n",
       "      <td>3408</td>\n",
       "      <td>4</td>\n",
       "      <td>978300275</td>\n",
       "    </tr>\n",
       "    <tr>\n",
       "      <th>4</th>\n",
       "      <td>1</td>\n",
       "      <td>2355</td>\n",
       "      <td>5</td>\n",
       "      <td>978824291</td>\n",
       "    </tr>\n",
       "  </tbody>\n",
       "</table>\n",
       "</div>"
      ],
      "text/plain": [
       "   user_id  movie_id  rating  timestamp\n",
       "0        1      1193       5  978300760\n",
       "1        1       661       3  978302109\n",
       "2        1       914       3  978301968\n",
       "3        1      3408       4  978300275\n",
       "4        1      2355       5  978824291"
      ]
     },
     "execution_count": 1,
     "metadata": {},
     "output_type": "execute_result"
    }
   ],
   "source": [
    "import pandas as pd\n",
    "import os\n",
    "rating_file_path=os.getenv('HOME') + '/aiffel/recommendata_iu/data/ml-1m/ratings.dat'\n",
    "ratings_cols = ['user_id', 'movie_id', 'rating', 'timestamp']\n",
    "ratings = pd.read_csv(rating_file_path, sep='::', names=ratings_cols, engine='python')\n",
    "orginal_data_size = len(ratings)\n",
    "ratings.head()"
   ]
  },
  {
   "cell_type": "code",
   "execution_count": 2,
   "id": "a64b0c52",
   "metadata": {},
   "outputs": [
    {
     "name": "stdout",
     "output_type": "stream",
     "text": [
      "orginal_data_size: 1000209, filtered_data_size: 836478\n",
      "Ratio of Remaining Data is 83.63%\n"
     ]
    }
   ],
   "source": [
    "# 3점 이상만 남깁니다.\n",
    "ratings = ratings[ratings['rating']>=3]\n",
    "filtered_data_size = len(ratings)\n",
    "\n",
    "print(f'orginal_data_size: {orginal_data_size}, filtered_data_size: {filtered_data_size}')\n",
    "print(f'Ratio of Remaining Data is {filtered_data_size / orginal_data_size:.2%}')"
   ]
  },
  {
   "cell_type": "code",
   "execution_count": 3,
   "id": "492cea1f",
   "metadata": {},
   "outputs": [
    {
     "name": "stdout",
     "output_type": "stream",
     "text": [
      "user_id: 6039\n",
      "movie_id: 3628\n",
      "rating kind: [5 3 4]\n",
      "timestamp: 412911\n"
     ]
    }
   ],
   "source": [
    "print('user_id:',ratings['user_id'].nunique())\n",
    "print('movie_id:',ratings['movie_id'].nunique())\n",
    "print('rating kind:',ratings['rating'].unique())\n",
    "print('timestamp:',ratings['timestamp'].nunique())"
   ]
  },
  {
   "cell_type": "markdown",
   "id": "ce9550e5",
   "metadata": {},
   "source": [
    "- 평점이 3점 이상인 데이터만 남았다.  \n",
    "- user_id가 1개 줄어든 것을 보니... 한 유저는 3점 이하의 점수만 준듯 하다..."
   ]
  },
  {
   "cell_type": "code",
   "execution_count": 4,
   "id": "0ccf3d01",
   "metadata": {},
   "outputs": [],
   "source": [
    "# rating 컬럼의 이름을 counts로 바꿉니다.\n",
    "ratings.rename(columns={'rating':'counts'}, inplace=True)"
   ]
  },
  {
   "cell_type": "code",
   "execution_count": 5,
   "id": "b6b30daf",
   "metadata": {},
   "outputs": [
    {
     "data": {
      "text/plain": [
       "0          5\n",
       "1          3\n",
       "2          3\n",
       "3          4\n",
       "4          5\n",
       "          ..\n",
       "1000203    3\n",
       "1000205    5\n",
       "1000206    5\n",
       "1000207    4\n",
       "1000208    4\n",
       "Name: counts, Length: 836478, dtype: int64"
      ]
     },
     "execution_count": 5,
     "metadata": {},
     "output_type": "execute_result"
    }
   ],
   "source": [
    "ratings['counts']"
   ]
  },
  {
   "cell_type": "markdown",
   "id": "0118d4f3",
   "metadata": {},
   "source": [
    "- 사용할 컬럼만 추출 "
   ]
  },
  {
   "cell_type": "code",
   "execution_count": 6,
   "id": "1c69e47f",
   "metadata": {},
   "outputs": [],
   "source": [
    "ratings = ratings[['user_id','movie_id','counts']]"
   ]
  },
  {
   "cell_type": "markdown",
   "id": "bd120700",
   "metadata": {},
   "source": [
    "- 영화 제목을 보기 위해 메타 데이터를 읽어오기"
   ]
  },
  {
   "cell_type": "code",
   "execution_count": 7,
   "id": "c288d3b0",
   "metadata": {},
   "outputs": [
    {
     "data": {
      "text/html": [
       "<div>\n",
       "<style scoped>\n",
       "    .dataframe tbody tr th:only-of-type {\n",
       "        vertical-align: middle;\n",
       "    }\n",
       "\n",
       "    .dataframe tbody tr th {\n",
       "        vertical-align: top;\n",
       "    }\n",
       "\n",
       "    .dataframe thead th {\n",
       "        text-align: right;\n",
       "    }\n",
       "</style>\n",
       "<table border=\"1\" class=\"dataframe\">\n",
       "  <thead>\n",
       "    <tr style=\"text-align: right;\">\n",
       "      <th></th>\n",
       "      <th>movie_id</th>\n",
       "      <th>title</th>\n",
       "      <th>genre</th>\n",
       "    </tr>\n",
       "  </thead>\n",
       "  <tbody>\n",
       "    <tr>\n",
       "      <th>0</th>\n",
       "      <td>1</td>\n",
       "      <td>Toy Story (1995)</td>\n",
       "      <td>Animation|Children's|Comedy</td>\n",
       "    </tr>\n",
       "    <tr>\n",
       "      <th>1</th>\n",
       "      <td>2</td>\n",
       "      <td>Jumanji (1995)</td>\n",
       "      <td>Adventure|Children's|Fantasy</td>\n",
       "    </tr>\n",
       "    <tr>\n",
       "      <th>2</th>\n",
       "      <td>3</td>\n",
       "      <td>Grumpier Old Men (1995)</td>\n",
       "      <td>Comedy|Romance</td>\n",
       "    </tr>\n",
       "    <tr>\n",
       "      <th>3</th>\n",
       "      <td>4</td>\n",
       "      <td>Waiting to Exhale (1995)</td>\n",
       "      <td>Comedy|Drama</td>\n",
       "    </tr>\n",
       "    <tr>\n",
       "      <th>4</th>\n",
       "      <td>5</td>\n",
       "      <td>Father of the Bride Part II (1995)</td>\n",
       "      <td>Comedy</td>\n",
       "    </tr>\n",
       "    <tr>\n",
       "      <th>5</th>\n",
       "      <td>6</td>\n",
       "      <td>Heat (1995)</td>\n",
       "      <td>Action|Crime|Thriller</td>\n",
       "    </tr>\n",
       "    <tr>\n",
       "      <th>6</th>\n",
       "      <td>7</td>\n",
       "      <td>Sabrina (1995)</td>\n",
       "      <td>Comedy|Romance</td>\n",
       "    </tr>\n",
       "    <tr>\n",
       "      <th>7</th>\n",
       "      <td>8</td>\n",
       "      <td>Tom and Huck (1995)</td>\n",
       "      <td>Adventure|Children's</td>\n",
       "    </tr>\n",
       "    <tr>\n",
       "      <th>8</th>\n",
       "      <td>9</td>\n",
       "      <td>Sudden Death (1995)</td>\n",
       "      <td>Action</td>\n",
       "    </tr>\n",
       "    <tr>\n",
       "      <th>9</th>\n",
       "      <td>10</td>\n",
       "      <td>GoldenEye (1995)</td>\n",
       "      <td>Action|Adventure|Thriller</td>\n",
       "    </tr>\n",
       "    <tr>\n",
       "      <th>10</th>\n",
       "      <td>11</td>\n",
       "      <td>American President, The (1995)</td>\n",
       "      <td>Comedy|Drama|Romance</td>\n",
       "    </tr>\n",
       "    <tr>\n",
       "      <th>11</th>\n",
       "      <td>12</td>\n",
       "      <td>Dracula: Dead and Loving It (1995)</td>\n",
       "      <td>Comedy|Horror</td>\n",
       "    </tr>\n",
       "    <tr>\n",
       "      <th>12</th>\n",
       "      <td>13</td>\n",
       "      <td>Balto (1995)</td>\n",
       "      <td>Animation|Children's</td>\n",
       "    </tr>\n",
       "    <tr>\n",
       "      <th>13</th>\n",
       "      <td>14</td>\n",
       "      <td>Nixon (1995)</td>\n",
       "      <td>Drama</td>\n",
       "    </tr>\n",
       "    <tr>\n",
       "      <th>14</th>\n",
       "      <td>15</td>\n",
       "      <td>Cutthroat Island (1995)</td>\n",
       "      <td>Action|Adventure|Romance</td>\n",
       "    </tr>\n",
       "  </tbody>\n",
       "</table>\n",
       "</div>"
      ],
      "text/plain": [
       "    movie_id                               title                         genre\n",
       "0          1                    Toy Story (1995)   Animation|Children's|Comedy\n",
       "1          2                      Jumanji (1995)  Adventure|Children's|Fantasy\n",
       "2          3             Grumpier Old Men (1995)                Comedy|Romance\n",
       "3          4            Waiting to Exhale (1995)                  Comedy|Drama\n",
       "4          5  Father of the Bride Part II (1995)                        Comedy\n",
       "5          6                         Heat (1995)         Action|Crime|Thriller\n",
       "6          7                      Sabrina (1995)                Comedy|Romance\n",
       "7          8                 Tom and Huck (1995)          Adventure|Children's\n",
       "8          9                 Sudden Death (1995)                        Action\n",
       "9         10                    GoldenEye (1995)     Action|Adventure|Thriller\n",
       "10        11      American President, The (1995)          Comedy|Drama|Romance\n",
       "11        12  Dracula: Dead and Loving It (1995)                 Comedy|Horror\n",
       "12        13                        Balto (1995)          Animation|Children's\n",
       "13        14                        Nixon (1995)                         Drama\n",
       "14        15             Cutthroat Island (1995)      Action|Adventure|Romance"
      ]
     },
     "execution_count": 7,
     "metadata": {},
     "output_type": "execute_result"
    }
   ],
   "source": [
    "movie_file_path=os.getenv('HOME') + '/aiffel/recommendata_iu/data/ml-1m/movies.dat'\n",
    "cols = ['movie_id', 'title', 'genre'] \n",
    "movies = pd.read_csv(movie_file_path, sep='::', names=cols, engine='python', encoding='ISO-8859-1')\n",
    "movies.head(15)"
   ]
  },
  {
   "cell_type": "code",
   "execution_count": 8,
   "id": "3c61b627",
   "metadata": {},
   "outputs": [
    {
     "name": "stdout",
     "output_type": "stream",
     "text": [
      "<class 'pandas.core.frame.DataFrame'>\n",
      "RangeIndex: 3883 entries, 0 to 3882\n",
      "Data columns (total 3 columns):\n",
      " #   Column    Non-Null Count  Dtype \n",
      "---  ------    --------------  ----- \n",
      " 0   movie_id  3883 non-null   int64 \n",
      " 1   title     3883 non-null   object\n",
      " 2   genre     3883 non-null   object\n",
      "dtypes: int64(1), object(2)\n",
      "memory usage: 91.1+ KB\n"
     ]
    }
   ],
   "source": [
    "movies.info()"
   ]
  },
  {
   "cell_type": "markdown",
   "id": "6ad85a42",
   "metadata": {},
   "source": [
    "- 데이터 프레임 조인 "
   ]
  },
  {
   "cell_type": "code",
   "execution_count": 9,
   "id": "76eb2e92",
   "metadata": {},
   "outputs": [],
   "source": [
    "ratings_movies = ratings.merge(movies, on='movie_id', how='left')"
   ]
  },
  {
   "cell_type": "markdown",
   "id": "1bc2ec4c",
   "metadata": {},
   "source": [
    "---\n",
    "# 2.데이터 탐색\n",
    "---"
   ]
  },
  {
   "cell_type": "code",
   "execution_count": 10,
   "id": "c93cc607",
   "metadata": {},
   "outputs": [
    {
     "name": "stdout",
     "output_type": "stream",
     "text": [
      "836478\n"
     ]
    },
    {
     "data": {
      "text/html": [
       "<div>\n",
       "<style scoped>\n",
       "    .dataframe tbody tr th:only-of-type {\n",
       "        vertical-align: middle;\n",
       "    }\n",
       "\n",
       "    .dataframe tbody tr th {\n",
       "        vertical-align: top;\n",
       "    }\n",
       "\n",
       "    .dataframe thead th {\n",
       "        text-align: right;\n",
       "    }\n",
       "</style>\n",
       "<table border=\"1\" class=\"dataframe\">\n",
       "  <thead>\n",
       "    <tr style=\"text-align: right;\">\n",
       "      <th></th>\n",
       "      <th>user_id</th>\n",
       "      <th>movie_id</th>\n",
       "      <th>counts</th>\n",
       "      <th>title</th>\n",
       "      <th>genre</th>\n",
       "    </tr>\n",
       "  </thead>\n",
       "  <tbody>\n",
       "    <tr>\n",
       "      <th>0</th>\n",
       "      <td>1</td>\n",
       "      <td>1193</td>\n",
       "      <td>5</td>\n",
       "      <td>One Flew Over the Cuckoo's Nest (1975)</td>\n",
       "      <td>Drama</td>\n",
       "    </tr>\n",
       "    <tr>\n",
       "      <th>1</th>\n",
       "      <td>1</td>\n",
       "      <td>661</td>\n",
       "      <td>3</td>\n",
       "      <td>James and the Giant Peach (1996)</td>\n",
       "      <td>Animation|Children's|Musical</td>\n",
       "    </tr>\n",
       "    <tr>\n",
       "      <th>2</th>\n",
       "      <td>1</td>\n",
       "      <td>914</td>\n",
       "      <td>3</td>\n",
       "      <td>My Fair Lady (1964)</td>\n",
       "      <td>Musical|Romance</td>\n",
       "    </tr>\n",
       "    <tr>\n",
       "      <th>3</th>\n",
       "      <td>1</td>\n",
       "      <td>3408</td>\n",
       "      <td>4</td>\n",
       "      <td>Erin Brockovich (2000)</td>\n",
       "      <td>Drama</td>\n",
       "    </tr>\n",
       "    <tr>\n",
       "      <th>4</th>\n",
       "      <td>1</td>\n",
       "      <td>2355</td>\n",
       "      <td>5</td>\n",
       "      <td>Bug's Life, A (1998)</td>\n",
       "      <td>Animation|Children's|Comedy</td>\n",
       "    </tr>\n",
       "  </tbody>\n",
       "</table>\n",
       "</div>"
      ],
      "text/plain": [
       "   user_id  movie_id  counts                                   title  \\\n",
       "0        1      1193       5  One Flew Over the Cuckoo's Nest (1975)   \n",
       "1        1       661       3        James and the Giant Peach (1996)   \n",
       "2        1       914       3                     My Fair Lady (1964)   \n",
       "3        1      3408       4                  Erin Brockovich (2000)   \n",
       "4        1      2355       5                    Bug's Life, A (1998)   \n",
       "\n",
       "                          genre  \n",
       "0                         Drama  \n",
       "1  Animation|Children's|Musical  \n",
       "2               Musical|Romance  \n",
       "3                         Drama  \n",
       "4   Animation|Children's|Comedy  "
      ]
     },
     "execution_count": 10,
     "metadata": {},
     "output_type": "execute_result"
    }
   ],
   "source": [
    "print(len(ratings_movies))\n",
    "ratings_movies.head()"
   ]
  },
  {
   "cell_type": "code",
   "execution_count": 11,
   "id": "a4ad4866",
   "metadata": {},
   "outputs": [
    {
     "data": {
      "text/plain": [
       "user_id     0\n",
       "movie_id    0\n",
       "counts      0\n",
       "title       0\n",
       "genre       0\n",
       "dtype: int64"
      ]
     },
     "execution_count": 11,
     "metadata": {},
     "output_type": "execute_result"
    }
   ],
   "source": [
    "ratings_movies.isnull().sum()"
   ]
  },
  {
   "cell_type": "markdown",
   "id": "5247bcb8",
   "metadata": {},
   "source": [
    "- 훈련시 사용할 데이터 추출"
   ]
  },
  {
   "cell_type": "code",
   "execution_count": 12,
   "id": "a955a6d3",
   "metadata": {},
   "outputs": [],
   "source": [
    "traing_data = ratings_movies[['user_id','title','counts']] #훈련시 사용하게 될 데이터 컬럼을 추출해 놓음."
   ]
  },
  {
   "cell_type": "markdown",
   "id": "048e1de2",
   "metadata": {},
   "source": [
    "---\n",
    "### 2-1 데이터 분석\n",
    "---"
   ]
  },
  {
   "cell_type": "markdown",
   "id": "c4afc0fb",
   "metadata": {},
   "source": [
    "- 유저 데이터 수"
   ]
  },
  {
   "cell_type": "code",
   "execution_count": 13,
   "id": "452a665b",
   "metadata": {},
   "outputs": [
    {
     "data": {
      "text/plain": [
       "3628"
      ]
     },
     "execution_count": 13,
     "metadata": {},
     "output_type": "execute_result"
    }
   ],
   "source": [
    "num_movie = ratings_movies['movie_id'].nunique()\n",
    "num_movie"
   ]
  },
  {
   "cell_type": "markdown",
   "id": "53a56636",
   "metadata": {},
   "source": [
    "- 영화 데이터 수 "
   ]
  },
  {
   "cell_type": "code",
   "execution_count": 14,
   "id": "3b048d9d",
   "metadata": {},
   "outputs": [
    {
     "data": {
      "text/plain": [
       "6039"
      ]
     },
     "execution_count": 14,
     "metadata": {},
     "output_type": "execute_result"
    }
   ],
   "source": [
    "num_user = ratings_movies['user_id'].nunique()\n",
    "num_user"
   ]
  },
  {
   "cell_type": "code",
   "execution_count": 15,
   "id": "16354364",
   "metadata": {},
   "outputs": [
    {
     "data": {
      "text/plain": [
       "movie_id\n",
       "2858    3211\n",
       "260     2910\n",
       "1196    2885\n",
       "1210    2716\n",
       "2028    2561\n",
       "Name: counts, dtype: int64"
      ]
     },
     "execution_count": 15,
     "metadata": {},
     "output_type": "execute_result"
    }
   ],
   "source": [
    "movie_counts = ratings_movies.groupby('movie_id')['counts'].count()\n",
    "movie_counts_top30 = movie_counts.sort_values(ascending=False).head(30)\n",
    "movie_counts_top30.head()"
   ]
  },
  {
   "cell_type": "code",
   "execution_count": 16,
   "id": "0adf5315",
   "metadata": {},
   "outputs": [],
   "source": [
    "df = pd.DataFrame(data = movie_counts_top30\n",
    "                ,index = movie_counts_top30.index)"
   ]
  },
  {
   "cell_type": "markdown",
   "id": "35d41630",
   "metadata": {},
   "source": [
    "- 상위 30등 영화 데이터 "
   ]
  },
  {
   "cell_type": "code",
   "execution_count": 17,
   "id": "766c8928",
   "metadata": {},
   "outputs": [
    {
     "data": {
      "text/html": [
       "<div>\n",
       "<style scoped>\n",
       "    .dataframe tbody tr th:only-of-type {\n",
       "        vertical-align: middle;\n",
       "    }\n",
       "\n",
       "    .dataframe tbody tr th {\n",
       "        vertical-align: top;\n",
       "    }\n",
       "\n",
       "    .dataframe thead th {\n",
       "        text-align: right;\n",
       "    }\n",
       "</style>\n",
       "<table border=\"1\" class=\"dataframe\">\n",
       "  <thead>\n",
       "    <tr style=\"text-align: right;\">\n",
       "      <th></th>\n",
       "      <th>movie_id</th>\n",
       "      <th>counts</th>\n",
       "      <th>title</th>\n",
       "      <th>genre</th>\n",
       "    </tr>\n",
       "  </thead>\n",
       "  <tbody>\n",
       "    <tr>\n",
       "      <th>0</th>\n",
       "      <td>2858</td>\n",
       "      <td>3211</td>\n",
       "      <td>American Beauty (1999)</td>\n",
       "      <td>Comedy|Drama</td>\n",
       "    </tr>\n",
       "    <tr>\n",
       "      <th>1</th>\n",
       "      <td>260</td>\n",
       "      <td>2910</td>\n",
       "      <td>Star Wars: Episode IV - A New Hope (1977)</td>\n",
       "      <td>Action|Adventure|Fantasy|Sci-Fi</td>\n",
       "    </tr>\n",
       "    <tr>\n",
       "      <th>2</th>\n",
       "      <td>1196</td>\n",
       "      <td>2885</td>\n",
       "      <td>Star Wars: Episode V - The Empire Strikes Back...</td>\n",
       "      <td>Action|Adventure|Drama|Sci-Fi|War</td>\n",
       "    </tr>\n",
       "    <tr>\n",
       "      <th>3</th>\n",
       "      <td>1210</td>\n",
       "      <td>2716</td>\n",
       "      <td>Star Wars: Episode VI - Return of the Jedi (1983)</td>\n",
       "      <td>Action|Adventure|Romance|Sci-Fi|War</td>\n",
       "    </tr>\n",
       "    <tr>\n",
       "      <th>4</th>\n",
       "      <td>2028</td>\n",
       "      <td>2561</td>\n",
       "      <td>Saving Private Ryan (1998)</td>\n",
       "      <td>Action|Drama|War</td>\n",
       "    </tr>\n",
       "    <tr>\n",
       "      <th>5</th>\n",
       "      <td>589</td>\n",
       "      <td>2509</td>\n",
       "      <td>Terminator 2: Judgment Day (1991)</td>\n",
       "      <td>Action|Sci-Fi|Thriller</td>\n",
       "    </tr>\n",
       "    <tr>\n",
       "      <th>6</th>\n",
       "      <td>593</td>\n",
       "      <td>2498</td>\n",
       "      <td>Silence of the Lambs, The (1991)</td>\n",
       "      <td>Drama|Thriller</td>\n",
       "    </tr>\n",
       "    <tr>\n",
       "      <th>7</th>\n",
       "      <td>1198</td>\n",
       "      <td>2473</td>\n",
       "      <td>Raiders of the Lost Ark (1981)</td>\n",
       "      <td>Action|Adventure</td>\n",
       "    </tr>\n",
       "    <tr>\n",
       "      <th>8</th>\n",
       "      <td>1270</td>\n",
       "      <td>2460</td>\n",
       "      <td>Back to the Future (1985)</td>\n",
       "      <td>Comedy|Sci-Fi</td>\n",
       "    </tr>\n",
       "    <tr>\n",
       "      <th>9</th>\n",
       "      <td>2571</td>\n",
       "      <td>2434</td>\n",
       "      <td>Matrix, The (1999)</td>\n",
       "      <td>Action|Sci-Fi|Thriller</td>\n",
       "    </tr>\n",
       "    <tr>\n",
       "      <th>10</th>\n",
       "      <td>480</td>\n",
       "      <td>2413</td>\n",
       "      <td>Jurassic Park (1993)</td>\n",
       "      <td>Action|Adventure|Sci-Fi</td>\n",
       "    </tr>\n",
       "    <tr>\n",
       "      <th>11</th>\n",
       "      <td>2762</td>\n",
       "      <td>2385</td>\n",
       "      <td>Sixth Sense, The (1999)</td>\n",
       "      <td>Thriller</td>\n",
       "    </tr>\n",
       "    <tr>\n",
       "      <th>12</th>\n",
       "      <td>608</td>\n",
       "      <td>2371</td>\n",
       "      <td>Fargo (1996)</td>\n",
       "      <td>Crime|Drama|Thriller</td>\n",
       "    </tr>\n",
       "    <tr>\n",
       "      <th>13</th>\n",
       "      <td>110</td>\n",
       "      <td>2314</td>\n",
       "      <td>Braveheart (1995)</td>\n",
       "      <td>Action|Drama|War</td>\n",
       "    </tr>\n",
       "    <tr>\n",
       "      <th>14</th>\n",
       "      <td>1580</td>\n",
       "      <td>2297</td>\n",
       "      <td>Men in Black (1997)</td>\n",
       "      <td>Action|Adventure|Comedy|Sci-Fi</td>\n",
       "    </tr>\n",
       "    <tr>\n",
       "      <th>15</th>\n",
       "      <td>527</td>\n",
       "      <td>2257</td>\n",
       "      <td>Schindler's List (1993)</td>\n",
       "      <td>Drama|War</td>\n",
       "    </tr>\n",
       "    <tr>\n",
       "      <th>16</th>\n",
       "      <td>1197</td>\n",
       "      <td>2252</td>\n",
       "      <td>Princess Bride, The (1987)</td>\n",
       "      <td>Action|Adventure|Comedy|Romance</td>\n",
       "    </tr>\n",
       "    <tr>\n",
       "      <th>17</th>\n",
       "      <td>2396</td>\n",
       "      <td>2213</td>\n",
       "      <td>Shakespeare in Love (1998)</td>\n",
       "      <td>Comedy|Romance</td>\n",
       "    </tr>\n",
       "    <tr>\n",
       "      <th>18</th>\n",
       "      <td>1617</td>\n",
       "      <td>2210</td>\n",
       "      <td>L.A. Confidential (1997)</td>\n",
       "      <td>Crime|Film-Noir|Mystery|Thriller</td>\n",
       "    </tr>\n",
       "    <tr>\n",
       "      <th>19</th>\n",
       "      <td>318</td>\n",
       "      <td>2194</td>\n",
       "      <td>Shawshank Redemption, The (1994)</td>\n",
       "      <td>Drama</td>\n",
       "    </tr>\n",
       "    <tr>\n",
       "      <th>20</th>\n",
       "      <td>858</td>\n",
       "      <td>2167</td>\n",
       "      <td>Godfather, The (1972)</td>\n",
       "      <td>Action|Crime|Drama</td>\n",
       "    </tr>\n",
       "    <tr>\n",
       "      <th>21</th>\n",
       "      <td>1265</td>\n",
       "      <td>2121</td>\n",
       "      <td>Groundhog Day (1993)</td>\n",
       "      <td>Comedy|Romance</td>\n",
       "    </tr>\n",
       "    <tr>\n",
       "      <th>22</th>\n",
       "      <td>1097</td>\n",
       "      <td>2102</td>\n",
       "      <td>E.T. the Extra-Terrestrial (1982)</td>\n",
       "      <td>Children's|Drama|Fantasy|Sci-Fi</td>\n",
       "    </tr>\n",
       "    <tr>\n",
       "      <th>23</th>\n",
       "      <td>2997</td>\n",
       "      <td>2066</td>\n",
       "      <td>Being John Malkovich (1999)</td>\n",
       "      <td>Comedy</td>\n",
       "    </tr>\n",
       "    <tr>\n",
       "      <th>24</th>\n",
       "      <td>2716</td>\n",
       "      <td>2051</td>\n",
       "      <td>Ghostbusters (1984)</td>\n",
       "      <td>Comedy|Horror</td>\n",
       "    </tr>\n",
       "    <tr>\n",
       "      <th>25</th>\n",
       "      <td>296</td>\n",
       "      <td>2030</td>\n",
       "      <td>Pulp Fiction (1994)</td>\n",
       "      <td>Crime|Drama</td>\n",
       "    </tr>\n",
       "    <tr>\n",
       "      <th>26</th>\n",
       "      <td>356</td>\n",
       "      <td>2022</td>\n",
       "      <td>Forrest Gump (1994)</td>\n",
       "      <td>Comedy|Romance|War</td>\n",
       "    </tr>\n",
       "    <tr>\n",
       "      <th>27</th>\n",
       "      <td>1240</td>\n",
       "      <td>2019</td>\n",
       "      <td>Terminator, The (1984)</td>\n",
       "      <td>Action|Sci-Fi|Thriller</td>\n",
       "    </tr>\n",
       "    <tr>\n",
       "      <th>28</th>\n",
       "      <td>1</td>\n",
       "      <td>2000</td>\n",
       "      <td>Toy Story (1995)</td>\n",
       "      <td>Animation|Children's|Comedy</td>\n",
       "    </tr>\n",
       "    <tr>\n",
       "      <th>29</th>\n",
       "      <td>457</td>\n",
       "      <td>1941</td>\n",
       "      <td>Fugitive, The (1993)</td>\n",
       "      <td>Action|Thriller</td>\n",
       "    </tr>\n",
       "  </tbody>\n",
       "</table>\n",
       "</div>"
      ],
      "text/plain": [
       "    movie_id  counts                                              title  \\\n",
       "0       2858    3211                             American Beauty (1999)   \n",
       "1        260    2910          Star Wars: Episode IV - A New Hope (1977)   \n",
       "2       1196    2885  Star Wars: Episode V - The Empire Strikes Back...   \n",
       "3       1210    2716  Star Wars: Episode VI - Return of the Jedi (1983)   \n",
       "4       2028    2561                         Saving Private Ryan (1998)   \n",
       "5        589    2509                  Terminator 2: Judgment Day (1991)   \n",
       "6        593    2498                   Silence of the Lambs, The (1991)   \n",
       "7       1198    2473                     Raiders of the Lost Ark (1981)   \n",
       "8       1270    2460                          Back to the Future (1985)   \n",
       "9       2571    2434                                 Matrix, The (1999)   \n",
       "10       480    2413                               Jurassic Park (1993)   \n",
       "11      2762    2385                            Sixth Sense, The (1999)   \n",
       "12       608    2371                                       Fargo (1996)   \n",
       "13       110    2314                                  Braveheart (1995)   \n",
       "14      1580    2297                                Men in Black (1997)   \n",
       "15       527    2257                            Schindler's List (1993)   \n",
       "16      1197    2252                         Princess Bride, The (1987)   \n",
       "17      2396    2213                         Shakespeare in Love (1998)   \n",
       "18      1617    2210                           L.A. Confidential (1997)   \n",
       "19       318    2194                   Shawshank Redemption, The (1994)   \n",
       "20       858    2167                              Godfather, The (1972)   \n",
       "21      1265    2121                               Groundhog Day (1993)   \n",
       "22      1097    2102                  E.T. the Extra-Terrestrial (1982)   \n",
       "23      2997    2066                        Being John Malkovich (1999)   \n",
       "24      2716    2051                                Ghostbusters (1984)   \n",
       "25       296    2030                                Pulp Fiction (1994)   \n",
       "26       356    2022                                Forrest Gump (1994)   \n",
       "27      1240    2019                             Terminator, The (1984)   \n",
       "28         1    2000                                   Toy Story (1995)   \n",
       "29       457    1941                               Fugitive, The (1993)   \n",
       "\n",
       "                                  genre  \n",
       "0                          Comedy|Drama  \n",
       "1       Action|Adventure|Fantasy|Sci-Fi  \n",
       "2     Action|Adventure|Drama|Sci-Fi|War  \n",
       "3   Action|Adventure|Romance|Sci-Fi|War  \n",
       "4                      Action|Drama|War  \n",
       "5                Action|Sci-Fi|Thriller  \n",
       "6                        Drama|Thriller  \n",
       "7                      Action|Adventure  \n",
       "8                         Comedy|Sci-Fi  \n",
       "9                Action|Sci-Fi|Thriller  \n",
       "10              Action|Adventure|Sci-Fi  \n",
       "11                             Thriller  \n",
       "12                 Crime|Drama|Thriller  \n",
       "13                     Action|Drama|War  \n",
       "14       Action|Adventure|Comedy|Sci-Fi  \n",
       "15                            Drama|War  \n",
       "16      Action|Adventure|Comedy|Romance  \n",
       "17                       Comedy|Romance  \n",
       "18     Crime|Film-Noir|Mystery|Thriller  \n",
       "19                                Drama  \n",
       "20                   Action|Crime|Drama  \n",
       "21                       Comedy|Romance  \n",
       "22      Children's|Drama|Fantasy|Sci-Fi  \n",
       "23                               Comedy  \n",
       "24                        Comedy|Horror  \n",
       "25                          Crime|Drama  \n",
       "26                   Comedy|Romance|War  \n",
       "27               Action|Sci-Fi|Thriller  \n",
       "28          Animation|Children's|Comedy  \n",
       "29                      Action|Thriller  "
      ]
     },
     "execution_count": 17,
     "metadata": {},
     "output_type": "execute_result"
    }
   ],
   "source": [
    "movie_counts_top30 = df.merge(movies, on='movie_id', how='left')\n",
    "movie_counts_top30"
   ]
  },
  {
   "cell_type": "markdown",
   "id": "8f2b41da",
   "metadata": {},
   "source": [
    "---\n",
    "# 3. 선호하는 영화 고르기\n",
    "---"
   ]
  },
  {
   "cell_type": "code",
   "execution_count": 18,
   "id": "81aa277f",
   "metadata": {},
   "outputs": [
    {
     "name": "stderr",
     "output_type": "stream",
     "text": [
      "/tmp/ipykernel_128/1752571730.py:1: SettingWithCopyWarning: \n",
      "A value is trying to be set on a copy of a slice from a DataFrame.\n",
      "Try using .loc[row_indexer,col_indexer] = value instead\n",
      "\n",
      "See the caveats in the documentation: https://pandas.pydata.org/pandas-docs/stable/user_guide/indexing.html#returning-a-view-versus-a-copy\n",
      "  traing_data['title'] = traing_data['title'].str.lower() # 검색을 쉽게하기 위해 아티스트 문자열을 소문자로 바꿔줍시다.\n"
     ]
    },
    {
     "data": {
      "text/html": [
       "<div>\n",
       "<style scoped>\n",
       "    .dataframe tbody tr th:only-of-type {\n",
       "        vertical-align: middle;\n",
       "    }\n",
       "\n",
       "    .dataframe tbody tr th {\n",
       "        vertical-align: top;\n",
       "    }\n",
       "\n",
       "    .dataframe thead th {\n",
       "        text-align: right;\n",
       "    }\n",
       "</style>\n",
       "<table border=\"1\" class=\"dataframe\">\n",
       "  <thead>\n",
       "    <tr style=\"text-align: right;\">\n",
       "      <th></th>\n",
       "      <th>user_id</th>\n",
       "      <th>title</th>\n",
       "      <th>counts</th>\n",
       "    </tr>\n",
       "  </thead>\n",
       "  <tbody>\n",
       "    <tr>\n",
       "      <th>0</th>\n",
       "      <td>1</td>\n",
       "      <td>one flew over the cuckoo's nest (1975)</td>\n",
       "      <td>5</td>\n",
       "    </tr>\n",
       "    <tr>\n",
       "      <th>1</th>\n",
       "      <td>1</td>\n",
       "      <td>james and the giant peach (1996)</td>\n",
       "      <td>3</td>\n",
       "    </tr>\n",
       "    <tr>\n",
       "      <th>2</th>\n",
       "      <td>1</td>\n",
       "      <td>my fair lady (1964)</td>\n",
       "      <td>3</td>\n",
       "    </tr>\n",
       "    <tr>\n",
       "      <th>3</th>\n",
       "      <td>1</td>\n",
       "      <td>erin brockovich (2000)</td>\n",
       "      <td>4</td>\n",
       "    </tr>\n",
       "    <tr>\n",
       "      <th>4</th>\n",
       "      <td>1</td>\n",
       "      <td>bug's life, a (1998)</td>\n",
       "      <td>5</td>\n",
       "    </tr>\n",
       "    <tr>\n",
       "      <th>5</th>\n",
       "      <td>1</td>\n",
       "      <td>princess bride, the (1987)</td>\n",
       "      <td>3</td>\n",
       "    </tr>\n",
       "    <tr>\n",
       "      <th>6</th>\n",
       "      <td>1</td>\n",
       "      <td>ben-hur (1959)</td>\n",
       "      <td>5</td>\n",
       "    </tr>\n",
       "    <tr>\n",
       "      <th>7</th>\n",
       "      <td>1</td>\n",
       "      <td>christmas story, a (1983)</td>\n",
       "      <td>5</td>\n",
       "    </tr>\n",
       "    <tr>\n",
       "      <th>8</th>\n",
       "      <td>1</td>\n",
       "      <td>snow white and the seven dwarfs (1937)</td>\n",
       "      <td>4</td>\n",
       "    </tr>\n",
       "    <tr>\n",
       "      <th>9</th>\n",
       "      <td>1</td>\n",
       "      <td>wizard of oz, the (1939)</td>\n",
       "      <td>4</td>\n",
       "    </tr>\n",
       "  </tbody>\n",
       "</table>\n",
       "</div>"
      ],
      "text/plain": [
       "   user_id                                   title  counts\n",
       "0        1  one flew over the cuckoo's nest (1975)       5\n",
       "1        1        james and the giant peach (1996)       3\n",
       "2        1                     my fair lady (1964)       3\n",
       "3        1                  erin brockovich (2000)       4\n",
       "4        1                    bug's life, a (1998)       5\n",
       "5        1              princess bride, the (1987)       3\n",
       "6        1                          ben-hur (1959)       5\n",
       "7        1               christmas story, a (1983)       5\n",
       "8        1  snow white and the seven dwarfs (1937)       4\n",
       "9        1                wizard of oz, the (1939)       4"
      ]
     },
     "execution_count": 18,
     "metadata": {},
     "output_type": "execute_result"
    }
   ],
   "source": [
    "traing_data['title'] = traing_data['title'].str.lower() # 검색을 쉽게하기 위해 아티스트 문자열을 소문자로 바꿔줍시다.\n",
    "traing_data.head(10)"
   ]
  },
  {
   "cell_type": "markdown",
   "id": "b78fe5ac",
   "metadata": {},
   "source": [
    "- 좋아하는 영화 5개 고르기\n",
    "- 정확한 타이틀 명을 알기 위해 str.contains을 통해 정확한 명을 찾아주겠다.\n",
    "- 맨인블랙"
   ]
  },
  {
   "cell_type": "code",
   "execution_count": 19,
   "id": "316f67ee",
   "metadata": {},
   "outputs": [
    {
     "data": {
      "text/html": [
       "<div>\n",
       "<style scoped>\n",
       "    .dataframe tbody tr th:only-of-type {\n",
       "        vertical-align: middle;\n",
       "    }\n",
       "\n",
       "    .dataframe tbody tr th {\n",
       "        vertical-align: top;\n",
       "    }\n",
       "\n",
       "    .dataframe thead th {\n",
       "        text-align: right;\n",
       "    }\n",
       "</style>\n",
       "<table border=\"1\" class=\"dataframe\">\n",
       "  <thead>\n",
       "    <tr style=\"text-align: right;\">\n",
       "      <th></th>\n",
       "      <th>user_id</th>\n",
       "      <th>title</th>\n",
       "      <th>counts</th>\n",
       "    </tr>\n",
       "  </thead>\n",
       "  <tbody>\n",
       "    <tr>\n",
       "      <th>185</th>\n",
       "      <td>3</td>\n",
       "      <td>men in black (1997)</td>\n",
       "      <td>3</td>\n",
       "    </tr>\n",
       "    <tr>\n",
       "      <th>321</th>\n",
       "      <td>5</td>\n",
       "      <td>men in black (1997)</td>\n",
       "      <td>4</td>\n",
       "    </tr>\n",
       "    <tr>\n",
       "      <th>470</th>\n",
       "      <td>7</td>\n",
       "      <td>men in black (1997)</td>\n",
       "      <td>4</td>\n",
       "    </tr>\n",
       "    <tr>\n",
       "      <th>563</th>\n",
       "      <td>8</td>\n",
       "      <td>men in black (1997)</td>\n",
       "      <td>4</td>\n",
       "    </tr>\n",
       "    <tr>\n",
       "      <th>1032</th>\n",
       "      <td>10</td>\n",
       "      <td>men in black (1997)</td>\n",
       "      <td>5</td>\n",
       "    </tr>\n",
       "    <tr>\n",
       "      <th>...</th>\n",
       "      <td>...</td>\n",
       "      <td>...</td>\n",
       "      <td>...</td>\n",
       "    </tr>\n",
       "    <tr>\n",
       "      <th>834398</th>\n",
       "      <td>6025</td>\n",
       "      <td>men in black (1997)</td>\n",
       "      <td>3</td>\n",
       "    </tr>\n",
       "    <tr>\n",
       "      <th>834565</th>\n",
       "      <td>6026</td>\n",
       "      <td>men in black (1997)</td>\n",
       "      <td>3</td>\n",
       "    </tr>\n",
       "    <tr>\n",
       "      <th>834622</th>\n",
       "      <td>6027</td>\n",
       "      <td>men in black (1997)</td>\n",
       "      <td>4</td>\n",
       "    </tr>\n",
       "    <tr>\n",
       "      <th>834969</th>\n",
       "      <td>6033</td>\n",
       "      <td>men in black (1997)</td>\n",
       "      <td>5</td>\n",
       "    </tr>\n",
       "    <tr>\n",
       "      <th>835069</th>\n",
       "      <td>6035</td>\n",
       "      <td>men in black (1997)</td>\n",
       "      <td>4</td>\n",
       "    </tr>\n",
       "  </tbody>\n",
       "</table>\n",
       "<p>2297 rows × 3 columns</p>\n",
       "</div>"
      ],
      "text/plain": [
       "        user_id                title  counts\n",
       "185           3  men in black (1997)       3\n",
       "321           5  men in black (1997)       4\n",
       "470           7  men in black (1997)       4\n",
       "563           8  men in black (1997)       4\n",
       "1032         10  men in black (1997)       5\n",
       "...         ...                  ...     ...\n",
       "834398     6025  men in black (1997)       3\n",
       "834565     6026  men in black (1997)       3\n",
       "834622     6027  men in black (1997)       4\n",
       "834969     6033  men in black (1997)       5\n",
       "835069     6035  men in black (1997)       4\n",
       "\n",
       "[2297 rows x 3 columns]"
      ]
     },
     "execution_count": 19,
     "metadata": {},
     "output_type": "execute_result"
    }
   ],
   "source": [
    "traing_data[traing_data['title'].str.contains('men in black')]"
   ]
  },
  {
   "cell_type": "markdown",
   "id": "9b378c2d",
   "metadata": {},
   "source": [
    "- 백투더퓨쳐\n",
    "- 물론 영화는 안봤으나 유명하다기에 선택하겠다."
   ]
  },
  {
   "cell_type": "code",
   "execution_count": 20,
   "id": "ce5926e4",
   "metadata": {},
   "outputs": [
    {
     "data": {
      "text/html": [
       "<div>\n",
       "<style scoped>\n",
       "    .dataframe tbody tr th:only-of-type {\n",
       "        vertical-align: middle;\n",
       "    }\n",
       "\n",
       "    .dataframe tbody tr th {\n",
       "        vertical-align: top;\n",
       "    }\n",
       "\n",
       "    .dataframe thead th {\n",
       "        text-align: right;\n",
       "    }\n",
       "</style>\n",
       "<table border=\"1\" class=\"dataframe\">\n",
       "  <thead>\n",
       "    <tr style=\"text-align: right;\">\n",
       "      <th></th>\n",
       "      <th>user_id</th>\n",
       "      <th>title</th>\n",
       "      <th>counts</th>\n",
       "    </tr>\n",
       "  </thead>\n",
       "  <tbody>\n",
       "    <tr>\n",
       "      <th>22</th>\n",
       "      <td>1</td>\n",
       "      <td>back to the future (1985)</td>\n",
       "      <td>5</td>\n",
       "    </tr>\n",
       "    <tr>\n",
       "      <th>204</th>\n",
       "      <td>3</td>\n",
       "      <td>back to the future (1985)</td>\n",
       "      <td>3</td>\n",
       "    </tr>\n",
       "    <tr>\n",
       "      <th>462</th>\n",
       "      <td>7</td>\n",
       "      <td>back to the future (1985)</td>\n",
       "      <td>4</td>\n",
       "    </tr>\n",
       "    <tr>\n",
       "      <th>780</th>\n",
       "      <td>10</td>\n",
       "      <td>back to the future (1985)</td>\n",
       "      <td>4</td>\n",
       "    </tr>\n",
       "    <tr>\n",
       "      <th>1010</th>\n",
       "      <td>10</td>\n",
       "      <td>back to the future part ii (1989)</td>\n",
       "      <td>4</td>\n",
       "    </tr>\n",
       "    <tr>\n",
       "      <th>...</th>\n",
       "      <td>...</td>\n",
       "      <td>...</td>\n",
       "      <td>...</td>\n",
       "    </tr>\n",
       "    <tr>\n",
       "      <th>835851</th>\n",
       "      <td>6036</td>\n",
       "      <td>back to the future part iii (1990)</td>\n",
       "      <td>3</td>\n",
       "    </tr>\n",
       "    <tr>\n",
       "      <th>836005</th>\n",
       "      <td>6037</td>\n",
       "      <td>back to the future (1985)</td>\n",
       "      <td>3</td>\n",
       "    </tr>\n",
       "    <tr>\n",
       "      <th>836167</th>\n",
       "      <td>6039</td>\n",
       "      <td>back to the future (1985)</td>\n",
       "      <td>4</td>\n",
       "    </tr>\n",
       "    <tr>\n",
       "      <th>836368</th>\n",
       "      <td>6040</td>\n",
       "      <td>back to the future (1985)</td>\n",
       "      <td>3</td>\n",
       "    </tr>\n",
       "    <tr>\n",
       "      <th>836461</th>\n",
       "      <td>6040</td>\n",
       "      <td>back to the future part ii (1989)</td>\n",
       "      <td>4</td>\n",
       "    </tr>\n",
       "  </tbody>\n",
       "</table>\n",
       "<p>4369 rows × 3 columns</p>\n",
       "</div>"
      ],
      "text/plain": [
       "        user_id                               title  counts\n",
       "22            1           back to the future (1985)       5\n",
       "204           3           back to the future (1985)       3\n",
       "462           7           back to the future (1985)       4\n",
       "780          10           back to the future (1985)       4\n",
       "1010         10   back to the future part ii (1989)       4\n",
       "...         ...                                 ...     ...\n",
       "835851     6036  back to the future part iii (1990)       3\n",
       "836005     6037           back to the future (1985)       3\n",
       "836167     6039           back to the future (1985)       4\n",
       "836368     6040           back to the future (1985)       3\n",
       "836461     6040   back to the future part ii (1989)       4\n",
       "\n",
       "[4369 rows x 3 columns]"
      ]
     },
     "execution_count": 20,
     "metadata": {},
     "output_type": "execute_result"
    }
   ],
   "source": [
    "traing_data[traing_data['title'].str.contains('back to the ')]"
   ]
  },
  {
   "cell_type": "markdown",
   "id": "5043ab17",
   "metadata": {},
   "source": [
    "- 이번에 재개봉한 톰 크루즈 형의 탑건"
   ]
  },
  {
   "cell_type": "code",
   "execution_count": 21,
   "id": "ca78febe",
   "metadata": {},
   "outputs": [
    {
     "data": {
      "text/html": [
       "<div>\n",
       "<style scoped>\n",
       "    .dataframe tbody tr th:only-of-type {\n",
       "        vertical-align: middle;\n",
       "    }\n",
       "\n",
       "    .dataframe tbody tr th {\n",
       "        vertical-align: top;\n",
       "    }\n",
       "\n",
       "    .dataframe thead th {\n",
       "        text-align: right;\n",
       "    }\n",
       "</style>\n",
       "<table border=\"1\" class=\"dataframe\">\n",
       "  <thead>\n",
       "    <tr style=\"text-align: right;\">\n",
       "      <th></th>\n",
       "      <th>user_id</th>\n",
       "      <th>title</th>\n",
       "      <th>counts</th>\n",
       "    </tr>\n",
       "  </thead>\n",
       "  <tbody>\n",
       "    <tr>\n",
       "      <th>378</th>\n",
       "      <td>6</td>\n",
       "      <td>top gun (1986)</td>\n",
       "      <td>4</td>\n",
       "    </tr>\n",
       "    <tr>\n",
       "      <th>919</th>\n",
       "      <td>10</td>\n",
       "      <td>top gun (1986)</td>\n",
       "      <td>4</td>\n",
       "    </tr>\n",
       "    <tr>\n",
       "      <th>3028</th>\n",
       "      <td>26</td>\n",
       "      <td>top gun (1986)</td>\n",
       "      <td>4</td>\n",
       "    </tr>\n",
       "    <tr>\n",
       "      <th>3358</th>\n",
       "      <td>29</td>\n",
       "      <td>top gun (1986)</td>\n",
       "      <td>3</td>\n",
       "    </tr>\n",
       "    <tr>\n",
       "      <th>3770</th>\n",
       "      <td>33</td>\n",
       "      <td>top gun (1986)</td>\n",
       "      <td>4</td>\n",
       "    </tr>\n",
       "    <tr>\n",
       "      <th>...</th>\n",
       "      <td>...</td>\n",
       "      <td>...</td>\n",
       "      <td>...</td>\n",
       "    </tr>\n",
       "    <tr>\n",
       "      <th>832534</th>\n",
       "      <td>6011</td>\n",
       "      <td>top gun (1986)</td>\n",
       "      <td>5</td>\n",
       "    </tr>\n",
       "    <tr>\n",
       "      <th>833115</th>\n",
       "      <td>6016</td>\n",
       "      <td>top gun (1986)</td>\n",
       "      <td>3</td>\n",
       "    </tr>\n",
       "    <tr>\n",
       "      <th>833972</th>\n",
       "      <td>6021</td>\n",
       "      <td>top gun (1986)</td>\n",
       "      <td>4</td>\n",
       "    </tr>\n",
       "    <tr>\n",
       "      <th>834653</th>\n",
       "      <td>6028</td>\n",
       "      <td>top gun (1986)</td>\n",
       "      <td>5</td>\n",
       "    </tr>\n",
       "    <tr>\n",
       "      <th>835324</th>\n",
       "      <td>6036</td>\n",
       "      <td>top gun (1986)</td>\n",
       "      <td>3</td>\n",
       "    </tr>\n",
       "  </tbody>\n",
       "</table>\n",
       "<p>888 rows × 3 columns</p>\n",
       "</div>"
      ],
      "text/plain": [
       "        user_id           title  counts\n",
       "378           6  top gun (1986)       4\n",
       "919          10  top gun (1986)       4\n",
       "3028         26  top gun (1986)       4\n",
       "3358         29  top gun (1986)       3\n",
       "3770         33  top gun (1986)       4\n",
       "...         ...             ...     ...\n",
       "832534     6011  top gun (1986)       5\n",
       "833115     6016  top gun (1986)       3\n",
       "833972     6021  top gun (1986)       4\n",
       "834653     6028  top gun (1986)       5\n",
       "835324     6036  top gun (1986)       3\n",
       "\n",
       "[888 rows x 3 columns]"
      ]
     },
     "execution_count": 21,
     "metadata": {},
     "output_type": "execute_result"
    }
   ],
   "source": [
    "traing_data[traing_data['title'].str.contains('top gun')]"
   ]
  },
  {
   "cell_type": "markdown",
   "id": "5e097df4",
   "metadata": {},
   "source": [
    "- 어렴풋이 본 기억이 있는 바람과 함께 사라지다"
   ]
  },
  {
   "cell_type": "code",
   "execution_count": 22,
   "id": "13caa329",
   "metadata": {},
   "outputs": [
    {
     "data": {
      "text/html": [
       "<div>\n",
       "<style scoped>\n",
       "    .dataframe tbody tr th:only-of-type {\n",
       "        vertical-align: middle;\n",
       "    }\n",
       "\n",
       "    .dataframe tbody tr th {\n",
       "        vertical-align: top;\n",
       "    }\n",
       "\n",
       "    .dataframe thead th {\n",
       "        text-align: right;\n",
       "    }\n",
       "</style>\n",
       "<table border=\"1\" class=\"dataframe\">\n",
       "  <thead>\n",
       "    <tr style=\"text-align: right;\">\n",
       "      <th></th>\n",
       "      <th>user_id</th>\n",
       "      <th>title</th>\n",
       "      <th>counts</th>\n",
       "    </tr>\n",
       "  </thead>\n",
       "  <tbody>\n",
       "    <tr>\n",
       "      <th>147</th>\n",
       "      <td>2</td>\n",
       "      <td>gone with the wind (1939)</td>\n",
       "      <td>5</td>\n",
       "    </tr>\n",
       "    <tr>\n",
       "      <th>440</th>\n",
       "      <td>6</td>\n",
       "      <td>gone with the wind (1939)</td>\n",
       "      <td>4</td>\n",
       "    </tr>\n",
       "    <tr>\n",
       "      <th>700</th>\n",
       "      <td>9</td>\n",
       "      <td>gone with the wind (1939)</td>\n",
       "      <td>3</td>\n",
       "    </tr>\n",
       "    <tr>\n",
       "      <th>889</th>\n",
       "      <td>10</td>\n",
       "      <td>gone with the wind (1939)</td>\n",
       "      <td>5</td>\n",
       "    </tr>\n",
       "    <tr>\n",
       "      <th>1839</th>\n",
       "      <td>18</td>\n",
       "      <td>gone with the wind (1939)</td>\n",
       "      <td>5</td>\n",
       "    </tr>\n",
       "    <tr>\n",
       "      <th>...</th>\n",
       "      <td>...</td>\n",
       "      <td>...</td>\n",
       "      <td>...</td>\n",
       "    </tr>\n",
       "    <tr>\n",
       "      <th>833961</th>\n",
       "      <td>6021</td>\n",
       "      <td>gone with the wind (1939)</td>\n",
       "      <td>4</td>\n",
       "    </tr>\n",
       "    <tr>\n",
       "      <th>834721</th>\n",
       "      <td>6030</td>\n",
       "      <td>gone with the wind (1939)</td>\n",
       "      <td>3</td>\n",
       "    </tr>\n",
       "    <tr>\n",
       "      <th>835226</th>\n",
       "      <td>6036</td>\n",
       "      <td>gone with the wind (1939)</td>\n",
       "      <td>5</td>\n",
       "    </tr>\n",
       "    <tr>\n",
       "      <th>836066</th>\n",
       "      <td>6038</td>\n",
       "      <td>gone with the wind (1939)</td>\n",
       "      <td>3</td>\n",
       "    </tr>\n",
       "    <tr>\n",
       "      <th>836219</th>\n",
       "      <td>6040</td>\n",
       "      <td>gone with the wind (1939)</td>\n",
       "      <td>3</td>\n",
       "    </tr>\n",
       "  </tbody>\n",
       "</table>\n",
       "<p>1055 rows × 3 columns</p>\n",
       "</div>"
      ],
      "text/plain": [
       "        user_id                      title  counts\n",
       "147           2  gone with the wind (1939)       5\n",
       "440           6  gone with the wind (1939)       4\n",
       "700           9  gone with the wind (1939)       3\n",
       "889          10  gone with the wind (1939)       5\n",
       "1839         18  gone with the wind (1939)       5\n",
       "...         ...                        ...     ...\n",
       "833961     6021  gone with the wind (1939)       4\n",
       "834721     6030  gone with the wind (1939)       3\n",
       "835226     6036  gone with the wind (1939)       5\n",
       "836066     6038  gone with the wind (1939)       3\n",
       "836219     6040  gone with the wind (1939)       3\n",
       "\n",
       "[1055 rows x 3 columns]"
      ]
     },
     "execution_count": 22,
     "metadata": {},
     "output_type": "execute_result"
    }
   ],
   "source": [
    "traing_data[traing_data['title'].str.contains('with the wind')]"
   ]
  },
  {
   "cell_type": "markdown",
   "id": "6b813601",
   "metadata": {},
   "source": [
    "- 고전 명작에 매번 뽑히는 쇼생크 탈출 "
   ]
  },
  {
   "cell_type": "code",
   "execution_count": 23,
   "id": "5f4e7616",
   "metadata": {},
   "outputs": [
    {
     "data": {
      "text/html": [
       "<div>\n",
       "<style scoped>\n",
       "    .dataframe tbody tr th:only-of-type {\n",
       "        vertical-align: middle;\n",
       "    }\n",
       "\n",
       "    .dataframe tbody tr th {\n",
       "        vertical-align: top;\n",
       "    }\n",
       "\n",
       "    .dataframe thead th {\n",
       "        text-align: right;\n",
       "    }\n",
       "</style>\n",
       "<table border=\"1\" class=\"dataframe\">\n",
       "  <thead>\n",
       "    <tr style=\"text-align: right;\">\n",
       "      <th></th>\n",
       "      <th>user_id</th>\n",
       "      <th>title</th>\n",
       "      <th>counts</th>\n",
       "    </tr>\n",
       "  </thead>\n",
       "  <tbody>\n",
       "    <tr>\n",
       "      <th>162</th>\n",
       "      <td>2</td>\n",
       "      <td>shawshank redemption, the (1994)</td>\n",
       "      <td>5</td>\n",
       "    </tr>\n",
       "    <tr>\n",
       "      <th>302</th>\n",
       "      <td>5</td>\n",
       "      <td>shawshank redemption, the (1994)</td>\n",
       "      <td>3</td>\n",
       "    </tr>\n",
       "    <tr>\n",
       "      <th>659</th>\n",
       "      <td>9</td>\n",
       "      <td>shawshank redemption, the (1994)</td>\n",
       "      <td>5</td>\n",
       "    </tr>\n",
       "    <tr>\n",
       "      <th>800</th>\n",
       "      <td>10</td>\n",
       "      <td>shawshank redemption, the (1994)</td>\n",
       "      <td>4</td>\n",
       "    </tr>\n",
       "    <tr>\n",
       "      <th>1119</th>\n",
       "      <td>11</td>\n",
       "      <td>shawshank redemption, the (1994)</td>\n",
       "      <td>5</td>\n",
       "    </tr>\n",
       "    <tr>\n",
       "      <th>...</th>\n",
       "      <td>...</td>\n",
       "      <td>...</td>\n",
       "      <td>...</td>\n",
       "    </tr>\n",
       "    <tr>\n",
       "      <th>834569</th>\n",
       "      <td>6026</td>\n",
       "      <td>shawshank redemption, the (1994)</td>\n",
       "      <td>4</td>\n",
       "    </tr>\n",
       "    <tr>\n",
       "      <th>835077</th>\n",
       "      <td>6035</td>\n",
       "      <td>shawshank redemption, the (1994)</td>\n",
       "      <td>5</td>\n",
       "    </tr>\n",
       "    <tr>\n",
       "      <th>835469</th>\n",
       "      <td>6036</td>\n",
       "      <td>shawshank redemption, the (1994)</td>\n",
       "      <td>5</td>\n",
       "    </tr>\n",
       "    <tr>\n",
       "      <th>835955</th>\n",
       "      <td>6037</td>\n",
       "      <td>shawshank redemption, the (1994)</td>\n",
       "      <td>5</td>\n",
       "    </tr>\n",
       "    <tr>\n",
       "      <th>836296</th>\n",
       "      <td>6040</td>\n",
       "      <td>shawshank redemption, the (1994)</td>\n",
       "      <td>4</td>\n",
       "    </tr>\n",
       "  </tbody>\n",
       "</table>\n",
       "<p>2194 rows × 3 columns</p>\n",
       "</div>"
      ],
      "text/plain": [
       "        user_id                             title  counts\n",
       "162           2  shawshank redemption, the (1994)       5\n",
       "302           5  shawshank redemption, the (1994)       3\n",
       "659           9  shawshank redemption, the (1994)       5\n",
       "800          10  shawshank redemption, the (1994)       4\n",
       "1119         11  shawshank redemption, the (1994)       5\n",
       "...         ...                               ...     ...\n",
       "834569     6026  shawshank redemption, the (1994)       4\n",
       "835077     6035  shawshank redemption, the (1994)       5\n",
       "835469     6036  shawshank redemption, the (1994)       5\n",
       "835955     6037  shawshank redemption, the (1994)       5\n",
       "836296     6040  shawshank redemption, the (1994)       4\n",
       "\n",
       "[2194 rows x 3 columns]"
      ]
     },
     "execution_count": 23,
     "metadata": {},
     "output_type": "execute_result"
    }
   ],
   "source": [
    "traing_data[traing_data['title'].str.contains('shawshank')]"
   ]
  },
  {
   "cell_type": "code",
   "execution_count": 24,
   "id": "b4935879",
   "metadata": {},
   "outputs": [
    {
     "name": "stdout",
     "output_type": "stream",
     "text": [
      "<class 'pandas.core.frame.DataFrame'>\n",
      "Int64Index: 836478 entries, 0 to 836477\n",
      "Data columns (total 3 columns):\n",
      " #   Column   Non-Null Count   Dtype \n",
      "---  ------   --------------   ----- \n",
      " 0   user_id  836478 non-null  int64 \n",
      " 1   title    836478 non-null  object\n",
      " 2   counts   836478 non-null  int64 \n",
      "dtypes: int64(2), object(1)\n",
      "memory usage: 25.5+ MB\n"
     ]
    }
   ],
   "source": [
    "#정보를 추가히기 전에 컬럼 타입이 무엇인지 확인\n",
    "traing_data.info()"
   ]
  },
  {
   "cell_type": "code",
   "execution_count": 25,
   "id": "967fbdc7",
   "metadata": {},
   "outputs": [
    {
     "data": {
      "text/html": [
       "<div>\n",
       "<style scoped>\n",
       "    .dataframe tbody tr th:only-of-type {\n",
       "        vertical-align: middle;\n",
       "    }\n",
       "\n",
       "    .dataframe tbody tr th {\n",
       "        vertical-align: top;\n",
       "    }\n",
       "\n",
       "    .dataframe thead th {\n",
       "        text-align: right;\n",
       "    }\n",
       "</style>\n",
       "<table border=\"1\" class=\"dataframe\">\n",
       "  <thead>\n",
       "    <tr style=\"text-align: right;\">\n",
       "      <th></th>\n",
       "      <th>user_id</th>\n",
       "      <th>title</th>\n",
       "      <th>counts</th>\n",
       "    </tr>\n",
       "  </thead>\n",
       "  <tbody>\n",
       "    <tr>\n",
       "      <th>0</th>\n",
       "      <td>6041</td>\n",
       "      <td>men in black (1997)</td>\n",
       "      <td>6</td>\n",
       "    </tr>\n",
       "    <tr>\n",
       "      <th>1</th>\n",
       "      <td>6041</td>\n",
       "      <td>back to the future (1985)</td>\n",
       "      <td>6</td>\n",
       "    </tr>\n",
       "    <tr>\n",
       "      <th>2</th>\n",
       "      <td>6041</td>\n",
       "      <td>top gun (1986)</td>\n",
       "      <td>6</td>\n",
       "    </tr>\n",
       "    <tr>\n",
       "      <th>3</th>\n",
       "      <td>6041</td>\n",
       "      <td>gone with the wind (1939)</td>\n",
       "      <td>6</td>\n",
       "    </tr>\n",
       "    <tr>\n",
       "      <th>4</th>\n",
       "      <td>6041</td>\n",
       "      <td>shawshank redemption, the (1994)</td>\n",
       "      <td>6</td>\n",
       "    </tr>\n",
       "  </tbody>\n",
       "</table>\n",
       "</div>"
      ],
      "text/plain": [
       "   user_id                             title  counts\n",
       "0     6041               men in black (1997)       6\n",
       "1     6041         back to the future (1985)       6\n",
       "2     6041                    top gun (1986)       6\n",
       "3     6041         gone with the wind (1939)       6\n",
       "4     6041  shawshank redemption, the (1994)       6"
      ]
     },
     "execution_count": 25,
     "metadata": {},
     "output_type": "execute_result"
    }
   ],
   "source": [
    "# 내가 좋아하시는 영화의 데이터로 바꿔서 추가\n",
    "favorite_movie = ['men in black (1997)' , 'back to the future (1985)' ,'top gun (1986)' ,'gone with the wind (1939)' ,'shawshank redemption, the (1994)']\n",
    "\n",
    "# '6041'이라는 user_id가 위 영화를 6회씩 봤다고 가정\n",
    "my_playlist = pd.DataFrame({'user_id': [6041]*5, 'title': favorite_movie, 'counts':[6]*5})\n",
    "my_playlist"
   ]
  },
  {
   "cell_type": "code",
   "execution_count": 26,
   "id": "1c75dbe1",
   "metadata": {},
   "outputs": [
    {
     "data": {
      "text/html": [
       "<div>\n",
       "<style scoped>\n",
       "    .dataframe tbody tr th:only-of-type {\n",
       "        vertical-align: middle;\n",
       "    }\n",
       "\n",
       "    .dataframe tbody tr th {\n",
       "        vertical-align: top;\n",
       "    }\n",
       "\n",
       "    .dataframe thead th {\n",
       "        text-align: right;\n",
       "    }\n",
       "</style>\n",
       "<table border=\"1\" class=\"dataframe\">\n",
       "  <thead>\n",
       "    <tr style=\"text-align: right;\">\n",
       "      <th></th>\n",
       "      <th>user_id</th>\n",
       "      <th>title</th>\n",
       "      <th>counts</th>\n",
       "    </tr>\n",
       "  </thead>\n",
       "  <tbody>\n",
       "    <tr>\n",
       "      <th>836473</th>\n",
       "      <td>6040</td>\n",
       "      <td>platoon (1986)</td>\n",
       "      <td>3</td>\n",
       "    </tr>\n",
       "    <tr>\n",
       "      <th>836474</th>\n",
       "      <td>6040</td>\n",
       "      <td>crying game, the (1992)</td>\n",
       "      <td>5</td>\n",
       "    </tr>\n",
       "    <tr>\n",
       "      <th>836475</th>\n",
       "      <td>6040</td>\n",
       "      <td>welcome to the dollhouse (1995)</td>\n",
       "      <td>5</td>\n",
       "    </tr>\n",
       "    <tr>\n",
       "      <th>836476</th>\n",
       "      <td>6040</td>\n",
       "      <td>sophie's choice (1982)</td>\n",
       "      <td>4</td>\n",
       "    </tr>\n",
       "    <tr>\n",
       "      <th>836477</th>\n",
       "      <td>6040</td>\n",
       "      <td>e.t. the extra-terrestrial (1982)</td>\n",
       "      <td>4</td>\n",
       "    </tr>\n",
       "    <tr>\n",
       "      <th>0</th>\n",
       "      <td>6041</td>\n",
       "      <td>men in black (1997)</td>\n",
       "      <td>6</td>\n",
       "    </tr>\n",
       "    <tr>\n",
       "      <th>1</th>\n",
       "      <td>6041</td>\n",
       "      <td>back to the future (1985)</td>\n",
       "      <td>6</td>\n",
       "    </tr>\n",
       "    <tr>\n",
       "      <th>2</th>\n",
       "      <td>6041</td>\n",
       "      <td>top gun (1986)</td>\n",
       "      <td>6</td>\n",
       "    </tr>\n",
       "    <tr>\n",
       "      <th>3</th>\n",
       "      <td>6041</td>\n",
       "      <td>gone with the wind (1939)</td>\n",
       "      <td>6</td>\n",
       "    </tr>\n",
       "    <tr>\n",
       "      <th>4</th>\n",
       "      <td>6041</td>\n",
       "      <td>shawshank redemption, the (1994)</td>\n",
       "      <td>6</td>\n",
       "    </tr>\n",
       "  </tbody>\n",
       "</table>\n",
       "</div>"
      ],
      "text/plain": [
       "        user_id                              title  counts\n",
       "836473     6040                     platoon (1986)       3\n",
       "836474     6040            crying game, the (1992)       5\n",
       "836475     6040    welcome to the dollhouse (1995)       5\n",
       "836476     6040             sophie's choice (1982)       4\n",
       "836477     6040  e.t. the extra-terrestrial (1982)       4\n",
       "0          6041                men in black (1997)       6\n",
       "1          6041          back to the future (1985)       6\n",
       "2          6041                     top gun (1986)       6\n",
       "3          6041          gone with the wind (1939)       6\n",
       "4          6041   shawshank redemption, the (1994)       6"
      ]
     },
     "execution_count": 26,
     "metadata": {},
     "output_type": "execute_result"
    }
   ],
   "source": [
    "# user_id에 '6041'이라는 데이터가 없다면\n",
    "# 위에 임의로 만든 favorite_movie 데이터를 추가해 줍니다. \n",
    "if not traing_data.isin({'user_id':['6041']})['user_id'].any(): \n",
    "    traing_data = traing_data.append(my_playlist)                      \n",
    "\n",
    "traing_data.tail(10)       # 잘 추가되었는지 확인해 봅시다."
   ]
  },
  {
   "cell_type": "code",
   "execution_count": 27,
   "id": "236289f6",
   "metadata": {},
   "outputs": [],
   "source": [
    "# 고유한 유저, 아티스트를 찾아내는 코드\n",
    "user_unique = traing_data['user_id'].unique()\n",
    "movie_unique = traing_data['title'].unique()\n",
    "\n",
    "# 유저, 아티스트 indexing 하는 코드 idx는 index의 약자입니다.\n",
    "user_to_idx = {v:k for k,v in enumerate(user_unique)} #user_id인 v는 index가 되었고, 0부터 시작하는 index인 k는 값이 됨. \n",
    "movie_to_idx = {v:k for k,v in enumerate(movie_unique)}"
   ]
  },
  {
   "cell_type": "code",
   "execution_count": 28,
   "id": "e0939c3e",
   "metadata": {},
   "outputs": [
    {
     "name": "stdout",
     "output_type": "stream",
     "text": [
      "6039\n",
      "4\n"
     ]
    }
   ],
   "source": [
    "# 인덱싱이 잘 되었는지 확인해 봅니다. \n",
    "print(user_to_idx[6041])    # 6040명의 유저 중 마지막으로 추가된 유저이니 6039가 나와야 합니다. \n",
    "print(movie_to_idx[\"bug's life, a (1998)\"])"
   ]
  },
  {
   "cell_type": "code",
   "execution_count": 29,
   "id": "1487616f",
   "metadata": {},
   "outputs": [
    {
     "name": "stdout",
     "output_type": "stream",
     "text": [
      "user_id column indexing OK!!\n",
      "movie column indexing OK!!\n"
     ]
    },
    {
     "data": {
      "text/html": [
       "<div>\n",
       "<style scoped>\n",
       "    .dataframe tbody tr th:only-of-type {\n",
       "        vertical-align: middle;\n",
       "    }\n",
       "\n",
       "    .dataframe tbody tr th {\n",
       "        vertical-align: top;\n",
       "    }\n",
       "\n",
       "    .dataframe thead th {\n",
       "        text-align: right;\n",
       "    }\n",
       "</style>\n",
       "<table border=\"1\" class=\"dataframe\">\n",
       "  <thead>\n",
       "    <tr style=\"text-align: right;\">\n",
       "      <th></th>\n",
       "      <th>user_id</th>\n",
       "      <th>title</th>\n",
       "      <th>counts</th>\n",
       "    </tr>\n",
       "  </thead>\n",
       "  <tbody>\n",
       "    <tr>\n",
       "      <th>0</th>\n",
       "      <td>0</td>\n",
       "      <td>0</td>\n",
       "      <td>5</td>\n",
       "    </tr>\n",
       "    <tr>\n",
       "      <th>1</th>\n",
       "      <td>0</td>\n",
       "      <td>1</td>\n",
       "      <td>3</td>\n",
       "    </tr>\n",
       "    <tr>\n",
       "      <th>2</th>\n",
       "      <td>0</td>\n",
       "      <td>2</td>\n",
       "      <td>3</td>\n",
       "    </tr>\n",
       "    <tr>\n",
       "      <th>3</th>\n",
       "      <td>0</td>\n",
       "      <td>3</td>\n",
       "      <td>4</td>\n",
       "    </tr>\n",
       "    <tr>\n",
       "      <th>4</th>\n",
       "      <td>0</td>\n",
       "      <td>4</td>\n",
       "      <td>5</td>\n",
       "    </tr>\n",
       "    <tr>\n",
       "      <th>...</th>\n",
       "      <td>...</td>\n",
       "      <td>...</td>\n",
       "      <td>...</td>\n",
       "    </tr>\n",
       "    <tr>\n",
       "      <th>0</th>\n",
       "      <td>6039</td>\n",
       "      <td>175</td>\n",
       "      <td>6</td>\n",
       "    </tr>\n",
       "    <tr>\n",
       "      <th>1</th>\n",
       "      <td>6039</td>\n",
       "      <td>22</td>\n",
       "      <td>6</td>\n",
       "    </tr>\n",
       "    <tr>\n",
       "      <th>2</th>\n",
       "      <td>6039</td>\n",
       "      <td>326</td>\n",
       "      <td>6</td>\n",
       "    </tr>\n",
       "    <tr>\n",
       "      <th>3</th>\n",
       "      <td>6039</td>\n",
       "      <td>143</td>\n",
       "      <td>6</td>\n",
       "    </tr>\n",
       "    <tr>\n",
       "      <th>4</th>\n",
       "      <td>6039</td>\n",
       "      <td>157</td>\n",
       "      <td>6</td>\n",
       "    </tr>\n",
       "  </tbody>\n",
       "</table>\n",
       "<p>836483 rows × 3 columns</p>\n",
       "</div>"
      ],
      "text/plain": [
       "    user_id  title  counts\n",
       "0         0      0       5\n",
       "1         0      1       3\n",
       "2         0      2       3\n",
       "3         0      3       4\n",
       "4         0      4       5\n",
       "..      ...    ...     ...\n",
       "0      6039    175       6\n",
       "1      6039     22       6\n",
       "2      6039    326       6\n",
       "3      6039    143       6\n",
       "4      6039    157       6\n",
       "\n",
       "[836483 rows x 3 columns]"
      ]
     },
     "execution_count": 29,
     "metadata": {},
     "output_type": "execute_result"
    }
   ],
   "source": [
    "# user_to_idx.get을 통해 user_id 컬럼의 모든 값을 인덱싱한 Series를 구해 봅시다. \n",
    "# 혹시 정상적으로 인덱싱되지 않은 row가 있다면 인덱스가 NaN이 될 테니 dropna()로 제거합니다. \n",
    "temp_user_data = traing_data['user_id'].map(user_to_idx.get).dropna()\n",
    "if len(temp_user_data) == len(traing_data):   # 모든 row가 정상적으로 인덱싱되었다면\n",
    "    print('user_id column indexing OK!!')\n",
    "    traing_data['user_id'] = temp_user_data   # ratings['user_id']을 인덱싱된 Series로 교체해 줍니다. \n",
    "else:\n",
    "    print('user_id column indexing Fail!!')\n",
    "\n",
    "# movie_to_idx 통해 artist 컬럼도 동일한 방식으로 인덱싱해 줍니다. \n",
    "temp_movie_data = traing_data['title'].map(movie_to_idx.get).dropna()\n",
    "if len(temp_movie_data) == len(traing_data):\n",
    "    print('movie column indexing OK!!')\n",
    "    traing_data['title'] = temp_movie_data\n",
    "else:\n",
    "    print('movie column indexing Fail!!')\n",
    "\n",
    "traing_data"
   ]
  },
  {
   "cell_type": "markdown",
   "id": "6890d9ad",
   "metadata": {},
   "source": [
    "---\n",
    "# 4. CSR matrix 직접 만들기 \n",
    "---"
   ]
  },
  {
   "cell_type": "code",
   "execution_count": 30,
   "id": "874106bc",
   "metadata": {},
   "outputs": [
    {
     "data": {
      "text/html": [
       "<div>\n",
       "<style scoped>\n",
       "    .dataframe tbody tr th:only-of-type {\n",
       "        vertical-align: middle;\n",
       "    }\n",
       "\n",
       "    .dataframe tbody tr th {\n",
       "        vertical-align: top;\n",
       "    }\n",
       "\n",
       "    .dataframe thead th {\n",
       "        text-align: right;\n",
       "    }\n",
       "</style>\n",
       "<table border=\"1\" class=\"dataframe\">\n",
       "  <thead>\n",
       "    <tr style=\"text-align: right;\">\n",
       "      <th></th>\n",
       "      <th>user_id</th>\n",
       "      <th>title</th>\n",
       "      <th>counts</th>\n",
       "    </tr>\n",
       "  </thead>\n",
       "  <tbody>\n",
       "    <tr>\n",
       "      <th>0</th>\n",
       "      <td>0</td>\n",
       "      <td>0</td>\n",
       "      <td>5</td>\n",
       "    </tr>\n",
       "    <tr>\n",
       "      <th>1</th>\n",
       "      <td>0</td>\n",
       "      <td>1</td>\n",
       "      <td>3</td>\n",
       "    </tr>\n",
       "    <tr>\n",
       "      <th>2</th>\n",
       "      <td>0</td>\n",
       "      <td>2</td>\n",
       "      <td>3</td>\n",
       "    </tr>\n",
       "    <tr>\n",
       "      <th>3</th>\n",
       "      <td>0</td>\n",
       "      <td>3</td>\n",
       "      <td>4</td>\n",
       "    </tr>\n",
       "    <tr>\n",
       "      <th>4</th>\n",
       "      <td>0</td>\n",
       "      <td>4</td>\n",
       "      <td>5</td>\n",
       "    </tr>\n",
       "  </tbody>\n",
       "</table>\n",
       "</div>"
      ],
      "text/plain": [
       "   user_id  title  counts\n",
       "0        0      0       5\n",
       "1        0      1       3\n",
       "2        0      2       3\n",
       "3        0      3       4\n",
       "4        0      4       5"
      ]
     },
     "execution_count": 30,
     "metadata": {},
     "output_type": "execute_result"
    }
   ],
   "source": [
    "traing_data.head()"
   ]
  },
  {
   "cell_type": "code",
   "execution_count": 31,
   "id": "9b792552",
   "metadata": {},
   "outputs": [
    {
     "data": {
      "text/plain": [
       "<6040x3628 sparse matrix of type '<class 'numpy.int64'>'\n",
       "\twith 836483 stored elements in Compressed Sparse Row format>"
      ]
     },
     "execution_count": 31,
     "metadata": {},
     "output_type": "execute_result"
    }
   ],
   "source": [
    "from scipy.sparse import csr_matrix\n",
    "\n",
    "num_user = traing_data['user_id'].nunique()\n",
    "num_movie = traing_data['title'].nunique()\n",
    "\n",
    "csr_data = csr_matrix((traing_data.counts, (traing_data.user_id, traing_data.title)), shape= (num_user, num_movie))\n",
    "csr_data"
   ]
  },
  {
   "cell_type": "markdown",
   "id": "525b498c",
   "metadata": {},
   "source": [
    "---\n",
    "# 5. ALS Model 만들기\n",
    "---"
   ]
  },
  {
   "cell_type": "markdown",
   "id": "610734e5",
   "metadata": {},
   "source": [
    " - factors : 유저와 아이템의 벡터를 몇 차원으로 할 것인지\n",
    " - regularization : 과적합을 방지하기 위해 정규화 값을 얼마나 사용할 것인지\n",
    " - use_gpu : GPU를 사용할 것인지\n",
    " - iterations : epochs와 같은 의미입니다. 데이터를 몇 번 반복해서 학습할 것인지\n",
    "\n"
   ]
  },
  {
   "cell_type": "code",
   "execution_count": 32,
   "id": "557b2af1",
   "metadata": {},
   "outputs": [],
   "source": [
    "from implicit.als import AlternatingLeastSquares\n",
    "import os\n",
    "import numpy as np\n",
    "\n",
    "# implicit 라이브러리에서 권장하고 있는 부분입니다. 학습 내용과는 무관합니다.\n",
    "os.environ['OPENBLAS_NUM_THREADS']='1'\n",
    "os.environ['KMP_DUPLICATE_LIB_OK']='True'\n",
    "os.environ['MKL_NUM_THREADS']='1'\n",
    "\n",
    "\n",
    "als_model = AlternatingLeastSquares(factors=100, regularization=0.01, use_gpu=False, iterations=15, dtype=np.float32)"
   ]
  },
  {
   "cell_type": "code",
   "execution_count": 33,
   "id": "862d7fa0",
   "metadata": {},
   "outputs": [
    {
     "data": {
      "text/plain": [
       "<3628x6040 sparse matrix of type '<class 'numpy.int64'>'\n",
       "\twith 836483 stored elements in Compressed Sparse Column format>"
      ]
     },
     "execution_count": 33,
     "metadata": {},
     "output_type": "execute_result"
    }
   ],
   "source": [
    "# als 모델은 input으로 (item X user 꼴의 matrix를 받기 때문에 Transpose해줍니다.)\n",
    "csr_data_transpose = csr_data.T \n",
    "csr_data_transpose"
   ]
  },
  {
   "cell_type": "code",
   "execution_count": 34,
   "id": "946fb664",
   "metadata": {},
   "outputs": [
    {
     "data": {
      "application/vnd.jupyter.widget-view+json": {
       "model_id": "65f7523588f94ad092e23046081279d6",
       "version_major": 2,
       "version_minor": 0
      },
      "text/plain": [
       "  0%|          | 0/15 [00:00<?, ?it/s]"
      ]
     },
     "metadata": {},
     "output_type": "display_data"
    }
   ],
   "source": [
    "# 모델 훈련\n",
    "als_model.fit(csr_data_transpose)"
   ]
  },
  {
   "cell_type": "code",
   "execution_count": 35,
   "id": "76086c72",
   "metadata": {},
   "outputs": [],
   "source": [
    "kk, top_gun = user_to_idx[6041], movie_to_idx[\"top gun (1986)\"]\n",
    "kk_vector, top_gun_vector = als_model.user_factors[kk], als_model.item_factors[top_gun]"
   ]
  },
  {
   "cell_type": "code",
   "execution_count": 36,
   "id": "d6a586e5",
   "metadata": {},
   "outputs": [
    {
     "data": {
      "text/plain": [
       "array([-4.59280998e-01, -1.34557104e+00,  4.66850191e-01, -5.10401800e-02,\n",
       "       -6.73992857e-02,  6.34537041e-01,  9.20936704e-01,  8.59898329e-01,\n",
       "       -3.41756791e-01,  1.17870606e-01, -5.61424136e-01,  1.64191043e+00,\n",
       "        4.58225369e-01, -8.45909193e-02,  1.32495994e-02,  3.24258387e-01,\n",
       "        1.50212878e-02, -4.06438828e-01,  3.37756276e-01, -1.05467331e+00,\n",
       "       -3.91899019e-01, -6.94152340e-02,  1.00441408e+00, -4.20442045e-01,\n",
       "        6.32648647e-01,  8.47821414e-01,  2.61087418e-01,  1.25561068e-02,\n",
       "       -8.27234566e-01, -9.63889435e-03, -3.73948902e-01,  5.95704436e-01,\n",
       "       -3.14721823e-01, -4.53039646e-01, -5.46343684e-01,  2.41568044e-01,\n",
       "       -2.84899801e-01, -8.72502476e-02, -3.23141068e-01, -3.15590873e-02,\n",
       "       -4.58679259e-01,  5.27792275e-01,  4.53111112e-01, -2.50370335e-02,\n",
       "        2.77999669e-01, -5.40991902e-01,  2.47844785e-01, -7.80286670e-01,\n",
       "        9.17071998e-01,  4.08301026e-01, -4.34203207e-01,  6.00123107e-02,\n",
       "        6.86186075e-01,  2.69697040e-01, -1.16895914e-01,  1.61143303e+00,\n",
       "        7.02096208e-04,  6.11026406e-01, -4.10575241e-01, -6.85461581e-01,\n",
       "       -2.00794607e-01, -3.34986210e-01,  6.42611325e-01,  4.03797269e-01,\n",
       "       -5.06935298e-01,  7.99002409e-01,  1.01584053e+00,  1.32635742e-01,\n",
       "        4.24911112e-01, -1.93144009e-01, -5.99526405e-01,  6.84599638e-01,\n",
       "        1.06024340e-01,  7.57463038e-01, -1.46694168e-01,  3.31194580e-01,\n",
       "        4.90161061e-01,  4.24725711e-01, -8.42435002e-01, -6.96036443e-02,\n",
       "        2.17195839e-01, -7.58282542e-01, -1.18173110e+00, -7.98648715e-01,\n",
       "       -6.13173544e-01,  4.56158131e-01,  5.31133831e-01, -8.82053435e-01,\n",
       "       -1.76869169e-01,  4.08643931e-01,  3.37456137e-01, -9.18947637e-01,\n",
       "       -3.95540101e-03, -5.02618849e-01, -4.41319728e-03,  1.30138353e-01,\n",
       "        4.09320623e-01, -3.59058887e-01,  3.54313016e-01, -9.04741168e-01],\n",
       "      dtype=float32)"
      ]
     },
     "execution_count": 36,
     "metadata": {},
     "output_type": "execute_result"
    }
   ],
   "source": [
    "kk_vector"
   ]
  },
  {
   "cell_type": "code",
   "execution_count": 37,
   "id": "88b2eaf5",
   "metadata": {},
   "outputs": [
    {
     "data": {
      "text/plain": [
       "array([ 1.15279632e-03, -3.43130529e-02, -7.71394698e-03,  4.76957262e-02,\n",
       "       -4.56605852e-03,  2.13470608e-02,  3.20917182e-02,  1.80214886e-02,\n",
       "       -7.41746090e-03,  1.03562260e-02,  6.04963908e-03,  1.60672441e-02,\n",
       "        1.71596035e-02, -1.47364289e-02,  1.22807864e-02,  2.38386616e-02,\n",
       "        1.57579668e-02,  1.42656278e-03, -2.41131568e-03,  1.32916318e-02,\n",
       "        9.34576802e-03,  3.70621961e-03,  4.45721019e-03, -2.71844096e-04,\n",
       "        2.31487937e-02,  3.78598683e-02,  1.90809406e-02,  5.86665049e-03,\n",
       "        9.22197849e-03,  1.96452159e-02,  3.89184663e-03,  1.45075116e-02,\n",
       "        3.57893133e-03,  3.60687482e-05,  1.17727695e-02,  1.70943663e-02,\n",
       "       -7.12065212e-03,  2.37188525e-02, -1.11717992e-02,  4.89990786e-03,\n",
       "        8.99666362e-03,  4.62937308e-03,  1.01265209e-02, -1.41082788e-02,\n",
       "        3.06229945e-02, -8.20895191e-03,  2.74397992e-02,  3.76500711e-02,\n",
       "        1.51119716e-02,  1.92585378e-03,  8.68088100e-03,  1.07066827e-02,\n",
       "        1.77348964e-02,  1.55954212e-02,  1.88522153e-02, -8.20384361e-03,\n",
       "        1.77138858e-02, -1.72607806e-02, -2.93646101e-02, -1.38291484e-03,\n",
       "        1.01263402e-02,  1.21707022e-02,  9.81930830e-03,  1.97633654e-02,\n",
       "       -3.56265949e-03,  4.98677231e-03,  9.93368030e-03,  1.47505477e-02,\n",
       "        9.73830093e-03,  6.04501786e-03,  1.26025667e-02, -7.00643286e-03,\n",
       "        5.79388440e-03,  2.49695629e-02,  4.11692355e-03,  4.07357933e-03,\n",
       "        1.47442333e-02, -8.92321859e-03, -8.87863990e-03, -1.86489038e-02,\n",
       "        9.44920722e-03, -2.19721291e-02,  6.00137794e-03, -1.19341537e-02,\n",
       "        1.21647026e-02,  1.70675367e-02,  4.01913142e-03,  4.49753832e-03,\n",
       "       -7.65018340e-04,  2.28521787e-02,  9.18131601e-03, -3.53367068e-02,\n",
       "        7.49705359e-03,  3.15797329e-03,  1.45514077e-02,  1.25306947e-02,\n",
       "       -9.66638234e-03, -8.18244182e-03,  2.57070467e-04, -3.29657048e-02],\n",
       "      dtype=float32)"
      ]
     },
     "execution_count": 37,
     "metadata": {},
     "output_type": "execute_result"
    }
   ],
   "source": [
    "top_gun_vector"
   ]
  },
  {
   "cell_type": "markdown",
   "id": "195af674",
   "metadata": {},
   "source": [
    "---\n",
    "# 6. 결과값 보기\n",
    "---"
   ]
  },
  {
   "cell_type": "markdown",
   "id": "29101ee2",
   "metadata": {},
   "source": [
    "---\n",
    "### 6-1. 훈련 모델의 예측 선호도 파악 \n",
    "---"
   ]
  },
  {
   "cell_type": "code",
   "execution_count": 38,
   "id": "ff662ea4",
   "metadata": {},
   "outputs": [
    {
     "data": {
      "text/plain": [
       "0.33012316"
      ]
     },
     "execution_count": 38,
     "metadata": {},
     "output_type": "execute_result"
    }
   ],
   "source": [
    "# 유저와 선택된 영화와 내적하는 코드\n",
    "np.dot(kk_vector, top_gun_vector)"
   ]
  },
  {
   "cell_type": "code",
   "execution_count": 39,
   "id": "a20e7cc7",
   "metadata": {},
   "outputs": [],
   "source": [
    "def prediction_score(movie_name: str):\n",
    "    movie_id = movie_to_idx[movie_name]\n",
    "    movie_vector = als_model.item_factors[movie_id]\n",
    "    return np.dot(kk_vector, movie_vector)"
   ]
  },
  {
   "cell_type": "code",
   "execution_count": 40,
   "id": "1bd7e896",
   "metadata": {},
   "outputs": [
    {
     "data": {
      "text/plain": [
       "0.33012316"
      ]
     },
     "execution_count": 40,
     "metadata": {},
     "output_type": "execute_result"
    }
   ],
   "source": [
    "prediction_score('top gun (1986)')"
   ]
  },
  {
   "cell_type": "code",
   "execution_count": 41,
   "id": "ade9c753",
   "metadata": {},
   "outputs": [
    {
     "data": {
      "text/plain": [
       "0.5202953"
      ]
     },
     "execution_count": 41,
     "metadata": {},
     "output_type": "execute_result"
    }
   ],
   "source": [
    "prediction_score('back to the future (1985)')"
   ]
  },
  {
   "cell_type": "code",
   "execution_count": 42,
   "id": "5c4e128b",
   "metadata": {},
   "outputs": [
    {
     "data": {
      "text/plain": [
       "0.5561979"
      ]
     },
     "execution_count": 42,
     "metadata": {},
     "output_type": "execute_result"
    }
   ],
   "source": [
    "prediction_score('gone with the wind (1939)')"
   ]
  },
  {
   "cell_type": "code",
   "execution_count": 43,
   "id": "591985a3",
   "metadata": {},
   "outputs": [
    {
     "data": {
      "text/plain": [
       "0.4871621"
      ]
     },
     "execution_count": 43,
     "metadata": {},
     "output_type": "execute_result"
    }
   ],
   "source": [
    "prediction_score('shawshank redemption, the (1994)')"
   ]
  },
  {
   "cell_type": "markdown",
   "id": "2f2143e2",
   "metadata": {},
   "source": [
    "---\n",
    "### 6-2. 비슷한 영화 추천 받기\n",
    "---"
   ]
  },
  {
   "cell_type": "code",
   "execution_count": 44,
   "id": "63f22b8d",
   "metadata": {},
   "outputs": [
    {
     "data": {
      "text/plain": [
       "[(157, 0.99999994),\n",
       " (121, 0.79315525),\n",
       " (23, 0.7747502),\n",
       " (222, 0.73623675),\n",
       " (51, 0.67717946),\n",
       " (248, 0.6679753),\n",
       " (269, 0.6411027),\n",
       " (323, 0.51672226),\n",
       " (48, 0.4980822),\n",
       " (233, 0.48054984),\n",
       " (3517, 0.39576027),\n",
       " (3493, 0.3956594),\n",
       " (100, 0.39500067),\n",
       " (472, 0.38406563),\n",
       " (0, 0.3816774)]"
      ]
     },
     "execution_count": 44,
     "metadata": {},
     "output_type": "execute_result"
    }
   ],
   "source": [
    "favorite_movie = \"shawshank redemption, the (1994)\"\n",
    "movie_id = movie_to_idx[favorite_movie]\n",
    "similar_movies = als_model.similar_items(movie_id, N=15)\n",
    "similar_movies"
   ]
  },
  {
   "cell_type": "code",
   "execution_count": 45,
   "id": "4f9fed2b",
   "metadata": {},
   "outputs": [
    {
     "data": {
      "text/plain": [
       "['shawshank redemption, the (1994)',\n",
       " 'silence of the lambs, the (1991)',\n",
       " \"schindler's list (1993)\",\n",
       " 'pulp fiction (1994)',\n",
       " 'fargo (1996)',\n",
       " 'good will hunting (1997)',\n",
       " 'goodfellas (1990)',\n",
       " 'dead man walking (1995)',\n",
       " 'saving private ryan (1998)',\n",
       " 'usual suspects, the (1995)',\n",
       " 'paralyzing fear: the story of polio in america, a (1998)',\n",
       " 'held up (2000)',\n",
       " 'amadeus (1984)',\n",
       " 'sling blade (1996)',\n",
       " \"one flew over the cuckoo's nest (1975)\"]"
      ]
     },
     "execution_count": 45,
     "metadata": {},
     "output_type": "execute_result"
    }
   ],
   "source": [
    "#artist_to_idx 를 뒤집어, index로부터 artist 이름을 얻는 dict를 생성합니다. \n",
    "idx_to_movie = {v:k for k,v in movie_to_idx.items()}\n",
    "[idx_to_movie[i[0]] for i in similar_movies]"
   ]
  },
  {
   "cell_type": "code",
   "execution_count": 46,
   "id": "f9b4d08d",
   "metadata": {},
   "outputs": [
    {
     "data": {
      "text/plain": [
       "[0.79315525,\n",
       " 0.7747502,\n",
       " 0.73623675,\n",
       " 0.67717946,\n",
       " 0.6679753,\n",
       " 0.6411027,\n",
       " 0.51672226,\n",
       " 0.4980822,\n",
       " 0.48054984,\n",
       " 0.39576027,\n",
       " 0.3956594,\n",
       " 0.39500067,\n",
       " 0.38406563,\n",
       " 0.3816774]"
      ]
     },
     "execution_count": 46,
     "metadata": {},
     "output_type": "execute_result"
    }
   ],
   "source": [
    "a = [i[1] for i in similar_movies]\n",
    "a = a[1:]\n",
    "a"
   ]
  },
  {
   "cell_type": "code",
   "execution_count": 47,
   "id": "9ab1079c",
   "metadata": {},
   "outputs": [],
   "source": [
    "def get_similar_movie(movie_name: str):\n",
    "    movie_id = movie_to_idx[movie_name]\n",
    "    similar_movies = als_model.similar_items(movie_id)\n",
    "    similar_movies = [idx_to_movie[i[0]] for i in similar_movies]\n",
    "    return similar_movies\n"
   ]
  },
  {
   "cell_type": "code",
   "execution_count": 48,
   "id": "e77d184e",
   "metadata": {},
   "outputs": [
    {
     "data": {
      "text/plain": [
       "['top gun (1986)',\n",
       " 'romancing the stone (1984)',\n",
       " 'dirty dancing (1987)',\n",
       " 'indiana jones and the temple of doom (1984)',\n",
       " 'jewel of the nile, the (1985)',\n",
       " 'first blood (1982)',\n",
       " 'red dawn (1984)',\n",
       " 'presidio, the (1988)',\n",
       " 'flashdance (1983)',\n",
       " 'heartbreak ridge (1986)']"
      ]
     },
     "execution_count": 48,
     "metadata": {},
     "output_type": "execute_result"
    }
   ],
   "source": [
    "get_similar_movie('top gun (1986)')"
   ]
  },
  {
   "cell_type": "code",
   "execution_count": 49,
   "id": "9a0e10d4",
   "metadata": {},
   "outputs": [
    {
     "data": {
      "text/plain": [
       "['back to the future (1985)',\n",
       " \"ferris bueller's day off (1986)\",\n",
       " 'when harry met sally... (1989)',\n",
       " 'ghostbusters (1984)',\n",
       " 'e.t. the extra-terrestrial (1982)',\n",
       " 'back to the future part ii (1989)',\n",
       " 'fish called wanda, a (1988)',\n",
       " 'big (1988)',\n",
       " 'bull durham (1988)',\n",
       " 'airplane! (1980)']"
      ]
     },
     "execution_count": 49,
     "metadata": {},
     "output_type": "execute_result"
    }
   ],
   "source": [
    "get_similar_movie('back to the future (1985)')"
   ]
  },
  {
   "cell_type": "code",
   "execution_count": 50,
   "id": "ed539adc",
   "metadata": {},
   "outputs": [
    {
     "data": {
      "text/plain": [
       "['gone with the wind (1939)',\n",
       " 'doctor zhivago (1965)',\n",
       " 'casablanca (1942)',\n",
       " 'grapes of wrath, the (1940)',\n",
       " 'african queen, the (1951)',\n",
       " 'graduate, the (1967)',\n",
       " 'my fair lady (1964)',\n",
       " 'from here to eternity (1953)',\n",
       " 'sense and sensibility (1995)',\n",
       " 'romeo and juliet (1968)']"
      ]
     },
     "execution_count": 50,
     "metadata": {},
     "output_type": "execute_result"
    }
   ],
   "source": [
    "get_similar_movie('gone with the wind (1939)') "
   ]
  },
  {
   "cell_type": "code",
   "execution_count": 51,
   "id": "e657b17b",
   "metadata": {},
   "outputs": [
    {
     "data": {
      "text/plain": [
       "['shawshank redemption, the (1994)',\n",
       " 'silence of the lambs, the (1991)',\n",
       " \"schindler's list (1993)\",\n",
       " 'pulp fiction (1994)',\n",
       " 'fargo (1996)',\n",
       " 'good will hunting (1997)',\n",
       " 'goodfellas (1990)',\n",
       " 'dead man walking (1995)',\n",
       " 'saving private ryan (1998)',\n",
       " 'usual suspects, the (1995)']"
      ]
     },
     "execution_count": 51,
     "metadata": {},
     "output_type": "execute_result"
    }
   ],
   "source": [
    "get_similar_movie('shawshank redemption, the (1994)')"
   ]
  },
  {
   "cell_type": "markdown",
   "id": "9de5ae4b",
   "metadata": {},
   "source": [
    "---\n",
    "### 6-3. 내가 좋아할 만한 영화 추천 받기\n",
    "---"
   ]
  },
  {
   "cell_type": "code",
   "execution_count": 52,
   "id": "0eaa8220",
   "metadata": {},
   "outputs": [
    {
     "data": {
      "text/plain": [
       "[(23, 0.5285251),\n",
       " (27, 0.41361856),\n",
       " (107, 0.38810623),\n",
       " (121, 0.3826729),\n",
       " (87, 0.37727588),\n",
       " (48, 0.37532243),\n",
       " (0, 0.34825504),\n",
       " (488, 0.32293522),\n",
       " (160, 0.30498812),\n",
       " (51, 0.296704),\n",
       " (5, 0.2902982),\n",
       " (26, 0.27732688),\n",
       " (138, 0.2744561),\n",
       " (150, 0.26751727),\n",
       " (361, 0.26606333),\n",
       " (92, 0.2517809),\n",
       " (110, 0.25133187),\n",
       " (99, 0.25094175),\n",
       " (161, 0.2492479),\n",
       " (325, 0.24773131)]"
      ]
     },
     "execution_count": 52,
     "metadata": {},
     "output_type": "execute_result"
    }
   ],
   "source": [
    "user = user_to_idx[6041]\n",
    "# recommend에서는 user*item CSR Matrix를 받습니다.\n",
    "movies_recommended = als_model.recommend(user, csr_data, N=20, filter_already_liked_items=True)\n",
    "movies_recommended"
   ]
  },
  {
   "cell_type": "code",
   "execution_count": 53,
   "id": "c7dff09e",
   "metadata": {},
   "outputs": [
    {
     "data": {
      "text/plain": [
       "[\"schindler's list (1993)\",\n",
       " 'titanic (1997)',\n",
       " 'jurassic park (1993)',\n",
       " 'silence of the lambs, the (1991)',\n",
       " 'braveheart (1995)',\n",
       " 'saving private ryan (1998)',\n",
       " \"one flew over the cuckoo's nest (1975)\",\n",
       " 'when harry met sally... (1989)',\n",
       " 'forrest gump (1994)',\n",
       " 'fargo (1996)',\n",
       " 'princess bride, the (1987)',\n",
       " 'e.t. the extra-terrestrial (1982)',\n",
       " 'true lies (1994)',\n",
       " 'independence day (id4) (1996)',\n",
       " 'casablanca (1942)',\n",
       " 'terminator 2: judgment day (1991)',\n",
       " 'groundhog day (1993)',\n",
       " 'american beauty (1999)',\n",
       " 'graduate, the (1967)',\n",
       " 'romancing the stone (1984)']"
      ]
     },
     "execution_count": 53,
     "metadata": {},
     "output_type": "execute_result"
    }
   ],
   "source": [
    "[idx_to_movie[i[0]] for i in movies_recommended]"
   ]
  },
  {
   "cell_type": "markdown",
   "id": "71bb7c26",
   "metadata": {},
   "source": [
    "---\n",
    "### 6-4 모델이 추천한 영화가 실제로 선호하는지 계산하여 모델의 객관적 지표 도출\n",
    "---"
   ]
  },
  {
   "cell_type": "code",
   "execution_count": 54,
   "id": "16f0012a",
   "metadata": {},
   "outputs": [],
   "source": [
    "apollo = movie_to_idx['jurassic park (1993)']\n",
    "explain = als_model.explain(user, csr_data, itemid=apollo)"
   ]
  },
  {
   "cell_type": "code",
   "execution_count": 55,
   "id": "0051e7c0",
   "metadata": {},
   "outputs": [
    {
     "data": {
      "text/plain": [
       "[('men in black (1997)', 0.36267276784442826),\n",
       " ('back to the future (1985)', 0.04980423342896933),\n",
       " ('shawshank redemption, the (1994)', 0.018978326575934186),\n",
       " ('top gun (1986)', -0.01507857203732931),\n",
       " ('gone with the wind (1939)', -0.03101653977552586)]"
      ]
     },
     "execution_count": 55,
     "metadata": {},
     "output_type": "execute_result"
    }
   ],
   "source": [
    "[(idx_to_movie[i[0]], i[1]) for i in explain[1]]"
   ]
  },
  {
   "cell_type": "code",
   "execution_count": 56,
   "id": "a2d85df9",
   "metadata": {},
   "outputs": [],
   "source": [
    "def recomended_score(movie_name: str):\n",
    "    movie_id = movie_to_idx[movie_name]\n",
    "    explain = als_model.explain(user, csr_data, itemid=movie_id)\n",
    "    return [(idx_to_movie[i[0]], i[1]) for i in explain[1]]"
   ]
  },
  {
   "cell_type": "code",
   "execution_count": 57,
   "id": "b08972c2",
   "metadata": {},
   "outputs": [
    {
     "data": {
      "text/plain": [
       "[('men in black (1997)', 0.36267276784442826),\n",
       " ('back to the future (1985)', 0.04980423342896933),\n",
       " ('shawshank redemption, the (1994)', 0.018978326575934186),\n",
       " ('top gun (1986)', -0.01507857203732931),\n",
       " ('gone with the wind (1939)', -0.03101653977552586)]"
      ]
     },
     "execution_count": 57,
     "metadata": {},
     "output_type": "execute_result"
    }
   ],
   "source": [
    "recomended_score('jurassic park (1993)')"
   ]
  },
  {
   "cell_type": "code",
   "execution_count": 58,
   "id": "9b96b7bc",
   "metadata": {},
   "outputs": [
    {
     "data": {
      "text/plain": [
       "[('shawshank redemption, the (1994)', 0.3460943663745585),\n",
       " ('back to the future (1985)', 0.05988819286281287),\n",
       " ('men in black (1997)', 0.02634716704188549),\n",
       " ('gone with the wind (1939)', -0.02691692952583019),\n",
       " ('top gun (1986)', -0.03170718995270112)]"
      ]
     },
     "execution_count": 58,
     "metadata": {},
     "output_type": "execute_result"
    }
   ],
   "source": [
    "recomended_score('silence of the lambs, the (1991)')"
   ]
  },
  {
   "cell_type": "markdown",
   "id": "6cae717f",
   "metadata": {},
   "source": [
    "---\n",
    "# 7. 평가지표 고민해보기\n",
    "---"
   ]
  },
  {
   "cell_type": "markdown",
   "id": "c50fc425",
   "metadata": {},
   "source": [
    "- 하이퍼파라미터를 변경했을 때, 모델의 성능이 얼마나 변화하는지를 확인해보고자 한다.\n",
    "- 추천 시스템의 경우, 실제로 추천을 통해서 얼마나 유입이 늘었는지, 매출이 늘었는지, 클릭율이 늘었는지 확인하는 것이 통상적이지만\n",
    "- 이번 과정에서의 경우 그런 지표를 확인할 수 없다.\n",
    "\n",
    "- 현재 내가 좋아하는 영화 5가지를 토대로 여러 과정을 거쳐, 내가 좋아할만한 영화를 추천해주고 있다.\n",
    "- 추천한 영화가 실제 선호하는지 계산한 6-4 파트에서 모델의 객관적 지표를 도출하는 과정을 보면\n",
    "- 한 영화를 recomended_score 함수에 넣었을 때,  \n",
    "내가 좋아하는 5가지 영화를 기준으로 추천한 영화와 좋아하는 영화가 얼마나 유사한지 지표가 나오고 있다.\n",
    "- 그렇다면, 추천해주는 총 20가지의 영화의 각각이, 내가 좋아하는 5가지 영화와 얼마나 유사한지 나오는 값에 대해 각각의 평균을 낸 후 \n",
    "- 하이퍼파라미터 값을 바꿨을 때, 해당 모델이 얼마나 잘 추천해주는지 비교를 하고자 한다."
   ]
  },
  {
   "cell_type": "code",
   "execution_count": 59,
   "id": "1fede232",
   "metadata": {},
   "outputs": [],
   "source": [
    "def prediction_score(movie_name: str, als_model):\n",
    "    kk_vector = als_model.user_factors[kk]\n",
    "    movie_id = movie_to_idx[movie_name]\n",
    "    movie_vector = als_model.item_factors[movie_id]\n",
    "    return np.dot(kk_vector, movie_vector)\n",
    "\n",
    "def get_similar_movie(movie_name: str, als_model):\n",
    "    movie_id = movie_to_idx[movie_name]\n",
    "    similar_movies = als_model.similar_items(movie_id)\n",
    "    similar_movies = [idx_to_movie[i[0]] for i in similar_movies]\n",
    "    return similar_movies[1:]\n",
    "\n",
    "def recomended_score(movie_name: str, als_model):\n",
    "    movie_id = movie_to_idx[movie_name]\n",
    "    explain = als_model.explain(user, csr_data, itemid=movie_id)\n",
    "    return [(idx_to_movie[i[0]], i[1]) for i in explain[1]]"
   ]
  },
  {
   "cell_type": "code",
   "execution_count": 60,
   "id": "c9147e7f",
   "metadata": {},
   "outputs": [],
   "source": [
    "def recommended_list(als_model):\n",
    "    user = user_to_idx[6041]\n",
    "    # recommend에서는 user*item CSR Matrix를 받습니다.\n",
    "    movies_recommended = als_model.recommend(user, csr_data, N=20, filter_already_liked_items=True)\n",
    "    return [idx_to_movie[i[0]] for i in movies_recommended]"
   ]
  },
  {
   "cell_type": "code",
   "execution_count": 61,
   "id": "0c9819a0",
   "metadata": {},
   "outputs": [],
   "source": [
    "def evaluation_index(als_model):\n",
    "    total_score=[]\n",
    "    for i in recommended_list(als_model): # 추천리스트 선정 (20가지)\n",
    "        score=[] # 빈 리스트 생성 \n",
    "        for j in range(len(recomended_score(i,als_model))): # 추천 리스트 개별값과 좋아하는 영화 5가지의 유사도 측정\n",
    "            score.append(recomended_score(i,als_model)[j][1]) # 결과값 리스트에 추가\n",
    "        mean_score = np.mean(score) # 5가지 유사도의 값에 대한 평균값 산출\n",
    "        total_score.append(mean_score) # 전체 20가지 리스트값에 대한 평균값 산출\n",
    "    return round(np.mean(total_score),5) # 소수점 아래 5가지까지만 값 산출"
   ]
  },
  {
   "cell_type": "markdown",
   "id": "26942d84",
   "metadata": {},
   "source": [
    "- 첫번째 모델의 평가지표 값"
   ]
  },
  {
   "cell_type": "code",
   "execution_count": 62,
   "id": "f4fcc2dc",
   "metadata": {},
   "outputs": [
    {
     "data": {
      "text/plain": [
       "0.06267"
      ]
     },
     "execution_count": 62,
     "metadata": {},
     "output_type": "execute_result"
    }
   ],
   "source": [
    "evaluation_index(als_model)"
   ]
  },
  {
   "cell_type": "markdown",
   "id": "546efb14",
   "metadata": {},
   "source": [
    "---\n",
    "# 8. 하이퍼 파라미터 바꿔 보기\n",
    "---"
   ]
  },
  {
   "cell_type": "markdown",
   "id": "83a53a20",
   "metadata": {},
   "source": [
    "해당 모델에서 바꿔볼 수 있는 하이퍼 파라미터는 크게 factor / regularization / iterations 가 있다.  \n",
    "해당 값들을 바꿔보면서 어떤 하이퍼 파라미터가 모델에 영향을 미치는지 확인해보고자 한다."
   ]
  },
  {
   "cell_type": "markdown",
   "id": "22bc0a55",
   "metadata": {},
   "source": [
    "---\n",
    "### 8-1 factors가 20일 때\n",
    "---"
   ]
  },
  {
   "cell_type": "code",
   "execution_count": 63,
   "id": "66dd3f75",
   "metadata": {},
   "outputs": [],
   "source": [
    "als_model2 = AlternatingLeastSquares(factors=20, regularization=0.01, use_gpu=False, iterations=15, dtype=np.float32)"
   ]
  },
  {
   "cell_type": "code",
   "execution_count": 64,
   "id": "0458741d",
   "metadata": {},
   "outputs": [
    {
     "data": {
      "application/vnd.jupyter.widget-view+json": {
       "model_id": "f6bf665c28a24a5ba27d46e85cc22a8f",
       "version_major": 2,
       "version_minor": 0
      },
      "text/plain": [
       "  0%|          | 0/15 [00:00<?, ?it/s]"
      ]
     },
     "metadata": {},
     "output_type": "display_data"
    }
   ],
   "source": [
    "# 모델 훈련\n",
    "als_model2.fit(csr_data_transpose)"
   ]
  },
  {
   "cell_type": "code",
   "execution_count": 65,
   "id": "63ab4963",
   "metadata": {
    "scrolled": true
   },
   "outputs": [
    {
     "name": "stdout",
     "output_type": "stream",
     "text": [
      "=============== prediction_score ===============\n",
      "predeiction_score_top gun: 0.11659652\n",
      "predeiction_score_back to the fture: 0.2817905\n"
     ]
    }
   ],
   "source": [
    "print('='*15,'prediction_score','='*15)\n",
    "print('predeiction_score_top gun:' , prediction_score('top gun (1986)',als_model2))\n",
    "print('predeiction_score_back to the fture:', prediction_score('back to the future (1985)',als_model2))"
   ]
  },
  {
   "cell_type": "code",
   "execution_count": 66,
   "id": "988c6742",
   "metadata": {},
   "outputs": [
    {
     "data": {
      "text/plain": [
       "['indiana jones and the temple of doom (1984)',\n",
       " 'romancing the stone (1984)',\n",
       " 'untouchables, the (1987)',\n",
       " 'batman (1989)',\n",
       " 'highlander (1986)',\n",
       " 'for your eyes only (1981)',\n",
       " 'indiana jones and the last crusade (1989)',\n",
       " 'jewel of the nile, the (1985)',\n",
       " 'lethal weapon 2 (1989)']"
      ]
     },
     "execution_count": 66,
     "metadata": {},
     "output_type": "execute_result"
    }
   ],
   "source": [
    "get_similar_movie('top gun (1986)',als_model2)"
   ]
  },
  {
   "cell_type": "code",
   "execution_count": 67,
   "id": "75f5a2cf",
   "metadata": {},
   "outputs": [
    {
     "data": {
      "text/plain": [
       "['e.t. the extra-terrestrial (1982)',\n",
       " 'star wars: episode vi - return of the jedi (1983)',\n",
       " 'star wars: episode v - the empire strikes back (1980)',\n",
       " 'star wars: episode iv - a new hope (1977)',\n",
       " 'raiders of the lost ark (1981)',\n",
       " 'princess bride, the (1987)',\n",
       " 'terminator, the (1984)',\n",
       " 'matrix, the (1999)',\n",
       " 'star wars: episode i - the phantom menace (1999)']"
      ]
     },
     "execution_count": 67,
     "metadata": {},
     "output_type": "execute_result"
    }
   ],
   "source": [
    "get_similar_movie('back to the future (1985)',als_model2)"
   ]
  },
  {
   "cell_type": "code",
   "execution_count": 68,
   "id": "d263370f",
   "metadata": {
    "scrolled": true
   },
   "outputs": [
    {
     "data": {
      "text/plain": [
       "['star wars: episode v - the empire strikes back (1980)',\n",
       " 'star wars: episode vi - return of the jedi (1983)',\n",
       " 'braveheart (1995)',\n",
       " 'saving private ryan (1998)',\n",
       " 'star wars: episode iv - a new hope (1977)',\n",
       " 'american beauty (1999)',\n",
       " 'terminator 2: judgment day (1991)',\n",
       " 'jurassic park (1993)',\n",
       " 'raiders of the lost ark (1981)',\n",
       " \"schindler's list (1993)\",\n",
       " 'silence of the lambs, the (1991)',\n",
       " 'matrix, the (1999)',\n",
       " 'godfather, the (1972)',\n",
       " 'princess bride, the (1987)',\n",
       " 'forrest gump (1994)',\n",
       " 'e.t. the extra-terrestrial (1982)',\n",
       " 'stand by me (1986)',\n",
       " 'terminator, the (1984)',\n",
       " 'fargo (1996)',\n",
       " 'star wars: episode i - the phantom menace (1999)']"
      ]
     },
     "execution_count": 68,
     "metadata": {},
     "output_type": "execute_result"
    }
   ],
   "source": [
    "recommended_list(als_model2)"
   ]
  },
  {
   "cell_type": "code",
   "execution_count": 69,
   "id": "f445b4c1",
   "metadata": {},
   "outputs": [
    {
     "data": {
      "text/plain": [
       "0.05707"
      ]
     },
     "execution_count": 69,
     "metadata": {},
     "output_type": "execute_result"
    }
   ],
   "source": [
    "evaluation_index(als_model2)"
   ]
  },
  {
   "cell_type": "markdown",
   "id": "09b7ee2e",
   "metadata": {},
   "source": [
    "factors = 100 -> 20  \n",
    "20으로 변경했더니 전체 값이 0.05868 -> 0.0568로 약 0.002 감소했다."
   ]
  },
  {
   "cell_type": "markdown",
   "id": "e840a6c8",
   "metadata": {},
   "source": [
    "---\n",
    "### 8-2 factors가 60일 때\n",
    "---"
   ]
  },
  {
   "cell_type": "code",
   "execution_count": 70,
   "id": "213fbfb0",
   "metadata": {},
   "outputs": [],
   "source": [
    "als_model3 = AlternatingLeastSquares(factors=60, regularization=0.01, use_gpu=False, iterations=15, dtype=np.float32)"
   ]
  },
  {
   "cell_type": "code",
   "execution_count": 71,
   "id": "f20d8112",
   "metadata": {},
   "outputs": [
    {
     "data": {
      "application/vnd.jupyter.widget-view+json": {
       "model_id": "5085d0065dc044cfaaacc453f9948b1e",
       "version_major": 2,
       "version_minor": 0
      },
      "text/plain": [
       "  0%|          | 0/15 [00:00<?, ?it/s]"
      ]
     },
     "metadata": {},
     "output_type": "display_data"
    }
   ],
   "source": [
    "# 모델 훈련\n",
    "als_model3.fit(csr_data_transpose)"
   ]
  },
  {
   "cell_type": "code",
   "execution_count": 72,
   "id": "ddb0a88a",
   "metadata": {},
   "outputs": [
    {
     "name": "stdout",
     "output_type": "stream",
     "text": [
      "=============== prediction_score ===============\n",
      "predeiction_score_top gun: 0.21898988\n",
      "predeiction_score_back to the fture: 0.4319263 \n",
      "\n",
      "=============== similar_movie ===============\n"
     ]
    },
    {
     "data": {
      "text/plain": [
       "['romancing the stone (1984)',\n",
       " 'indiana jones and the temple of doom (1984)',\n",
       " 'jewel of the nile, the (1985)',\n",
       " 'dirty dancing (1987)',\n",
       " 'first blood (1982)',\n",
       " 'flashdance (1983)',\n",
       " 'for your eyes only (1981)',\n",
       " 'red dawn (1984)',\n",
       " 'some kind of wonderful (1987)']"
      ]
     },
     "execution_count": 72,
     "metadata": {},
     "output_type": "execute_result"
    }
   ],
   "source": [
    "print('='*15,'prediction_score','='*15)\n",
    "print('predeiction_score_top gun:' , prediction_score('top gun (1986)',als_model3))\n",
    "print('predeiction_score_back to the fture:', prediction_score('back to the future (1985)',als_model3),'\\n')\n",
    "print('='*15,'similar_movie','='*15)\n",
    "get_similar_movie('top gun (1986)',als_model3)"
   ]
  },
  {
   "cell_type": "code",
   "execution_count": 73,
   "id": "2441adbe",
   "metadata": {},
   "outputs": [
    {
     "data": {
      "text/plain": [
       "[\"schindler's list (1993)\",\n",
       " 'forrest gump (1994)',\n",
       " 'saving private ryan (1998)',\n",
       " 'braveheart (1995)',\n",
       " \"one flew over the cuckoo's nest (1975)\",\n",
       " 'jurassic park (1993)',\n",
       " 'casablanca (1942)',\n",
       " 'star wars: episode vi - return of the jedi (1983)',\n",
       " 'e.t. the extra-terrestrial (1982)',\n",
       " 'american beauty (1999)',\n",
       " 'silence of the lambs, the (1991)',\n",
       " 'star wars: episode v - the empire strikes back (1980)',\n",
       " 'star wars: episode iv - a new hope (1977)',\n",
       " 'terminator 2: judgment day (1991)',\n",
       " \"bug's life, a (1998)\",\n",
       " 'toy story 2 (1999)',\n",
       " 'raiders of the lost ark (1981)',\n",
       " 'groundhog day (1993)',\n",
       " \"breakfast at tiffany's (1961)\",\n",
       " 'fargo (1996)']"
      ]
     },
     "execution_count": 73,
     "metadata": {},
     "output_type": "execute_result"
    }
   ],
   "source": [
    "recommended_list(als_model3)"
   ]
  },
  {
   "cell_type": "code",
   "execution_count": 74,
   "id": "f5570d60",
   "metadata": {},
   "outputs": [
    {
     "data": {
      "text/plain": [
       "0.06601"
      ]
     },
     "execution_count": 74,
     "metadata": {},
     "output_type": "execute_result"
    }
   ],
   "source": [
    "evaluation_index(als_model3)"
   ]
  },
  {
   "cell_type": "markdown",
   "id": "acf494a0",
   "metadata": {},
   "source": [
    "---\n",
    "### 8-3 factors가 150일 때\n",
    "---"
   ]
  },
  {
   "cell_type": "code",
   "execution_count": 75,
   "id": "8218051e",
   "metadata": {},
   "outputs": [
    {
     "data": {
      "application/vnd.jupyter.widget-view+json": {
       "model_id": "07ccf304485146ac90fe6ecb6f2f9f8f",
       "version_major": 2,
       "version_minor": 0
      },
      "text/plain": [
       "  0%|          | 0/15 [00:00<?, ?it/s]"
      ]
     },
     "metadata": {},
     "output_type": "display_data"
    }
   ],
   "source": [
    "als_model4 = AlternatingLeastSquares(factors=150, regularization=0.01, use_gpu=False, iterations=15, dtype=np.float32)\n",
    "# 모델 훈련\n",
    "als_model4.fit(csr_data_transpose)"
   ]
  },
  {
   "cell_type": "code",
   "execution_count": 76,
   "id": "d1495aa8",
   "metadata": {},
   "outputs": [
    {
     "name": "stdout",
     "output_type": "stream",
     "text": [
      "=============== prediction_score ===============\n",
      "predeiction_score_top gun: 0.4586939\n",
      "predeiction_score_back to the fture: 0.71047926 \n",
      "\n",
      "=============== similar_movie ===============\n"
     ]
    },
    {
     "data": {
      "text/plain": [
       "['indiana jones and the temple of doom (1984)',\n",
       " 'dirty dancing (1987)',\n",
       " 'first blood (1982)',\n",
       " 'romancing the stone (1984)',\n",
       " 'presidio, the (1988)',\n",
       " 'tequila sunrise (1988)',\n",
       " 'jewel of the nile, the (1985)',\n",
       " 'red dawn (1984)',\n",
       " 'flashdance (1983)']"
      ]
     },
     "execution_count": 76,
     "metadata": {},
     "output_type": "execute_result"
    }
   ],
   "source": [
    "print('='*15,'prediction_score','='*15)\n",
    "print('predeiction_score_top gun:' , prediction_score('top gun (1986)',als_model4))\n",
    "print('predeiction_score_back to the fture:', prediction_score('back to the future (1985)',als_model4),'\\n')\n",
    "print('='*15,'similar_movie','='*15)\n",
    "get_similar_movie('top gun (1986)',als_model4)"
   ]
  },
  {
   "cell_type": "code",
   "execution_count": 77,
   "id": "8b073099",
   "metadata": {},
   "outputs": [
    {
     "data": {
      "text/plain": [
       "['silence of the lambs, the (1991)',\n",
       " 'jurassic park (1993)',\n",
       " \"schindler's list (1993)\",\n",
       " \"one flew over the cuckoo's nest (1975)\",\n",
       " 'when harry met sally... (1989)',\n",
       " 'fargo (1996)',\n",
       " 'romancing the stone (1984)',\n",
       " 'graduate, the (1967)',\n",
       " 'face/off (1997)',\n",
       " 'doctor zhivago (1965)',\n",
       " 'big (1988)',\n",
       " 'groundhog day (1993)',\n",
       " 'good will hunting (1997)',\n",
       " 'independence day (id4) (1996)',\n",
       " 'terminator 2: judgment day (1991)',\n",
       " 'back to the future part ii (1989)',\n",
       " 'goodfellas (1990)',\n",
       " 'pulp fiction (1994)',\n",
       " 'delicatessen (1991)',\n",
       " 'casablanca (1942)']"
      ]
     },
     "execution_count": 77,
     "metadata": {},
     "output_type": "execute_result"
    }
   ],
   "source": [
    "recommended_list(als_model4)"
   ]
  },
  {
   "cell_type": "code",
   "execution_count": 78,
   "id": "09ce8864",
   "metadata": {},
   "outputs": [
    {
     "data": {
      "text/plain": [
       "0.05492"
      ]
     },
     "execution_count": 78,
     "metadata": {},
     "output_type": "execute_result"
    }
   ],
   "source": [
    "evaluation_index(als_model4)"
   ]
  },
  {
   "cell_type": "markdown",
   "id": "3fddf0fb",
   "metadata": {},
   "source": [
    "이전보다 수치가 감소하였다."
   ]
  },
  {
   "cell_type": "markdown",
   "id": "71d55fcb",
   "metadata": {},
   "source": [
    "---\n",
    "### 8-4 factors가 400일 때\n",
    "---"
   ]
  },
  {
   "cell_type": "code",
   "execution_count": 79,
   "id": "cffab9d7",
   "metadata": {},
   "outputs": [
    {
     "data": {
      "application/vnd.jupyter.widget-view+json": {
       "model_id": "2829199cdb4c41138b71db64baf396e3",
       "version_major": 2,
       "version_minor": 0
      },
      "text/plain": [
       "  0%|          | 0/15 [00:00<?, ?it/s]"
      ]
     },
     "metadata": {},
     "output_type": "display_data"
    }
   ],
   "source": [
    "als_model5 = AlternatingLeastSquares(factors=400, regularization=0.01, use_gpu=False, iterations=15, dtype=np.float32)\n",
    "# 모델 훈련\n",
    "als_model5.fit(csr_data_transpose)"
   ]
  },
  {
   "cell_type": "code",
   "execution_count": 80,
   "id": "57f5f597",
   "metadata": {},
   "outputs": [
    {
     "name": "stdout",
     "output_type": "stream",
     "text": [
      "=============== prediction_score ===============\n",
      "predeiction_score_top gun: 0.6824526\n",
      "predeiction_score_back to the fture: 0.92268467 \n",
      "\n",
      "=============== similar_movie ===============\n"
     ]
    },
    {
     "data": {
      "text/plain": [
       "['leading man, the (1996)',\n",
       " 'love is a many-splendored thing (1955)',\n",
       " 'music from another room (1998)',\n",
       " 'allnighter, the (1987)',\n",
       " 't-men (1947)',\n",
       " 'held up (2000)',\n",
       " 'go now (1995)',\n",
       " \"my life and times with antonin artaud (en compagnie d'antonin artaud) (1993)\",\n",
       " 'captives (1994)']"
      ]
     },
     "execution_count": 80,
     "metadata": {},
     "output_type": "execute_result"
    }
   ],
   "source": [
    "print('='*15,'prediction_score','='*15)\n",
    "print('predeiction_score_top gun:' , prediction_score('top gun (1986)',als_model5))\n",
    "print('predeiction_score_back to the fture:', prediction_score('back to the future (1985)',als_model5),'\\n')\n",
    "print('='*15,'similar_movie','='*15)\n",
    "get_similar_movie('top gun (1986)',als_model5)"
   ]
  },
  {
   "cell_type": "code",
   "execution_count": 81,
   "id": "6d8a34ca",
   "metadata": {},
   "outputs": [
    {
     "data": {
      "text/plain": [
       "['silence of the lambs, the (1991)',\n",
       " \"schindler's list (1993)\",\n",
       " 'romancing the stone (1984)',\n",
       " 'jurassic park (1993)',\n",
       " 'back to the future part ii (1989)',\n",
       " 'm*a*s*h (1970)',\n",
       " 'nutty professor, the (1996)',\n",
       " 'legends of the fall (1994)',\n",
       " 'first blood (1982)',\n",
       " 'delicatessen (1991)',\n",
       " 'indiana jones and the temple of doom (1984)',\n",
       " 'doctor zhivago (1965)',\n",
       " 'streetcar named desire, a (1951)',\n",
       " 'pretty woman (1990)',\n",
       " 'braveheart (1995)',\n",
       " 'hudsucker proxy, the (1994)',\n",
       " 'mary poppins (1964)',\n",
       " 'toy story (1995)',\n",
       " 'contact (1997)',\n",
       " 'terminator, the (1984)']"
      ]
     },
     "execution_count": 81,
     "metadata": {},
     "output_type": "execute_result"
    }
   ],
   "source": [
    "recommended_list(als_model5)"
   ]
  },
  {
   "cell_type": "code",
   "execution_count": 82,
   "id": "0db09c57",
   "metadata": {},
   "outputs": [
    {
     "data": {
      "text/plain": [
       "0.02867"
      ]
     },
     "execution_count": 82,
     "metadata": {},
     "output_type": "execute_result"
    }
   ],
   "source": [
    "evaluation_index(als_model5)"
   ]
  },
  {
   "cell_type": "markdown",
   "id": "c44b512a",
   "metadata": {},
   "source": [
    "factor가 증가할 수록 수치가 감소하는 추세인 것 같다.  \n",
    "마지막으로 값을 더 늘려보고 감소하는 추세가 맞는지 확인해 보겠다."
   ]
  },
  {
   "cell_type": "markdown",
   "id": "095397e8",
   "metadata": {},
   "source": [
    "---\n",
    "### 8-5 factors가 1000일 때\n",
    "---"
   ]
  },
  {
   "cell_type": "code",
   "execution_count": 125,
   "id": "806dbb47",
   "metadata": {},
   "outputs": [
    {
     "data": {
      "application/vnd.jupyter.widget-view+json": {
       "model_id": "d6c4bfaade0741e6aca56039f7a9604d",
       "version_major": 2,
       "version_minor": 0
      },
      "text/plain": [
       "  0%|          | 0/15 [00:00<?, ?it/s]"
      ]
     },
     "metadata": {},
     "output_type": "display_data"
    }
   ],
   "source": [
    "als_model6 = AlternatingLeastSquares(factors=1000, regularization=0.01, use_gpu=False, iterations=15, dtype=np.float32)\n",
    "# 모델 훈련\n",
    "als_model6.fit(csr_data_transpose)"
   ]
  },
  {
   "cell_type": "code",
   "execution_count": 126,
   "id": "88f93fed",
   "metadata": {},
   "outputs": [
    {
     "name": "stdout",
     "output_type": "stream",
     "text": [
      "=============== prediction_score ===============\n",
      "predeiction_score_top gun: 0.9322408\n",
      "predeiction_score_back to the fture: 0.99144804 \n",
      "\n",
      "=============== similar_movie ===============\n"
     ]
    },
    {
     "data": {
      "text/plain": [
       "['held up (2000)',\n",
       " 'allnighter, the (1987)',\n",
       " 'home page (1999)',\n",
       " 'last klezmer: leopold kozlowski, his life and music, the (1995)',\n",
       " 'make them die slowly (cannibal ferox) (1980)',\n",
       " 'second best (1994)',\n",
       " 'i, worst of all (yo, la peor de todas) (1990)',\n",
       " 'captives (1994)',\n",
       " 'jerry & tom (1998)']"
      ]
     },
     "execution_count": 126,
     "metadata": {},
     "output_type": "execute_result"
    }
   ],
   "source": [
    "print('='*15,'prediction_score','='*15)\n",
    "print('predeiction_score_top gun:' , prediction_score('top gun (1986)',als_model6))\n",
    "print('predeiction_score_back to the fture:', prediction_score('back to the future (1985)',als_model6),'\\n')\n",
    "print('='*15,'similar_movie','='*15)\n",
    "get_similar_movie('top gun (1986)',als_model6)"
   ]
  },
  {
   "cell_type": "code",
   "execution_count": 127,
   "id": "f75f623d",
   "metadata": {},
   "outputs": [
    {
     "data": {
      "text/plain": [
       "['first blood (1982)',\n",
       " 'delicatessen (1991)',\n",
       " 'black hole, the (1979)',\n",
       " 'titanic (1953)',\n",
       " 'clear and present danger (1994)',\n",
       " 'blood simple (1984)',\n",
       " 'east is east (1999)',\n",
       " 'romancing the stone (1984)',\n",
       " 'little voice (1998)',\n",
       " 'on the waterfront (1954)',\n",
       " 'licence to kill (1989)',\n",
       " 'indiana jones and the temple of doom (1984)',\n",
       " 'flirting with disaster (1996)',\n",
       " 'firestarter (1984)',\n",
       " 'philadelphia (1993)',\n",
       " 'back to the future part ii (1989)',\n",
       " 'raisin in the sun, a (1961)',\n",
       " 'raise the red lantern (1991)',\n",
       " 'dial m for murder (1954)',\n",
       " 'small soldiers (1998)']"
      ]
     },
     "execution_count": 127,
     "metadata": {},
     "output_type": "execute_result"
    }
   ],
   "source": [
    "recommended_list(als_model6)"
   ]
  },
  {
   "cell_type": "code",
   "execution_count": 128,
   "id": "6817386c",
   "metadata": {},
   "outputs": [
    {
     "data": {
      "text/plain": [
       "0.01032"
      ]
     },
     "execution_count": 128,
     "metadata": {},
     "output_type": "execute_result"
    }
   ],
   "source": [
    "evaluation_index(als_model6)"
   ]
  },
  {
   "cell_type": "markdown",
   "id": "03b57598",
   "metadata": {},
   "source": [
    "확실히 이전 값 보다 더 떨어지는 것을 확인할 수 있다.  "
   ]
  },
  {
   "cell_type": "markdown",
   "id": "43c6972d",
   "metadata": {},
   "source": [
    "---\n",
    "### 8-6 factor 결과값 한 눈에 보기\n",
    "---"
   ]
  },
  {
   "cell_type": "code",
   "execution_count": 130,
   "id": "ee1fe3b1",
   "metadata": {},
   "outputs": [],
   "source": [
    "ev_score = [evaluation_index(als_model2),\n",
    "           evaluation_index(als_model3),\n",
    "           evaluation_index(als_model),\n",
    "           evaluation_index(als_model4),\n",
    "           evaluation_index(als_model5),\n",
    "           evaluation_index(als_model6)]\n",
    "ev_col = ['factor=20','factor=60','factor=100','factor=150','factor=400','factor=1000']"
   ]
  },
  {
   "cell_type": "code",
   "execution_count": 131,
   "id": "fb732bc4",
   "metadata": {},
   "outputs": [
    {
     "name": "stderr",
     "output_type": "stream",
     "text": [
      "/tmp/ipykernel_128/864321026.py:7: UserWarning: FixedFormatter should only be used together with FixedLocator\n",
      "  ax.set_xticklabels(ev_col,fontsize=16)\n"
     ]
    },
    {
     "data": {
      "image/png": "[encoded data removed]",
      "text/plain": [
       "<Figure size 864x576 with 1 Axes>"
      ]
     },
     "metadata": {
      "needs_background": "light"
     },
     "output_type": "display_data"
    }
   ],
   "source": [
    "import matplotlib.pyplot as plt \n",
    "\n",
    "fig = plt.figure(figsize=(12, 8))\n",
    "ax = fig.add_subplot(1, 1, 1)\n",
    "plt.bar(ev_col, ev_score,color = ['r','limegreen','b','gold','violet','royalblue'])\n",
    "plt.title('Score by Factor',fontsize=(15))\n",
    "ax.set_xticklabels(ev_col,fontsize=16)\n",
    "for i, v in enumerate(ev_col):\n",
    "    plt.text(v, ev_score[i], ev_score[i],                 # 좌표 (x축 = v, y축 = y[0]..y[1], 표시 = y[0]..y[1])\n",
    "             fontsize = 16, \n",
    "             color='black',\n",
    "             horizontalalignment='center',  # horizontalalignment (left, center, right)\n",
    "             verticalalignment='bottom')    # verticalalignment (top, center, bottom)\n",
    "\n",
    "plt.show()\n"
   ]
  },
  {
   "cell_type": "markdown",
   "id": "aaa641e6",
   "metadata": {},
   "source": [
    "결과값을 보면 factor가 증가할 수록 값이 작아지며  \n",
    "factor = 60 일때, 가장 높은 값을 가졌다."
   ]
  },
  {
   "cell_type": "markdown",
   "id": "8eb53436",
   "metadata": {},
   "source": [
    "---\n",
    "### 8-7 iteration 변경해보기 / iterations = 5\n",
    "---"
   ]
  },
  {
   "cell_type": "markdown",
   "id": "ad055a40",
   "metadata": {},
   "source": [
    "위에서 값이 가장 높은 factor = 60을 기준으로  \n",
    "iterations 변경을 통해 가장 이상적인 값을 찾아보겠다."
   ]
  },
  {
   "cell_type": "code",
   "execution_count": 132,
   "id": "1fd86a89",
   "metadata": {},
   "outputs": [
    {
     "data": {
      "application/vnd.jupyter.widget-view+json": {
       "model_id": "1c42f15b9eb947208bab0fff04b0c2ac",
       "version_major": 2,
       "version_minor": 0
      },
      "text/plain": [
       "  0%|          | 0/5 [00:00<?, ?it/s]"
      ]
     },
     "metadata": {},
     "output_type": "display_data"
    }
   ],
   "source": [
    "als_model_it = AlternatingLeastSquares(factors=60, regularization=0.01, use_gpu=False, iterations=5, dtype=np.float32)\n",
    "# 모델 훈련\n",
    "als_model_it.fit(csr_data_transpose)"
   ]
  },
  {
   "cell_type": "code",
   "execution_count": 133,
   "id": "192d0255",
   "metadata": {},
   "outputs": [
    {
     "name": "stdout",
     "output_type": "stream",
     "text": [
      "=============== prediction_score ===============\n",
      "predeiction_score_top gun: 0.2020389\n",
      "predeiction_score_back to the fture: 0.32174549 \n",
      "\n",
      "=============== similar_movie ===============\n"
     ]
    },
    {
     "data": {
      "text/plain": [
       "['romancing the stone (1984)',\n",
       " 'indiana jones and the temple of doom (1984)',\n",
       " 'first blood (1982)',\n",
       " 'dirty dancing (1987)',\n",
       " 'jewel of the nile, the (1985)',\n",
       " 'batman (1989)',\n",
       " 'red dawn (1984)',\n",
       " 'lethal weapon 2 (1989)',\n",
       " 'indiana jones and the last crusade (1989)']"
      ]
     },
     "execution_count": 133,
     "metadata": {},
     "output_type": "execute_result"
    }
   ],
   "source": [
    "print('='*15,'prediction_score','='*15)\n",
    "print('predeiction_score_top gun:' , prediction_score('top gun (1986)',als_model_it))\n",
    "print('predeiction_score_back to the fture:', prediction_score('back to the future (1985)',als_model_it),'\\n')\n",
    "print('='*15,'similar_movie','='*15)\n",
    "get_similar_movie('top gun (1986)',als_model_it)"
   ]
  },
  {
   "cell_type": "code",
   "execution_count": 134,
   "id": "77521ef8",
   "metadata": {},
   "outputs": [
    {
     "data": {
      "text/plain": [
       "[\"schindler's list (1993)\",\n",
       " 'saving private ryan (1998)',\n",
       " 'braveheart (1995)',\n",
       " 'jurassic park (1993)',\n",
       " 'princess bride, the (1987)',\n",
       " 'e.t. the extra-terrestrial (1982)',\n",
       " 'casablanca (1942)',\n",
       " 'terminator 2: judgment day (1991)',\n",
       " 'silence of the lambs, the (1991)',\n",
       " 'fargo (1996)',\n",
       " 'star wars: episode vi - return of the jedi (1983)',\n",
       " 'star wars: episode v - the empire strikes back (1980)',\n",
       " 'forrest gump (1994)',\n",
       " 'shakespeare in love (1998)',\n",
       " 'matrix, the (1999)',\n",
       " 'star wars: episode iv - a new hope (1977)',\n",
       " 'toy story (1995)',\n",
       " 'wizard of oz, the (1939)',\n",
       " 'american beauty (1999)',\n",
       " 'rain man (1988)']"
      ]
     },
     "execution_count": 134,
     "metadata": {},
     "output_type": "execute_result"
    }
   ],
   "source": [
    "recommended_list(als_model_it)"
   ]
  },
  {
   "cell_type": "code",
   "execution_count": 135,
   "id": "f18af110",
   "metadata": {},
   "outputs": [
    {
     "data": {
      "text/plain": [
       "0.06112"
      ]
     },
     "execution_count": 135,
     "metadata": {},
     "output_type": "execute_result"
    }
   ],
   "source": [
    "evaluation_index(als_model_it)"
   ]
  },
  {
   "cell_type": "markdown",
   "id": "bdf81f54",
   "metadata": {},
   "source": [
    "기존 factor = 60 / iterations = 15의 값은 0.06601 이었다.  \n",
    "현재 iterations의 값만 줄인 결과 수치가 약간 감소하는 것을 확인 할 수 있다."
   ]
  },
  {
   "cell_type": "markdown",
   "id": "2467da52",
   "metadata": {},
   "source": [
    "---\n",
    "### 8-8  iterations = 30\n",
    "---"
   ]
  },
  {
   "cell_type": "code",
   "execution_count": 136,
   "id": "b2b4697b",
   "metadata": {},
   "outputs": [
    {
     "data": {
      "application/vnd.jupyter.widget-view+json": {
       "model_id": "8ac567842ac64e8592410f0fa90dbe86",
       "version_major": 2,
       "version_minor": 0
      },
      "text/plain": [
       "  0%|          | 0/30 [00:00<?, ?it/s]"
      ]
     },
     "metadata": {},
     "output_type": "display_data"
    }
   ],
   "source": [
    "als_model_it2 = AlternatingLeastSquares(factors=60, regularization=0.01, use_gpu=False, iterations=30, dtype=np.float32)\n",
    "# 모델 훈련\n",
    "als_model_it2.fit(csr_data_transpose)"
   ]
  },
  {
   "cell_type": "code",
   "execution_count": 137,
   "id": "30ec772d",
   "metadata": {},
   "outputs": [
    {
     "name": "stdout",
     "output_type": "stream",
     "text": [
      "=============== prediction_score ===============\n",
      "predeiction_score_top gun: 0.20414504\n",
      "predeiction_score_back to the fture: 0.38649178 \n",
      "\n",
      "=============== similar_movie ===============\n"
     ]
    },
    {
     "data": {
      "text/plain": [
       "['romancing the stone (1984)',\n",
       " 'indiana jones and the temple of doom (1984)',\n",
       " 'dirty dancing (1987)',\n",
       " 'jewel of the nile, the (1985)',\n",
       " 'first blood (1982)',\n",
       " 'pretty in pink (1986)',\n",
       " 'grease (1978)',\n",
       " 'red dawn (1984)',\n",
       " 'flashdance (1983)']"
      ]
     },
     "execution_count": 137,
     "metadata": {},
     "output_type": "execute_result"
    }
   ],
   "source": [
    "print('='*15,'prediction_score','='*15)\n",
    "print('predeiction_score_top gun:' , prediction_score('top gun (1986)',als_model_it2))\n",
    "print('predeiction_score_back to the fture:', prediction_score('back to the future (1985)',als_model_it2),'\\n')\n",
    "print('='*15,'similar_movie','='*15)\n",
    "get_similar_movie('top gun (1986)',als_model_it2)"
   ]
  },
  {
   "cell_type": "code",
   "execution_count": 138,
   "id": "1f5ed2d1",
   "metadata": {},
   "outputs": [
    {
     "data": {
      "text/plain": [
       "['casablanca (1942)',\n",
       " 'star wars: episode vi - return of the jedi (1983)',\n",
       " 'star wars: episode v - the empire strikes back (1980)',\n",
       " \"schindler's list (1993)\",\n",
       " 'e.t. the extra-terrestrial (1982)',\n",
       " 'saving private ryan (1998)',\n",
       " 'star wars: episode iv - a new hope (1977)',\n",
       " 'forrest gump (1994)',\n",
       " 'braveheart (1995)',\n",
       " 'princess bride, the (1987)',\n",
       " 'silence of the lambs, the (1991)',\n",
       " 'raiders of the lost ark (1981)',\n",
       " 'american beauty (1999)',\n",
       " 'jurassic park (1993)',\n",
       " 'wizard of oz, the (1939)',\n",
       " 'matrix, the (1999)',\n",
       " 'graduate, the (1967)',\n",
       " 'fargo (1996)',\n",
       " 'terminator 2: judgment day (1991)',\n",
       " 'toy story (1995)']"
      ]
     },
     "execution_count": 138,
     "metadata": {},
     "output_type": "execute_result"
    }
   ],
   "source": [
    "recommended_list(als_model_it2)"
   ]
  },
  {
   "cell_type": "code",
   "execution_count": 139,
   "id": "4542da94",
   "metadata": {},
   "outputs": [
    {
     "data": {
      "text/plain": [
       "0.06529"
      ]
     },
     "execution_count": 139,
     "metadata": {},
     "output_type": "execute_result"
    }
   ],
   "source": [
    "evaluation_index(als_model_it2)"
   ]
  },
  {
   "cell_type": "markdown",
   "id": "5bd7a5f0",
   "metadata": {},
   "source": [
    "초기값과 비슷하나 약간 감소한 값을 가지고 있다."
   ]
  },
  {
   "cell_type": "markdown",
   "id": "ec338a81",
   "metadata": {},
   "source": [
    "---\n",
    "### 8-9  iterations = 100\n",
    "---"
   ]
  },
  {
   "cell_type": "code",
   "execution_count": 140,
   "id": "de6115e7",
   "metadata": {},
   "outputs": [
    {
     "data": {
      "application/vnd.jupyter.widget-view+json": {
       "model_id": "017d20801edf4eaba0672166fe516d59",
       "version_major": 2,
       "version_minor": 0
      },
      "text/plain": [
       "  0%|          | 0/100 [00:00<?, ?it/s]"
      ]
     },
     "metadata": {},
     "output_type": "display_data"
    }
   ],
   "source": [
    "als_model_it3 = AlternatingLeastSquares(factors=60, regularization=0.01, use_gpu=False, iterations=100, dtype=np.float32)\n",
    "# 모델 훈련\n",
    "als_model_it3.fit(csr_data_transpose)"
   ]
  },
  {
   "cell_type": "code",
   "execution_count": 141,
   "id": "6a544415",
   "metadata": {},
   "outputs": [
    {
     "name": "stdout",
     "output_type": "stream",
     "text": [
      "=============== prediction_score ===============\n",
      "predeiction_score_top gun: 0.19216858\n",
      "predeiction_score_back to the fture: 0.41698313 \n",
      "\n",
      "=============== similar_movie ===============\n"
     ]
    },
    {
     "data": {
      "text/plain": [
       "['romancing the stone (1984)',\n",
       " 'indiana jones and the temple of doom (1984)',\n",
       " 'dirty dancing (1987)',\n",
       " 'jewel of the nile, the (1985)',\n",
       " 'first blood (1982)',\n",
       " 'speed (1994)',\n",
       " 'for your eyes only (1981)',\n",
       " 'flashdance (1983)',\n",
       " 'peggy sue got married (1986)']"
      ]
     },
     "execution_count": 141,
     "metadata": {},
     "output_type": "execute_result"
    }
   ],
   "source": [
    "print('='*15,'prediction_score','='*15)\n",
    "print('predeiction_score_top gun:' , prediction_score('top gun (1986)',als_model_it3))\n",
    "print('predeiction_score_back to the fture:', prediction_score('back to the future (1985)',als_model_it3),'\\n')\n",
    "print('='*15,'similar_movie','='*15)\n",
    "get_similar_movie('top gun (1986)',als_model_it3)"
   ]
  },
  {
   "cell_type": "code",
   "execution_count": 142,
   "id": "c3e70c70",
   "metadata": {},
   "outputs": [
    {
     "data": {
      "text/plain": [
       "['e.t. the extra-terrestrial (1982)',\n",
       " \"schindler's list (1993)\",\n",
       " 'forrest gump (1994)',\n",
       " 'star wars: episode vi - return of the jedi (1983)',\n",
       " 'saving private ryan (1998)',\n",
       " 'casablanca (1942)',\n",
       " 'star wars: episode v - the empire strikes back (1980)',\n",
       " 'braveheart (1995)',\n",
       " 'jurassic park (1993)',\n",
       " 'star wars: episode iv - a new hope (1977)',\n",
       " 'silence of the lambs, the (1991)',\n",
       " 'american beauty (1999)',\n",
       " 'star wars: episode i - the phantom menace (1999)',\n",
       " 'terminator 2: judgment day (1991)',\n",
       " 'toy story (1995)',\n",
       " \"one flew over the cuckoo's nest (1975)\",\n",
       " 'shakespeare in love (1998)',\n",
       " 'matrix, the (1999)',\n",
       " 'toy story 2 (1999)',\n",
       " 'groundhog day (1993)']"
      ]
     },
     "execution_count": 142,
     "metadata": {},
     "output_type": "execute_result"
    }
   ],
   "source": [
    "recommended_list(als_model_it3)"
   ]
  },
  {
   "cell_type": "code",
   "execution_count": 143,
   "id": "018daff7",
   "metadata": {},
   "outputs": [
    {
     "data": {
      "text/plain": [
       "0.06554"
      ]
     },
     "execution_count": 143,
     "metadata": {},
     "output_type": "execute_result"
    }
   ],
   "source": [
    "evaluation_index(als_model_it3)"
   ]
  },
  {
   "cell_type": "markdown",
   "id": "357da8b9",
   "metadata": {},
   "source": [
    "iterations = 30일 때 보다 약간 증가하였다.  \n",
    "iterations의 값을 약간 늘려서 수치의 변화를 확인해 보겠다."
   ]
  },
  {
   "cell_type": "markdown",
   "id": "6e43d32e",
   "metadata": {},
   "source": [
    "---\n",
    "### 8-10  iterations = 150\n",
    "---"
   ]
  },
  {
   "cell_type": "code",
   "execution_count": 144,
   "id": "5c413810",
   "metadata": {},
   "outputs": [
    {
     "data": {
      "application/vnd.jupyter.widget-view+json": {
       "model_id": "2892ac46211f414896f1001ac2cc045d",
       "version_major": 2,
       "version_minor": 0
      },
      "text/plain": [
       "  0%|          | 0/150 [00:00<?, ?it/s]"
      ]
     },
     "metadata": {},
     "output_type": "display_data"
    }
   ],
   "source": [
    "als_model_it4 = AlternatingLeastSquares(factors=60, regularization=0.01, use_gpu=False, iterations=150, dtype=np.float32)\n",
    "# 모델 훈련\n",
    "als_model_it4.fit(csr_data_transpose)"
   ]
  },
  {
   "cell_type": "code",
   "execution_count": 145,
   "id": "9d477c66",
   "metadata": {},
   "outputs": [
    {
     "name": "stdout",
     "output_type": "stream",
     "text": [
      "=============== prediction_score ===============\n",
      "predeiction_score_top gun: 0.18029395\n",
      "predeiction_score_back to the fture: 0.3995411 \n",
      "\n",
      "=============== similar_movie ===============\n"
     ]
    },
    {
     "data": {
      "text/plain": [
       "['romancing the stone (1984)',\n",
       " 'indiana jones and the temple of doom (1984)',\n",
       " 'dirty dancing (1987)',\n",
       " 'jewel of the nile, the (1985)',\n",
       " 'speed (1994)',\n",
       " 'first blood (1982)',\n",
       " 'red dawn (1984)',\n",
       " 'for your eyes only (1981)',\n",
       " 'peggy sue got married (1986)']"
      ]
     },
     "execution_count": 145,
     "metadata": {},
     "output_type": "execute_result"
    }
   ],
   "source": [
    "print('='*15,'prediction_score','='*15)\n",
    "print('predeiction_score_top gun:' , prediction_score('top gun (1986)',als_model_it4))\n",
    "print('predeiction_score_back to the fture:', prediction_score('back to the future (1985)',als_model_it4),'\\n')\n",
    "print('='*15,'similar_movie','='*15)\n",
    "get_similar_movie('top gun (1986)',als_model_it4)"
   ]
  },
  {
   "cell_type": "code",
   "execution_count": 146,
   "id": "9e2a7cf8",
   "metadata": {},
   "outputs": [
    {
     "data": {
      "text/plain": [
       "['e.t. the extra-terrestrial (1982)',\n",
       " 'casablanca (1942)',\n",
       " 'star wars: episode vi - return of the jedi (1983)',\n",
       " \"schindler's list (1993)\",\n",
       " 'saving private ryan (1998)',\n",
       " 'star wars: episode v - the empire strikes back (1980)',\n",
       " 'forrest gump (1994)',\n",
       " 'star wars: episode iv - a new hope (1977)',\n",
       " 'braveheart (1995)',\n",
       " 'jurassic park (1993)',\n",
       " 'silence of the lambs, the (1991)',\n",
       " 'american beauty (1999)',\n",
       " 'terminator 2: judgment day (1991)',\n",
       " 'matrix, the (1999)',\n",
       " 'princess bride, the (1987)',\n",
       " 'raiders of the lost ark (1981)',\n",
       " 'star wars: episode i - the phantom menace (1999)',\n",
       " 'wizard of oz, the (1939)',\n",
       " 'toy story (1995)',\n",
       " 'titanic (1997)']"
      ]
     },
     "execution_count": 146,
     "metadata": {},
     "output_type": "execute_result"
    }
   ],
   "source": [
    "recommended_list(als_model_it4)"
   ]
  },
  {
   "cell_type": "code",
   "execution_count": 147,
   "id": "f2f5bd50",
   "metadata": {},
   "outputs": [
    {
     "data": {
      "text/plain": [
       "0.06465"
      ]
     },
     "execution_count": 147,
     "metadata": {},
     "output_type": "execute_result"
    }
   ],
   "source": [
    "evaluation_index(als_model_it4)"
   ]
  },
  {
   "cell_type": "markdown",
   "id": "d539f621",
   "metadata": {},
   "source": [
    "---\n",
    "### 8-11 iterations 결과값 한 눈에 보기\n",
    "---"
   ]
  },
  {
   "cell_type": "code",
   "execution_count": 148,
   "id": "3cb04550",
   "metadata": {},
   "outputs": [],
   "source": [
    "it_score = [evaluation_index(als_model_it),\n",
    "           evaluation_index(als_model3),\n",
    "           evaluation_index(als_model_it2),\n",
    "           evaluation_index(als_model_it3),\n",
    "           evaluation_index(als_model_it4)]\n",
    "it_col = ['iterations=5','iterations=15','iterations=30','iterations=100','iterations=150']"
   ]
  },
  {
   "cell_type": "code",
   "execution_count": 151,
   "id": "dd1063cf",
   "metadata": {},
   "outputs": [
    {
     "name": "stderr",
     "output_type": "stream",
     "text": [
      "/tmp/ipykernel_128/3266026990.py:5: UserWarning: FixedFormatter should only be used together with FixedLocator\n",
      "  ax.set_xticklabels(it_col,fontsize=16)\n"
     ]
    },
    {
     "data": {
      "image/png": "[encoded data removed]",
      "text/plain": [
       "<Figure size 864x576 with 1 Axes>"
      ]
     },
     "metadata": {
      "needs_background": "light"
     },
     "output_type": "display_data"
    }
   ],
   "source": [
    "fig = plt.figure(figsize=(12, 8))\n",
    "ax = fig.add_subplot(1, 1, 1)\n",
    "plt.bar(it_col, it_score, color = ['r','limegreen','b','gold','violet'])\n",
    "plt.title('Score by Iterations[factor=60]',fontsize=(20))\n",
    "ax.set_xticklabels(it_col,fontsize=16)\n",
    "for i, v in enumerate(it_col):\n",
    "    plt.text(v, it_score[i], it_score[i],                 # 좌표 (x축 = v, y축 = y[0]..y[1], 표시 = y[0]..y[1])\n",
    "             fontsize = 16, \n",
    "             color='black',\n",
    "             horizontalalignment='center',  # horizontalalignment (left, center, right)\n",
    "             verticalalignment='bottom')    # verticalalignment (top, center, bottom)\n",
    "\n",
    "plt.show()\n",
    "\n"
   ]
  },
  {
   "cell_type": "markdown",
   "id": "cf567097",
   "metadata": {},
   "source": [
    "factor=60 / iterations = 15를 기준으로 삼았을때,  \n",
    "iterations의 값을 변경해도 점수의 차이는 크게 변경되지 않았다."
   ]
  },
  {
   "cell_type": "markdown",
   "id": "5172cb33",
   "metadata": {},
   "source": [
    "---\n",
    "### 번외. 과적합 조절해보기\n",
    "---"
   ]
  },
  {
   "cell_type": "markdown",
   "id": "0e82c24f",
   "metadata": {},
   "source": [
    "- 8-6의 factor 결과값을 보면 factor가 클수록 점수가 크게 감소하는 것을 볼 수 있었다.\n",
    "- factor가 400을 기준값으로 놓고 모델의 하이퍼파라미터인 regularization 변경을 통해 \n",
    "- 해당 수치값을 변화시킬 수 있는지 테스트 해보겠다."
   ]
  },
  {
   "cell_type": "code",
   "execution_count": 152,
   "id": "59681511",
   "metadata": {},
   "outputs": [
    {
     "data": {
      "application/vnd.jupyter.widget-view+json": {
       "model_id": "51c168ed3db34834991bb0b0826635d9",
       "version_major": 2,
       "version_minor": 0
      },
      "text/plain": [
       "  0%|          | 0/15 [00:00<?, ?it/s]"
      ]
     },
     "metadata": {},
     "output_type": "display_data"
    }
   ],
   "source": [
    "als_model_re = AlternatingLeastSquares(factors=400, regularization=0.05, use_gpu=False, iterations=15, dtype=np.float32)\n",
    "# 모델 훈련\n",
    "als_model_re.fit(csr_data_transpose)"
   ]
  },
  {
   "cell_type": "code",
   "execution_count": 153,
   "id": "c896ca98",
   "metadata": {},
   "outputs": [
    {
     "data": {
      "text/plain": [
       "0.02772"
      ]
     },
     "execution_count": 153,
     "metadata": {},
     "output_type": "execute_result"
    }
   ],
   "source": [
    "evaluation_index(als_model_re)"
   ]
  },
  {
   "cell_type": "code",
   "execution_count": 154,
   "id": "2b4ed86a",
   "metadata": {},
   "outputs": [
    {
     "data": {
      "application/vnd.jupyter.widget-view+json": {
       "model_id": "967ec078b08a45cbaa44b76a0d4c31fe",
       "version_major": 2,
       "version_minor": 0
      },
      "text/plain": [
       "  0%|          | 0/15 [00:00<?, ?it/s]"
      ]
     },
     "metadata": {},
     "output_type": "display_data"
    }
   ],
   "source": [
    "als_model_re2 = AlternatingLeastSquares(factors=400, regularization=0.1, use_gpu=False, iterations=15, dtype=np.float32)\n",
    "# 모델 훈련\n",
    "als_model_re2.fit(csr_data_transpose)"
   ]
  },
  {
   "cell_type": "code",
   "execution_count": 155,
   "id": "f117e79a",
   "metadata": {},
   "outputs": [
    {
     "data": {
      "text/plain": [
       "0.02763"
      ]
     },
     "execution_count": 155,
     "metadata": {},
     "output_type": "execute_result"
    }
   ],
   "source": [
    "evaluation_index(als_model_re2)"
   ]
  },
  {
   "cell_type": "code",
   "execution_count": 156,
   "id": "5510b8e7",
   "metadata": {},
   "outputs": [
    {
     "data": {
      "application/vnd.jupyter.widget-view+json": {
       "model_id": "ecfe6ab4e6274ddf8e6de5c10261ee3d",
       "version_major": 2,
       "version_minor": 0
      },
      "text/plain": [
       "  0%|          | 0/15 [00:00<?, ?it/s]"
      ]
     },
     "metadata": {},
     "output_type": "display_data"
    }
   ],
   "source": [
    "als_model_re3 = AlternatingLeastSquares(factors=400, regularization=0.001, use_gpu=False, iterations=15, dtype=np.float32)\n",
    "# 모델 훈련\n",
    "als_model_re3.fit(csr_data_transpose)"
   ]
  },
  {
   "cell_type": "code",
   "execution_count": 157,
   "id": "27c55dc4",
   "metadata": {},
   "outputs": [
    {
     "data": {
      "text/plain": [
       "0.0257"
      ]
     },
     "execution_count": 157,
     "metadata": {},
     "output_type": "execute_result"
    }
   ],
   "source": [
    "evaluation_index(als_model_re3)"
   ]
  },
  {
   "cell_type": "code",
   "execution_count": 165,
   "id": "1167972e",
   "metadata": {},
   "outputs": [
    {
     "data": {
      "application/vnd.jupyter.widget-view+json": {
       "model_id": "a724593bb0584a2b908b60685e5f672c",
       "version_major": 2,
       "version_minor": 0
      },
      "text/plain": [
       "  0%|          | 0/15 [00:00<?, ?it/s]"
      ]
     },
     "metadata": {},
     "output_type": "display_data"
    }
   ],
   "source": [
    "als_model_re4 = AlternatingLeastSquares(factors=400, regularization=10, use_gpu=False, iterations=15, dtype=np.float32)\n",
    "# 모델 훈련\n",
    "als_model_re4.fit(csr_data_transpose)"
   ]
  },
  {
   "cell_type": "code",
   "execution_count": 166,
   "id": "bb9dde78",
   "metadata": {},
   "outputs": [
    {
     "data": {
      "text/plain": [
       "0.02559"
      ]
     },
     "execution_count": 166,
     "metadata": {},
     "output_type": "execute_result"
    }
   ],
   "source": [
    "evaluation_index(als_model_re4)"
   ]
  },
  {
   "cell_type": "code",
   "execution_count": 167,
   "id": "648c61ef",
   "metadata": {},
   "outputs": [
    {
     "data": {
      "application/vnd.jupyter.widget-view+json": {
       "model_id": "ed0dee2f22234b849c6dcff965c1e2aa",
       "version_major": 2,
       "version_minor": 0
      },
      "text/plain": [
       "  0%|          | 0/15 [00:00<?, ?it/s]"
      ]
     },
     "metadata": {},
     "output_type": "display_data"
    }
   ],
   "source": [
    "als_model_re5 = AlternatingLeastSquares(factors=400, regularization=100, use_gpu=False, iterations=15, dtype=np.float32)\n",
    "# 모델 훈련\n",
    "als_model_re5.fit(csr_data_transpose)"
   ]
  },
  {
   "cell_type": "code",
   "execution_count": 168,
   "id": "00c3fb0d",
   "metadata": {},
   "outputs": [
    {
     "data": {
      "text/plain": [
       "0.03735"
      ]
     },
     "execution_count": 168,
     "metadata": {},
     "output_type": "execute_result"
    }
   ],
   "source": [
    "evaluation_index(als_model_re5)"
   ]
  },
  {
   "cell_type": "code",
   "execution_count": 171,
   "id": "eca233df",
   "metadata": {},
   "outputs": [
    {
     "data": {
      "application/vnd.jupyter.widget-view+json": {
       "model_id": "a76127d245bf47db84bbbc074a46140b",
       "version_major": 2,
       "version_minor": 0
      },
      "text/plain": [
       "  0%|          | 0/15 [00:00<?, ?it/s]"
      ]
     },
     "metadata": {},
     "output_type": "display_data"
    }
   ],
   "source": [
    "als_model_re6 = AlternatingLeastSquares(factors=400, regularization=300, use_gpu=False, iterations=15, dtype=np.float32)\n",
    "# 모델 훈련\n",
    "als_model_re6.fit(csr_data_transpose)"
   ]
  },
  {
   "cell_type": "code",
   "execution_count": 172,
   "id": "887b692b",
   "metadata": {},
   "outputs": [
    {
     "data": {
      "text/plain": [
       "0.01725"
      ]
     },
     "execution_count": 172,
     "metadata": {},
     "output_type": "execute_result"
    }
   ],
   "source": [
    "evaluation_index(als_model_re6)"
   ]
  },
  {
   "cell_type": "code",
   "execution_count": 173,
   "id": "8f6c2f09",
   "metadata": {},
   "outputs": [],
   "source": [
    "re_score = [evaluation_index(als_model_re3),\n",
    "           evaluation_index(als_model_re),\n",
    "           evaluation_index(als_model_re2),\n",
    "           evaluation_index(als_model_re4),\n",
    "           evaluation_index(als_model_re5),\n",
    "           evaluation_index(als_model_re6)]\n",
    "re_col = ['regularization=0.001','regularization=0.05','regularization=0.1',\n",
    "          'regularization=10','regularization=100','regularization=300']"
   ]
  },
  {
   "cell_type": "code",
   "execution_count": 185,
   "id": "4500128b",
   "metadata": {},
   "outputs": [
    {
     "data": {
      "image/png": "[encoded data removed]",
      "text/plain": [
       "<Figure size 864x576 with 1 Axes>"
      ]
     },
     "metadata": {
      "needs_background": "light"
     },
     "output_type": "display_data"
    }
   ],
   "source": [
    "fig = plt.figure(figsize=(12, 8))\n",
    "ax = fig.add_subplot(1, 1, 1)\n",
    "plt.bar(re_col, re_score, color = ['r','limegreen','b','gold','violet','royalblue'])\n",
    "plt.title('Score by Iterations[factor=60]',fontsize=(20))\n",
    "plt.xticks(rotation=35,fontsize=15)\n",
    "for i, v in enumerate(re_col):\n",
    "    plt.text(v, re_score[i], re_score[i],                 # 좌표 (x축 = v, y축 = y[0]..y[1], 표시 = y[0]..y[1])\n",
    "             fontsize = 16, \n",
    "             color='black',\n",
    "             horizontalalignment='center',  # horizontalalignment (left, center, right)\n",
    "             verticalalignment='bottom')    # verticalalignment (top, center, bottom)\n",
    "\n",
    "plt.show()\n",
    "\n",
    "\n"
   ]
  },
  {
   "cell_type": "markdown",
   "id": "ce7f3062",
   "metadata": {},
   "source": [
    "regularization의 값을 더 작게 하거나 약간만 크게 하였을 때에는 결과값의 변동이 적었다.  \n",
    "다만, 해당 값을 100단위로 키웠을 때, 결과값에 큰 변동이 있을음 확인할 수 있었다.  \n",
    "나의 생각에는 regularization이 소수점 단위로 움직이는 것이 바람직하다고 생각하였으나,\n",
    "이번에는 생각과 반대의 결과가 나왔다.  \n",
    "regularization의 수학적 공식에 대한 정보가 부족해 왜 값이 100단위로 커졌을 때, 변동이 있는지 이해는 하지 못하였다."
   ]
  },
  {
   "cell_type": "markdown",
   "id": "e0ee04d3",
   "metadata": {},
   "source": [
    "---\n",
    "# 9.회고\n",
    "---"
   ]
  },
  {
   "cell_type": "markdown",
   "id": "bae8a4fe",
   "metadata": {},
   "source": [
    "- 모델의 하이퍼파라미터값을 변경해본 결과 가장 큰 영향을 미치는 것은  \n",
    "  유저와 아이템의 백터 차원의 수인 factor값이 가장 영향이 있음을 알 수 있었다. <br><br>\n",
    "- 처음 코드를 따라하기에는 간단한것 처럼 느껴졌으나, 실제로 코드와 큰 틀을 이해하는 과정에서 어려움을 느꼈다.<br><br>\n",
    "- 하이퍼파라미터 값을 변경함에 있어서 기준점을 가지는 것이 중요한데,  \n",
    "  이번 같은 경우에는 명확한 수치값이 주어진 것이 없어 기준을 잡는 것에 있어서 다소 헷갈렸다.<br><br>\n",
    "- 물론 MAP / Precision / Recall과 같은 값을 기준으로 할 수 있으나,  \n",
    "  해당 값을 어떠한 방식으로 도출해야 하는지에 대해 어려움을 느꼈다.<br><br>\n",
    "- 그 결과 추천시스템의 정확성을 따지는 지표는 나의 생각대로 기준을 잡아서 여러가지 시도를 진행하였다.<br><br>\n",
    "- 위 7번 파트에서 적었듯이, 좋아하는 영화 5가지의 값을 기준으로 추천해주는 영화와의 유사도 평균값을 기준으로 삼았다.<br><br>\n",
    "- 임의로 설정한 기준 값을 토대로 값의 변화를 찾은 것이기에 실제와의 괴리는 충분히 있을 수 있다고 생각이 든다.<br><br>\n",
    "- implicit의 버전 오류로 인해 colab에서 돌릴땐, 헷갈릴 수 있는 요소들이 다분했다. <br><br>\n",
    "- 미리 원인을 찾고 공유해준 인원 덕분에 헤매는 시간을 줄일 수 있었다.<br><br>\n",
    "- 다만, 사전에 학습페이지에서 공지를 해주면 더 좋았을 것이라는 생각이 든다.<br><br>"
   ]
  }
 ],
 "metadata": {
  "kernelspec": {
   "display_name": "Python 3 (ipykernel)",
   "language": "python",
   "name": "python3"
  },
  "language_info": {
   "codemirror_mode": {
    "name": "ipython",
    "version": 3
   },
   "file_extension": ".py",
   "mimetype": "text/x-python",
   "name": "python",
   "nbconvert_exporter": "python",
   "pygments_lexer": "ipython3",
   "version": "3.9.7"
  }
 },
 "nbformat": 4,
 "nbformat_minor": 5
}
