{
 "cells": [
  {
   "cell_type": "markdown",
   "metadata": {},
   "source": [
    "# -------------------------------숫자 이미지--------------------------------"
   ]
  },
  {
   "cell_type": "markdown",
   "metadata": {},
   "source": [
    "# 1. 모듈 불러오기"
   ]
  },
  {
   "cell_type": "code",
   "execution_count": 1,
   "metadata": {},
   "outputs": [],
   "source": [
    "from sklearn.datasets import load_digits\n",
    "from sklearn.model_selection import train_test_split\n",
    "from sklearn.metrics import classification_report"
   ]
  },
  {
   "cell_type": "markdown",
   "metadata": {},
   "source": [
    "# 2. 데이터 준비"
   ]
  },
  {
   "cell_type": "markdown",
   "metadata": {},
   "source": [
    "- 정답지인 'target' 칼럼이 있으므로 '지도학습'방법이 사용 가능함을 확인\n",
    "- 이미지의 값을 학습시켜 옳은 값인지 확인 하는 방법을 사용함으로 '분류'모델을 사용함을 확인\n",
    "\n",
    "- 가설: 해당 손글씨 이미지가 문자인지 숫자인지를 판별\n"
   ]
  },
  {
   "cell_type": "code",
   "execution_count": 2,
   "metadata": {},
   "outputs": [
    {
     "name": "stdout",
     "output_type": "stream",
     "text": [
      "['DESCR', 'data', 'feature_names', 'frame', 'images', 'target', 'target_names']\n"
     ]
    },
    {
     "data": {
      "text/plain": [
       "dict_keys(['data', 'target', 'frame', 'feature_names', 'target_names', 'images', 'DESCR'])"
      ]
     },
     "execution_count": 2,
     "metadata": {},
     "output_type": "execute_result"
    }
   ],
   "source": [
    "load = load_digits()\n",
    "print(dir(load)) # 변수와 매서드 확인\n",
    "load.keys() # 키 값 확인 "
   ]
  },
  {
   "cell_type": "markdown",
   "metadata": {},
   "source": [
    "# 3. 데이터 이해하기"
   ]
  },
  {
   "cell_type": "markdown",
   "metadata": {},
   "source": [
    "- 데이터 키 값을 확인한 결과 학습용 'data' 칼럼과 정답지인 'target' 칼럼이 있음을 확인 \n",
    "- describe를 통해 총 데이터 수는 1797개 feature는 64개가 있으며 8*8 크기의 이미지를 가지고 있음을 확인"
   ]
  },
  {
   "cell_type": "code",
   "execution_count": 3,
   "metadata": {},
   "outputs": [
    {
     "name": "stdout",
     "output_type": "stream",
     "text": [
      ".. _digits_dataset:\n",
      "\n",
      "Optical recognition of handwritten digits dataset\n",
      "--------------------------------------------------\n",
      "\n",
      "**Data Set Characteristics:**\n",
      "\n",
      "    :Number of Instances: 1797\n",
      "    :Number of Attributes: 64\n",
      "    :Attribute Information: 8x8 image of integer pixels in the range 0..16.\n",
      "    :Missing Attribute Values: None\n",
      "    :Creator: E. Alpaydin (alpaydin '@' boun.edu.tr)\n",
      "    :Date: July; 1998\n",
      "\n",
      "This is a copy of the test set of the UCI ML hand-written digits datasets\n",
      "https://archive.ics.uci.edu/ml/datasets/Optical+Recognition+of+Handwritten+Digits\n",
      "\n",
      "The data set contains images of hand-written digits: 10 classes where\n",
      "each class refers to a digit.\n",
      "\n",
      "Preprocessing programs made available by NIST were used to extract\n",
      "normalized bitmaps of handwritten digits from a preprinted form. From a\n",
      "total of 43 people, 30 contributed to the training set and different 13\n",
      "to the test set. 32x32 bitmaps are divided into nonoverlapping blocks of\n",
      "4x4 and the number of on pixels are counted in each block. This generates\n",
      "an input matrix of 8x8 where each element is an integer in the range\n",
      "0..16. This reduces dimensionality and gives invariance to small\n",
      "distortions.\n",
      "\n",
      "For info on NIST preprocessing routines, see M. D. Garris, J. L. Blue, G.\n",
      "T. Candela, D. L. Dimmick, J. Geist, P. J. Grother, S. A. Janet, and C.\n",
      "L. Wilson, NIST Form-Based Handprint Recognition System, NISTIR 5469,\n",
      "1994.\n",
      "\n",
      ".. topic:: References\n",
      "\n",
      "  - C. Kaynak (1995) Methods of Combining Multiple Classifiers and Their\n",
      "    Applications to Handwritten Digit Recognition, MSc Thesis, Institute of\n",
      "    Graduate Studies in Science and Engineering, Bogazici University.\n",
      "  - E. Alpaydin, C. Kaynak (1998) Cascading Classifiers, Kybernetika.\n",
      "  - Ken Tang and Ponnuthurai N. Suganthan and Xi Yao and A. Kai Qin.\n",
      "    Linear dimensionalityreduction using relevance weighted LDA. School of\n",
      "    Electrical and Electronic Engineering Nanyang Technological University.\n",
      "    2005.\n",
      "  - Claudio Gentile. A New Approximate Maximal Margin Classification\n",
      "    Algorithm. NIPS. 2000.\n",
      "\n"
     ]
    }
   ],
   "source": [
    "load.target_names # 타겟 이름 확인\n",
    "print(load.DESCR) # 데이터 상세설명"
   ]
  },
  {
   "cell_type": "code",
   "execution_count": 4,
   "metadata": {},
   "outputs": [
    {
     "name": "stdout",
     "output_type": "stream",
     "text": [
      "(1797, 64)\n",
      "[[ 0.  0.  5. ...  0.  0.  0.]\n",
      " [ 0.  0.  0. ... 10.  0.  0.]\n",
      " [ 0.  0.  0. ... 16.  9.  0.]\n",
      " ...\n",
      " [ 0.  0.  1. ...  6.  0.  0.]\n",
      " [ 0.  0.  2. ... 12.  0.  0.]\n",
      " [ 0.  0. 10. ... 12.  1.  0.]] \n",
      "\n",
      "\n",
      "(1797,)\n",
      "[0 1 2 ... 8 9 8]\n"
     ]
    }
   ],
   "source": [
    "# 데이터 저장 및 확인 \n",
    "load_data = load.data\n",
    "load_label = load.target\n",
    "\n",
    "print(load_data.shape)\n",
    "print(load_data, '\\n\\n')\n",
    "\n",
    "print(load_label.shape)\n",
    "print(load_label)"
   ]
  },
  {
   "cell_type": "markdown",
   "metadata": {},
   "source": [
    "- matplotlib을 통해 시각적으로 1~9까지 숫자를 나타내고 있음을 1차 확인\n",
    "- 정답지인 load_label를 set함수를 통해 1~9까지 숫자의 값을 가지고 있음을 확인"
   ]
  },
  {
   "cell_type": "code",
   "execution_count": 5,
   "metadata": {},
   "outputs": [
    {
     "data": {
      "image/png": "[encoded data removed]",
      "text/plain": [
       "<Figure size 432x288 with 10 Axes>"
      ]
     },
     "metadata": {
      "needs_background": "light"
     },
     "output_type": "display_data"
    }
   ],
   "source": [
    "import matplotlib.pyplot as plt\n",
    "for i in range(10):\n",
    "    plt.subplot(2, 5, i+1) # 2*5의 도화지 생성 및 위치값(i+1)로 지정\n",
    "    plt.imshow(load_data[i].reshape(8, 8), cmap='gray')\n",
    "    plt.axis('off')\n",
    "plt.show()"
   ]
  },
  {
   "cell_type": "code",
   "execution_count": 6,
   "metadata": {},
   "outputs": [
    {
     "data": {
      "text/plain": [
       "{0, 1, 2, 3, 4, 5, 6, 7, 8, 9}"
      ]
     },
     "execution_count": 6,
     "metadata": {},
     "output_type": "execute_result"
    }
   ],
   "source": [
    "set(load_label)"
   ]
  },
  {
   "cell_type": "markdown",
   "metadata": {},
   "source": [
    "- collections 함수를 통해 정답지의 분포가 치우쳐져 있지 않고 고르게 되어 있음을 확인"
   ]
  },
  {
   "cell_type": "code",
   "execution_count": 7,
   "metadata": {},
   "outputs": [
    {
     "data": {
      "text/plain": [
       "Counter({0: 178,\n",
       "         1: 182,\n",
       "         2: 177,\n",
       "         3: 183,\n",
       "         4: 181,\n",
       "         5: 182,\n",
       "         6: 181,\n",
       "         7: 179,\n",
       "         8: 174,\n",
       "         9: 180})"
      ]
     },
     "execution_count": 7,
     "metadata": {},
     "output_type": "execute_result"
    }
   ],
   "source": [
    "import collections\n",
    "collections.Counter(load_label)"
   ]
  },
  {
   "cell_type": "markdown",
   "metadata": {},
   "source": [
    "# 4. train, test 데이터 분리"
   ]
  },
  {
   "cell_type": "code",
   "execution_count": 8,
   "metadata": {},
   "outputs": [],
   "source": [
    "import pandas as pd\n",
    "# pandas.DataFrame에 저장\n",
    "load_df = pd.DataFrame(data=load_data, columns=load.feature_names)\n",
    "\n",
    "# 정답지인 label 컬럼 추가\n",
    "load_df['label'] = load.target"
   ]
  },
  {
   "cell_type": "code",
   "execution_count": 9,
   "metadata": {},
   "outputs": [
    {
     "name": "stdout",
     "output_type": "stream",
     "text": [
      "X_train 개수: 1347 X_test 개수: 450\n"
     ]
    }
   ],
   "source": [
    "from sklearn.model_selection import train_test_split\n",
    "\n",
    "X_train, X_test, y_train, y_test = train_test_split(load_data, load_label, test_size = 0.25, random_state = 35)\n",
    "\n",
    "# 나누기 확인\n",
    "print('X_train 개수:', len(X_train), 'X_test 개수:', len(X_test))"
   ]
  },
  {
   "cell_type": "markdown",
   "metadata": {},
   "source": [
    "- 25:75로 나눈값의 비율의 값을 재확인\n",
    "- 각 train값과 test값의 모형을 확인"
   ]
  },
  {
   "cell_type": "code",
   "execution_count": 10,
   "metadata": {},
   "outputs": [
    {
     "name": "stdout",
     "output_type": "stream",
     "text": [
      "총 데이터: 1797\n",
      "449.25\n",
      "1347.75\n",
      "(1347, 64) (1347,)\n",
      "(450, 64) (450,)\n"
     ]
    }
   ],
   "source": [
    "print('총 데이터:',len(load_data))\n",
    "print(len(load_data) * 0.25)\n",
    "print(len(load_data) * 0.75)\n",
    "\n",
    "print(X_train.shape, y_train.shape)\n",
    "print(X_test.shape, y_test.shape)"
   ]
  },
  {
   "cell_type": "markdown",
   "metadata": {},
   "source": [
    "# 5. 다양한 모델 학습해보기\n",
    "- 각 모델들의 정밀도와 F1-Score 비교를 통한 최적의 모델을 찾기"
   ]
  },
  {
   "cell_type": "markdown",
   "metadata": {},
   "source": [
    "Decision Tree "
   ]
  },
  {
   "cell_type": "code",
   "execution_count": 11,
   "metadata": {},
   "outputs": [
    {
     "name": "stdout",
     "output_type": "stream",
     "text": [
      "classifier\n",
      "              precision    recall  f1-score   support\n",
      "\n",
      "           0       1.00      0.91      0.95        44\n",
      "           1       0.80      0.88      0.84        41\n",
      "           2       0.76      0.91      0.83        43\n",
      "           3       0.85      0.81      0.83        48\n",
      "           4       0.83      0.79      0.81        48\n",
      "           5       0.82      0.86      0.84        49\n",
      "           6       1.00      0.98      0.99        47\n",
      "           7       0.83      0.86      0.84        44\n",
      "           8       0.72      0.76      0.74        34\n",
      "           9       0.88      0.73      0.80        52\n",
      "\n",
      "    accuracy                           0.85       450\n",
      "   macro avg       0.85      0.85      0.85       450\n",
      "weighted avg       0.85      0.85      0.85       450\n",
      "\n"
     ]
    }
   ],
   "source": [
    "from sklearn.tree import DecisionTreeClassifier\n",
    "decision_tree = DecisionTreeClassifier(random_state=27)\n",
    "print(decision_tree._estimator_type)\n",
    "\n",
    "# 모델 학습하기\n",
    "decision_tree.fit(X_train, y_train)\n",
    "\n",
    "# test 데이터로 모델 학습\n",
    "decision_tree_pred = decision_tree.predict(X_test)\n",
    "decision_tree_pred\n",
    "\n",
    "# 수치비교\n",
    "from sklearn.metrics import classification_report\n",
    "print(classification_report(y_test, decision_tree_pred))\n",
    "\n",
    "decision_tree_result = classification_report(y_test, decision_tree_pred, output_dict=True)\n"
   ]
  },
  {
   "cell_type": "markdown",
   "metadata": {},
   "source": [
    "Random Forest"
   ]
  },
  {
   "cell_type": "code",
   "execution_count": 12,
   "metadata": {},
   "outputs": [
    {
     "name": "stdout",
     "output_type": "stream",
     "text": [
      "classifier\n",
      "              precision    recall  f1-score   support\n",
      "\n",
      "           0       1.00      1.00      1.00        44\n",
      "           1       0.93      1.00      0.96        41\n",
      "           2       1.00      1.00      1.00        43\n",
      "           3       0.96      0.98      0.97        48\n",
      "           4       0.98      0.94      0.96        48\n",
      "           5       0.98      0.96      0.97        49\n",
      "           6       1.00      1.00      1.00        47\n",
      "           7       0.96      1.00      0.98        44\n",
      "           8       0.91      0.88      0.90        34\n",
      "           9       1.00      0.96      0.98        52\n",
      "\n",
      "    accuracy                           0.97       450\n",
      "   macro avg       0.97      0.97      0.97       450\n",
      "weighted avg       0.97      0.97      0.97       450\n",
      "\n"
     ]
    }
   ],
   "source": [
    "from sklearn.ensemble import RandomForestClassifier\n",
    "RF = RandomForestClassifier(random_state=27)\n",
    "print(RandomForestClassifier._estimator_type)\n",
    "\n",
    "# 모델 학습하기\n",
    "RF.fit(X_train, y_train)\n",
    "\n",
    "# test 데이터로 모델 학습\n",
    "RF_pred = RF.predict(X_test)\n",
    "RF_pred\n",
    "\n",
    "# 수치비교\n",
    "print(classification_report(y_test, RF_pred))\n",
    "RF_result = classification_report(y_test, RF_pred,output_dict=True)\n"
   ]
  },
  {
   "cell_type": "markdown",
   "metadata": {},
   "source": [
    "SVM"
   ]
  },
  {
   "cell_type": "code",
   "execution_count": 13,
   "metadata": {},
   "outputs": [
    {
     "name": "stdout",
     "output_type": "stream",
     "text": [
      "              precision    recall  f1-score   support\n",
      "\n",
      "           0       1.00      1.00      1.00        44\n",
      "           1       0.95      1.00      0.98        41\n",
      "           2       1.00      1.00      1.00        43\n",
      "           3       1.00      0.98      0.99        48\n",
      "           4       1.00      0.96      0.98        48\n",
      "           5       0.98      0.98      0.98        49\n",
      "           6       1.00      1.00      1.00        47\n",
      "           7       0.98      1.00      0.99        44\n",
      "           8       0.91      0.94      0.93        34\n",
      "           9       0.98      0.96      0.97        52\n",
      "\n",
      "    accuracy                           0.98       450\n",
      "   macro avg       0.98      0.98      0.98       450\n",
      "weighted avg       0.98      0.98      0.98       450\n",
      "\n"
     ]
    }
   ],
   "source": [
    "from sklearn import svm\n",
    "svm_model = svm.SVC()\n",
    "\n",
    "# 모델 학습하기\n",
    "svm_model.fit(X_train, y_train)\n",
    "\n",
    "# test 데이터로 모델 학습\n",
    "svm_model_pred = svm_model.predict(X_test)\n",
    "\n",
    "# 수치비교\n",
    "print(classification_report(y_test,svm_model_pred))\n",
    "# print(classification_report(y_test,svm_model_pred, output_dict=True))\n",
    "svm_result = classification_report(y_test,svm_model_pred, output_dict=True)"
   ]
  },
  {
   "cell_type": "markdown",
   "metadata": {},
   "source": [
    "확률적 경사 하강법"
   ]
  },
  {
   "cell_type": "code",
   "execution_count": 14,
   "metadata": {},
   "outputs": [
    {
     "name": "stdout",
     "output_type": "stream",
     "text": [
      "classifier\n",
      "              precision    recall  f1-score   support\n",
      "\n",
      "           0       1.00      1.00      1.00        44\n",
      "           1       0.91      0.78      0.84        41\n",
      "           2       1.00      1.00      1.00        43\n",
      "           3       0.91      0.85      0.88        48\n",
      "           4       1.00      0.94      0.97        48\n",
      "           5       0.92      1.00      0.96        49\n",
      "           6       1.00      1.00      1.00        47\n",
      "           7       0.98      0.98      0.98        44\n",
      "           8       0.67      0.94      0.78        34\n",
      "           9       0.93      0.83      0.88        52\n",
      "\n",
      "    accuracy                           0.93       450\n",
      "   macro avg       0.93      0.93      0.93       450\n",
      "weighted avg       0.94      0.93      0.93       450\n",
      "\n"
     ]
    }
   ],
   "source": [
    "# 모델 불러오기 및 변수에 모델 저장\n",
    "from sklearn.linear_model import SGDClassifier\n",
    "sgd_model = SGDClassifier()\n",
    "print(sgd_model._estimator_type)\n",
    "\n",
    "# 모델 학습하기\n",
    "sgd_model.fit(X_train,y_train)\n",
    "\n",
    "# test 데이터로 모델 학습\n",
    "sgd_model_pred = sgd_model.predict(X_test)\n",
    "\n",
    "# 수치비교\n",
    "print(classification_report(y_test,sgd_model_pred))\n",
    "\n",
    "# 결과를 시각적으로 보기 위한 딕셔너리 값 변환\n",
    "sgd_result = classification_report(y_test,sgd_model_pred,output_dict= True)"
   ]
  },
  {
   "cell_type": "markdown",
   "metadata": {},
   "source": [
    "로지스틱 회귀분석"
   ]
  },
  {
   "cell_type": "code",
   "execution_count": 15,
   "metadata": {},
   "outputs": [
    {
     "name": "stdout",
     "output_type": "stream",
     "text": [
      "classifier\n",
      "              precision    recall  f1-score   support\n",
      "\n",
      "           0       1.00      1.00      1.00        44\n",
      "           1       0.93      0.95      0.94        41\n",
      "           2       0.98      1.00      0.99        43\n",
      "           3       1.00      0.98      0.99        48\n",
      "           4       0.96      0.94      0.95        48\n",
      "           5       0.96      0.94      0.95        49\n",
      "           6       1.00      1.00      1.00        47\n",
      "           7       0.98      1.00      0.99        44\n",
      "           8       0.83      0.88      0.86        34\n",
      "           9       0.96      0.92      0.94        52\n",
      "\n",
      "    accuracy                           0.96       450\n",
      "   macro avg       0.96      0.96      0.96       450\n",
      "weighted avg       0.96      0.96      0.96       450\n",
      "\n"
     ]
    }
   ],
   "source": [
    "from sklearn.linear_model import LogisticRegression\n",
    "logistic_model = LogisticRegression(max_iter=10000)\n",
    "\n",
    "print(logistic_model._estimator_type)\n",
    "\n",
    "logistic_model.fit(X_train,y_train)\n",
    "logistic_model_pred = logistic_model.predict(X_test)\n",
    "\n",
    "print(classification_report(y_test,logistic_model_pred))\n",
    "\n",
    "logistic_result = classification_report(y_test,logistic_model_pred, output_dict= True)"
   ]
  },
  {
   "cell_type": "markdown",
   "metadata": {},
   "source": [
    "# 6. 모델 성능 평가해보기"
   ]
  },
  {
   "cell_type": "code",
   "execution_count": 16,
   "metadata": {},
   "outputs": [],
   "source": [
    "precision = []\n",
    "recall = []\n",
    "f1_score = []\n",
    "support = []\n",
    "\n",
    "precision.append(decision_tree_result['macro avg']['precision'])\n",
    "precision.append(RF_result['macro avg']['precision'])\n",
    "precision.append(svm_result['macro avg']['precision'])\n",
    "precision.append(logistic_result['macro avg']['precision'])\n",
    "precision.append(sgd_result['macro avg']['precision'])\n",
    "\n",
    "recall.append(decision_tree_result['macro avg']['recall'])\n",
    "recall.append(RF_result['macro avg']['recall'])\n",
    "recall.append(svm_result['macro avg']['recall'])\n",
    "recall.append(logistic_result['macro avg']['recall'])\n",
    "recall.append(sgd_result['macro avg']['recall'])\n",
    "\n",
    "f1_score.append(decision_tree_result['macro avg']['f1-score'])\n",
    "f1_score.append(RF_result['macro avg']['f1-score'])\n",
    "f1_score.append(svm_result['macro avg']['f1-score'])\n",
    "f1_score.append(logistic_result['macro avg']['f1-score'])\n",
    "f1_score.append(sgd_result['macro avg']['f1-score'])\n",
    "\n",
    "support.append(decision_tree_result['macro avg']['support'])\n",
    "support.append(RF_result['macro avg']['support'])\n",
    "support.append(svm_result['macro avg']['support'])\n",
    "support.append(logistic_result['macro avg']['support'])\n",
    "support.append(sgd_result['macro avg']['support'])"
   ]
  },
  {
   "cell_type": "code",
   "execution_count": 17,
   "metadata": {},
   "outputs": [
    {
     "data": {
      "text/plain": [
       "Text(0.5, 1.0, 'support')"
      ]
     },
     "execution_count": 17,
     "metadata": {},
     "output_type": "execute_result"
    },
    {
     "data": {
      "image/png": "[encoded data removed]",
      "text/plain": [
       "<Figure size 864x864 with 4 Axes>"
      ]
     },
     "metadata": {
      "needs_background": "light"
     },
     "output_type": "display_data"
    }
   ],
   "source": [
    "import seaborn as sns\n",
    "name = ['decision_tree','RF','SVM','logistic','SGD']\n",
    "f , ax = plt.subplots(2,2, figsize = (12,12))\n",
    "\n",
    "\n",
    "sns.barplot(x=name,y=precision, ax=ax[0,0])\n",
    "ax[0,0].set_title('precision', size=25)\n",
    "\n",
    "sns.barplot(x=name,y=recall,ax=ax[0,1])\n",
    "ax[0,1].set_title('recall', size=25)\n",
    "\n",
    "sns.barplot(x=name,y=f1_score,ax=ax[1,0])\n",
    "ax[1,0].set_title('f1-score', size=25)\n",
    "\n",
    "sns.barplot(x=name,y=support,ax=ax[1,1])\n",
    "ax[1,1].set_title('support', size=25)"
   ]
  },
  {
   "cell_type": "markdown",
   "metadata": {},
   "source": [
    "# 결론\n",
    "\n",
    "데이터 셋이 균등한 분포를 가지고 있기 때문에 정확도로만 판단했을때는 ***svm***이 가장 높은 정확도를 가지고 있음\n",
    "\n",
    "### +추가)\n",
    "클래스별 샘플 수로 가중치를 두는 ***weigthed avg***보다 \n",
    "클래스를 같은 비중으로 다루는 ***macro avg***가 적절하다고 판단\n",
    "\n",
    "해당 모델은 숫자 이미지를 보고 숫자를 판별(예측)하는것이 얼마나 정확한지 알아보는 것이 중요하기 때문에 \n",
    "***precision***을 확인하는 것이 적절하다고 판단\n",
    "\n",
    "balance한 데이터이기 때문에 각 값들에 있어서 시각적인 차이는 두드러지지 않는다 \n",
    "다만, decision_tree의 경우 타 값들 보다 전반적으로 아래에 있음을 확인할 수 있으며\n",
    "svm의 경우 각 지표에서 가장 높은 값을 가지고 있어\n",
    "\n",
    "해당 가설을 해결하는데 있어서 최적의 모델은 ***svm***이라고 생각됨"
   ]
  },
  {
   "cell_type": "markdown",
   "metadata": {},
   "source": [
    "# -----------------------------숫자 이미지 종료------------------------------"
   ]
  },
  {
   "cell_type": "code",
   "execution_count": null,
   "metadata": {},
   "outputs": [],
   "source": []
  },
  {
   "cell_type": "markdown",
   "metadata": {},
   "source": [
    "# -------------------------------와인 데이터--------------------------------"
   ]
  },
  {
   "cell_type": "markdown",
   "metadata": {},
   "source": [
    "# 1. 모듈 불러오기"
   ]
  },
  {
   "cell_type": "code",
   "execution_count": 18,
   "metadata": {},
   "outputs": [],
   "source": [
    "from sklearn.datasets import load_wine\n",
    "from sklearn.model_selection import train_test_split\n",
    "from sklearn.metrics import classification_report\n",
    "from sklearn import metrics\n",
    "import pandas as pd\n",
    "import numpy as np"
   ]
  },
  {
   "cell_type": "markdown",
   "metadata": {},
   "source": [
    "# 2. 데이터 준비\n",
    "\n"
   ]
  },
  {
   "cell_type": "code",
   "execution_count": 19,
   "metadata": {},
   "outputs": [
    {
     "name": "stdout",
     "output_type": "stream",
     "text": [
      "['DESCR', 'data', 'feature_names', 'frame', 'target', 'target_names']\n"
     ]
    },
    {
     "data": {
      "text/plain": [
       "dict_keys(['data', 'target', 'frame', 'target_names', 'DESCR', 'feature_names'])"
      ]
     },
     "execution_count": 19,
     "metadata": {},
     "output_type": "execute_result"
    }
   ],
   "source": [
    "wine = load_wine()\n",
    "print(dir(wine)) # 변수와 매서드 확인\n",
    "wine.keys()"
   ]
  },
  {
   "cell_type": "markdown",
   "metadata": {},
   "source": [
    "# 3. 데이터 이해하기\n",
    "\n",
    "총 데이터 수는 178개와 13의 feature를 가지고 있음\n",
    "target데이터에는 0,1,2로만 가지고 있는걸로 보아 각각의 0은 class_0 / 1은 class_1 / 2은 class_2로 정답지를 구성\n",
    "\n",
    "- 정답지인 'target' 칼럼이 있으므로 '지도학습'방법이 사용 가능\n",
    "- 와인의 속성값을 학습 후 어떤 class의 와인인지 '분류'하는 방법 \n",
    "\n"
   ]
  },
  {
   "cell_type": "code",
   "execution_count": 20,
   "metadata": {},
   "outputs": [
    {
     "name": "stdout",
     "output_type": "stream",
     "text": [
      ".. _wine_dataset:\n",
      "\n",
      "Wine recognition dataset\n",
      "------------------------\n",
      "\n",
      "**Data Set Characteristics:**\n",
      "\n",
      "    :Number of Instances: 178 (50 in each of three classes)\n",
      "    :Number of Attributes: 13 numeric, predictive attributes and the class\n",
      "    :Attribute Information:\n",
      " \t\t- Alcohol\n",
      " \t\t- Malic acid\n",
      " \t\t- Ash\n",
      "\t\t- Alcalinity of ash  \n",
      " \t\t- Magnesium\n",
      "\t\t- Total phenols\n",
      " \t\t- Flavanoids\n",
      " \t\t- Nonflavanoid phenols\n",
      " \t\t- Proanthocyanins\n",
      "\t\t- Color intensity\n",
      " \t\t- Hue\n",
      " \t\t- OD280/OD315 of diluted wines\n",
      " \t\t- Proline\n",
      "\n",
      "    - class:\n",
      "            - class_0\n",
      "            - class_1\n",
      "            - class_2\n",
      "\t\t\n",
      "    :Summary Statistics:\n",
      "    \n",
      "    ============================= ==== ===== ======= =====\n",
      "                                   Min   Max   Mean     SD\n",
      "    ============================= ==== ===== ======= =====\n",
      "    Alcohol:                      11.0  14.8    13.0   0.8\n",
      "    Malic Acid:                   0.74  5.80    2.34  1.12\n",
      "    Ash:                          1.36  3.23    2.36  0.27\n",
      "    Alcalinity of Ash:            10.6  30.0    19.5   3.3\n",
      "    Magnesium:                    70.0 162.0    99.7  14.3\n",
      "    Total Phenols:                0.98  3.88    2.29  0.63\n",
      "    Flavanoids:                   0.34  5.08    2.03  1.00\n",
      "    Nonflavanoid Phenols:         0.13  0.66    0.36  0.12\n",
      "    Proanthocyanins:              0.41  3.58    1.59  0.57\n",
      "    Colour Intensity:              1.3  13.0     5.1   2.3\n",
      "    Hue:                          0.48  1.71    0.96  0.23\n",
      "    OD280/OD315 of diluted wines: 1.27  4.00    2.61  0.71\n",
      "    Proline:                       278  1680     746   315\n",
      "    ============================= ==== ===== ======= =====\n",
      "\n",
      "    :Missing Attribute Values: None\n",
      "    :Class Distribution: class_0 (59), class_1 (71), class_2 (48)\n",
      "    :Creator: R.A. Fisher\n",
      "    :Donor: Michael Marshall (MARSHALL%PLU@io.arc.nasa.gov)\n",
      "    :Date: July, 1988\n",
      "\n",
      "This is a copy of UCI ML Wine recognition datasets.\n",
      "https://archive.ics.uci.edu/ml/machine-learning-databases/wine/wine.data\n",
      "\n",
      "The data is the results of a chemical analysis of wines grown in the same\n",
      "region in Italy by three different cultivators. There are thirteen different\n",
      "measurements taken for different constituents found in the three types of\n",
      "wine.\n",
      "\n",
      "Original Owners: \n",
      "\n",
      "Forina, M. et al, PARVUS - \n",
      "An Extendible Package for Data Exploration, Classification and Correlation. \n",
      "Institute of Pharmaceutical and Food Analysis and Technologies,\n",
      "Via Brigata Salerno, 16147 Genoa, Italy.\n",
      "\n",
      "Citation:\n",
      "\n",
      "Lichman, M. (2013). UCI Machine Learning Repository\n",
      "[https://archive.ics.uci.edu/ml]. Irvine, CA: University of California,\n",
      "School of Information and Computer Science. \n",
      "\n",
      ".. topic:: References\n",
      "\n",
      "  (1) S. Aeberhard, D. Coomans and O. de Vel, \n",
      "  Comparison of Classifiers in High Dimensional Settings, \n",
      "  Tech. Rep. no. 92-02, (1992), Dept. of Computer Science and Dept. of  \n",
      "  Mathematics and Statistics, James Cook University of North Queensland. \n",
      "  (Also submitted to Technometrics). \n",
      "\n",
      "  The data was used with many others for comparing various \n",
      "  classifiers. The classes are separable, though only RDA \n",
      "  has achieved 100% correct classification. \n",
      "  (RDA : 100%, QDA 99.4%, LDA 98.9%, 1NN 96.1% (z-transformed data)) \n",
      "  (All results using the leave-one-out technique) \n",
      "\n",
      "  (2) S. Aeberhard, D. Coomans and O. de Vel, \n",
      "  \"THE CLASSIFICATION PERFORMANCE OF RDA\" \n",
      "  Tech. Rep. no. 92-01, (1992), Dept. of Computer Science and Dept. of \n",
      "  Mathematics and Statistics, James Cook University of North Queensland. \n",
      "  (Also submitted to Journal of Chemometrics).\n",
      "\n"
     ]
    }
   ],
   "source": [
    "print(wine.DESCR)"
   ]
  },
  {
   "cell_type": "markdown",
   "metadata": {},
   "source": [
    "### 데이터 이해를 위한 feature_name 해석\n",
    "- alcohol : 도수\n",
    "- malic_acid : 말산(신맛에 기여)\n",
    "- ash : 재\n",
    "- alcalinity_of_ash : 재의 알칼리성\n",
    "- magnesium : 마그네슘\n",
    "- total_phenols : 총 페놀\n",
    "- flavanoids : 플라바노이드\n",
    "- nonflavvanoid_phenols : 비플라바노이드 페놀\n",
    "- proanthocyanins : 프로안토시아닌\n",
    "- color_intensity : 색 강도\n",
    "- hue : 색조\n",
    "- ~ of diluted wines: 희석된 와인의 ~~\n",
    "- priline : 프롤린"
   ]
  },
  {
   "cell_type": "code",
   "execution_count": 21,
   "metadata": {},
   "outputs": [
    {
     "name": "stdout",
     "output_type": "stream",
     "text": [
      "(178, 13)\n",
      "[[1.423e+01 1.710e+00 2.430e+00 ... 1.040e+00 3.920e+00 1.065e+03]\n",
      " [1.320e+01 1.780e+00 2.140e+00 ... 1.050e+00 3.400e+00 1.050e+03]\n",
      " [1.316e+01 2.360e+00 2.670e+00 ... 1.030e+00 3.170e+00 1.185e+03]\n",
      " ...\n",
      " [1.327e+01 4.280e+00 2.260e+00 ... 5.900e-01 1.560e+00 8.350e+02]\n",
      " [1.317e+01 2.590e+00 2.370e+00 ... 6.000e-01 1.620e+00 8.400e+02]\n",
      " [1.413e+01 4.100e+00 2.740e+00 ... 6.100e-01 1.600e+00 5.600e+02]]\n",
      "(178,)\n",
      "[0 0 0 0 0 0 0 0 0 0 0 0 0 0 0 0 0 0 0 0 0 0 0 0 0 0 0 0 0 0 0 0 0 0 0 0 0\n",
      " 0 0 0 0 0 0 0 0 0 0 0 0 0 0 0 0 0 0 0 0 0 0 1 1 1 1 1 1 1 1 1 1 1 1 1 1 1\n",
      " 1 1 1 1 1 1 1 1 1 1 1 1 1 1 1 1 1 1 1 1 1 1 1 1 1 1 1 1 1 1 1 1 1 1 1 1 1\n",
      " 1 1 1 1 1 1 1 1 1 1 1 1 1 1 1 1 1 1 1 2 2 2 2 2 2 2 2 2 2 2 2 2 2 2 2 2 2\n",
      " 2 2 2 2 2 2 2 2 2 2 2 2 2 2 2 2 2 2 2 2 2 2 2 2 2 2 2 2 2 2]\n",
      "['class_0' 'class_1' 'class_2']\n",
      "['alcohol', 'malic_acid', 'ash', 'alcalinity_of_ash', 'magnesium', 'total_phenols', 'flavanoids', 'nonflavanoid_phenols', 'proanthocyanins', 'color_intensity', 'hue', 'od280/od315_of_diluted_wines', 'proline']\n"
     ]
    }
   ],
   "source": [
    "# 데이터 저장 및 확인\n",
    "wine_data = wine.data \n",
    "wine_target = wine.target\n",
    "\n",
    "print(wine_data.shape)\n",
    "print(wine_data)\n",
    "print(wine_target.shape)\n",
    "print(wine_target)\n",
    "\n",
    "print(wine.target_names) # 타겟 이름 확인 \n",
    "print(wine.feature_names) "
   ]
  },
  {
   "cell_type": "code",
   "execution_count": 22,
   "metadata": {},
   "outputs": [
    {
     "name": "stdout",
     "output_type": "stream",
     "text": [
      "   alcohol  malic_acid   ash  alcalinity_of_ash  magnesium  total_phenols  \\\n",
      "0    14.23        1.71  2.43               15.6      127.0           2.80   \n",
      "1    13.20        1.78  2.14               11.2      100.0           2.65   \n",
      "2    13.16        2.36  2.67               18.6      101.0           2.80   \n",
      "3    14.37        1.95  2.50               16.8      113.0           3.85   \n",
      "4    13.24        2.59  2.87               21.0      118.0           2.80   \n",
      "\n",
      "   flavanoids  nonflavanoid_phenols  proanthocyanins  color_intensity   hue  \\\n",
      "0        3.06                  0.28             2.29             5.64  1.04   \n",
      "1        2.76                  0.26             1.28             4.38  1.05   \n",
      "2        3.24                  0.30             2.81             5.68  1.03   \n",
      "3        3.49                  0.24             2.18             7.80  0.86   \n",
      "4        2.69                  0.39             1.82             4.32  1.04   \n",
      "\n",
      "   od280/od315_of_diluted_wines  proline  target  \n",
      "0                          3.92   1065.0       0  \n",
      "1                          3.40   1050.0       0  \n",
      "2                          3.17   1185.0       0  \n",
      "3                          3.45   1480.0       0  \n",
      "4                          2.93    735.0       0  \n"
     ]
    }
   ],
   "source": [
    "# data와 feature_names을 데이터 프레임에 저장\n",
    "wine_df = pd.DataFrame(data=wine_data, columns=wine.feature_names)\n",
    "wine_df['target'] = wine.target # 기존 데이터 프레임에 타겟 칼럼 추가\n",
    "\n",
    "print(wine_df.head())"
   ]
  },
  {
   "cell_type": "markdown",
   "metadata": {},
   "source": [
    "# 4. train, test 데이터 분리"
   ]
  },
  {
   "cell_type": "code",
   "execution_count": 23,
   "metadata": {},
   "outputs": [
    {
     "name": "stdout",
     "output_type": "stream",
     "text": [
      "X_train 개수: 124 X_test 개수: 54\n"
     ]
    }
   ],
   "source": [
    "# 라이브러리 불러오기 \n",
    "from sklearn.model_selection import train_test_split\n",
    "\n",
    "# 데이터 분리 \n",
    "X_train, X_test, y_train, y_test = train_test_split(wine_data, wine_target, test_size = 0.3, random_state = 5)\n",
    "\n",
    "# 나누기 확인\n",
    "print('X_train 개수:', len(X_train), 'X_test 개수:', len(X_test))"
   ]
  },
  {
   "cell_type": "markdown",
   "metadata": {},
   "source": [
    "# 5. 다양한 모델로 학습시켜보기"
   ]
  },
  {
   "cell_type": "markdown",
   "metadata": {},
   "source": [
    "- 의사결정트리"
   ]
  },
  {
   "cell_type": "code",
   "execution_count": 24,
   "metadata": {},
   "outputs": [
    {
     "name": "stdout",
     "output_type": "stream",
     "text": [
      "classifier\n",
      "              precision    recall  f1-score   support\n",
      "\n",
      "           0       0.95      0.91      0.93        23\n",
      "           1       0.89      0.89      0.89        18\n",
      "           2       0.93      1.00      0.96        13\n",
      "\n",
      "    accuracy                           0.93        54\n",
      "   macro avg       0.92      0.93      0.93        54\n",
      "weighted avg       0.93      0.93      0.93        54\n",
      "\n"
     ]
    }
   ],
   "source": [
    "from sklearn.tree import DecisionTreeClassifier\n",
    "decision_tree = DecisionTreeClassifier(random_state=12)\n",
    "print(decision_tree._estimator_type)\n",
    "\n",
    "# 모델 학습하기\n",
    "decision_tree.fit(X_train, y_train)\n",
    "\n",
    "# test 데이터로 모델 학습\n",
    "decision_tree_pred = decision_tree.predict(X_test)\n",
    "decision_tree_pred\n",
    "\n",
    "# 수치비교\n",
    "from sklearn.metrics import classification_report\n",
    "print(classification_report(y_test, decision_tree_pred))"
   ]
  },
  {
   "cell_type": "markdown",
   "metadata": {},
   "source": [
    "- 랜덤포레스트"
   ]
  },
  {
   "cell_type": "code",
   "execution_count": 25,
   "metadata": {},
   "outputs": [
    {
     "name": "stdout",
     "output_type": "stream",
     "text": [
      "classifier\n",
      "              precision    recall  f1-score   support\n",
      "\n",
      "           0       1.00      1.00      1.00        23\n",
      "           1       1.00      0.94      0.97        18\n",
      "           2       0.93      1.00      0.96        13\n",
      "\n",
      "    accuracy                           0.98        54\n",
      "   macro avg       0.98      0.98      0.98        54\n",
      "weighted avg       0.98      0.98      0.98        54\n",
      "\n"
     ]
    }
   ],
   "source": [
    "from sklearn.ensemble import RandomForestClassifier\n",
    "RF = RandomForestClassifier(random_state=12)\n",
    "print(RandomForestClassifier._estimator_type)\n",
    "\n",
    "# 모델 학습하기\n",
    "RF.fit(X_train, y_train)\n",
    "\n",
    "# test 데이터로 모델 학습\n",
    "RF_pred = RF.predict(X_test)\n",
    "RF_pred\n",
    "\n",
    "# 수치비교\n",
    "print(classification_report(y_test, RF_pred))\n"
   ]
  },
  {
   "cell_type": "markdown",
   "metadata": {},
   "source": [
    "- 서포트벡터머신"
   ]
  },
  {
   "cell_type": "code",
   "execution_count": 26,
   "metadata": {},
   "outputs": [
    {
     "name": "stdout",
     "output_type": "stream",
     "text": [
      "              precision    recall  f1-score   support\n",
      "\n",
      "           0       0.89      0.74      0.81        23\n",
      "           1       0.60      0.83      0.70        18\n",
      "           2       0.40      0.31      0.35        13\n",
      "\n",
      "    accuracy                           0.67        54\n",
      "   macro avg       0.63      0.63      0.62        54\n",
      "weighted avg       0.68      0.67      0.66        54\n",
      "\n"
     ]
    }
   ],
   "source": [
    "from sklearn import svm\n",
    "svm_model = svm.SVC()\n",
    "\n",
    "# 모델 학습하기\n",
    "svm_model.fit(X_train, y_train)\n",
    "\n",
    "# test 데이터로 모델 학습\n",
    "svm_model_pred = svm_model.predict(X_test)\n",
    "\n",
    "# 수치비교\n",
    "print(classification_report(y_test,svm_model_pred))"
   ]
  },
  {
   "cell_type": "markdown",
   "metadata": {},
   "source": [
    "- 확률적 경사 하강법"
   ]
  },
  {
   "cell_type": "code",
   "execution_count": 61,
   "metadata": {},
   "outputs": [
    {
     "name": "stdout",
     "output_type": "stream",
     "text": [
      "classifier\n",
      "              precision    recall  f1-score   support\n",
      "\n",
      "           0       0.96      0.69      0.80        70\n",
      "           1       0.82      0.98      0.89       101\n",
      "\n",
      "    accuracy                           0.86       171\n",
      "   macro avg       0.89      0.83      0.85       171\n",
      "weighted avg       0.88      0.86      0.85       171\n",
      "\n"
     ]
    }
   ],
   "source": [
    "# 모델 불러오기 및 변수에 모델 저장\n",
    "from sklearn.linear_model import SGDClassifier\n",
    "sgd_model = SGDClassifier()\n",
    "print(sgd_model._estimator_type)\n",
    "\n",
    "# 모델 학습하기\n",
    "sgd_model.fit(X_train,y_train)\n",
    "\n",
    "# test 데이터로 모델 학습\n",
    "sgd_model_pred = sgd_model.predict(X_test)\n",
    "\n",
    "# 수치비교\n",
    "print(classification_report(y_test,sgd_model_pred,zero_division=0))"
   ]
  },
  {
   "cell_type": "markdown",
   "metadata": {},
   "source": [
    "- 로지스틱 회귀분석"
   ]
  },
  {
   "cell_type": "code",
   "execution_count": 28,
   "metadata": {},
   "outputs": [
    {
     "name": "stdout",
     "output_type": "stream",
     "text": [
      "classifier\n",
      "              precision    recall  f1-score   support\n",
      "\n",
      "           0       1.00      0.96      0.98        23\n",
      "           1       0.89      0.94      0.92        18\n",
      "           2       0.92      0.92      0.92        13\n",
      "\n",
      "    accuracy                           0.94        54\n",
      "   macro avg       0.94      0.94      0.94        54\n",
      "weighted avg       0.95      0.94      0.94        54\n",
      "\n"
     ]
    }
   ],
   "source": [
    "from sklearn.linear_model import LogisticRegression\n",
    "logistic_model = LogisticRegression(max_iter=10000)\n",
    "print(logistic_model._estimator_type)\n",
    "\n",
    "# 모델 학습하기\n",
    "logistic_model.fit(X_train,y_train)\n",
    "\n",
    "# test 데이터로 모델 학습\n",
    "logistic_model_pred = logistic_model.predict(X_test)\n",
    "\n",
    "# 수치비교\n",
    "print(classification_report(y_test,logistic_model_pred))\n"
   ]
  },
  {
   "cell_type": "markdown",
   "metadata": {},
   "source": [
    "# 6. 모델 성능 평가해보기\n",
    "\n",
    "- wine 데이터는 와인의 종류를 구분하는 문제이기 때문에 오차행렬에서 정확도를 보는 것이 중요하다고 생각됨"
   ]
  },
  {
   "cell_type": "code",
   "execution_count": 62,
   "metadata": {},
   "outputs": [],
   "source": [
    "# 모델별 성능 딕셔너리화\n",
    "decision_tree_result = classification_report(y_test, decision_tree_pred, output_dict=True)\n",
    "RF_result = classification_report(y_test, RF_pred,output_dict=True)\n",
    "svm_result = classification_report(y_test,svm_model_pred, output_dict=True)\n",
    "sgd_result = classification_report(y_test,sgd_model_pred,output_dict= True)\n",
    "logistic_result = classification_report(y_test,logistic_model_pred, output_dict= True)\n"
   ]
  },
  {
   "cell_type": "code",
   "execution_count": 30,
   "metadata": {},
   "outputs": [],
   "source": [
    "# 모델별 정확도 지표만 추출 \n",
    "accuracy = []\n",
    "name = ['decision_tree','RF','SVM','logistic','SGD']\n",
    "\n",
    "accuracy.append(decision_tree_result['accuracy'])\n",
    "accuracy.append(RF_result['accuracy'])\n",
    "accuracy.append(svm_result['accuracy'])\n",
    "accuracy.append(sgd_result['accuracy'])\n",
    "accuracy.append(logistic_result['accuracy'])\n"
   ]
  },
  {
   "cell_type": "markdown",
   "metadata": {},
   "source": [
    "정확도를 기준으로 했을 때에는  \n",
    "\n",
    "logistic -> SVM -> SGD -> decision_tree -> RF  \n",
    "\n",
    "순서이며 랜덤포레스트가 가정 적합하다"
   ]
  },
  {
   "cell_type": "code",
   "execution_count": 31,
   "metadata": {},
   "outputs": [
    {
     "data": {
      "text/plain": [
       "Text(0.5, 1.0, 'accuracy')"
      ]
     },
     "execution_count": 31,
     "metadata": {},
     "output_type": "execute_result"
    },
    {
     "data": {
      "image/png": "[encoded data removed]",
      "text/plain": [
       "<Figure size 432x288 with 1 Axes>"
      ]
     },
     "metadata": {
      "needs_background": "light"
     },
     "output_type": "display_data"
    }
   ],
   "source": [
    "# 정확도를 기준으로 시각화\n",
    "import matplotlib.pyplot as plt\n",
    "plt.bar(name, accuracy, color = ['b','g','r','c','m'])\n",
    "plt.title('accuracy')"
   ]
  },
  {
   "cell_type": "markdown",
   "metadata": {},
   "source": [
    "# -----------------------------와인 데이터 종료------------------------------"
   ]
  },
  {
   "cell_type": "code",
   "execution_count": null,
   "metadata": {},
   "outputs": [],
   "source": []
  },
  {
   "cell_type": "markdown",
   "metadata": {},
   "source": [
    "# ------------------------------유방암 데이터-------------------------------"
   ]
  },
  {
   "cell_type": "markdown",
   "metadata": {},
   "source": [
    "# 1. 모듈 불러오기"
   ]
  },
  {
   "cell_type": "code",
   "execution_count": 32,
   "metadata": {},
   "outputs": [],
   "source": [
    "from sklearn.datasets import load_breast_cancer\n",
    "from sklearn.model_selection import train_test_split\n",
    "from sklearn.metrics import classification_report\n",
    "import numpy as np\n",
    "import pandas as pd"
   ]
  },
  {
   "cell_type": "markdown",
   "metadata": {},
   "source": [
    "# 2. 데이터 준비"
   ]
  },
  {
   "cell_type": "code",
   "execution_count": 33,
   "metadata": {},
   "outputs": [
    {
     "name": "stdout",
     "output_type": "stream",
     "text": [
      "['DESCR', 'data', 'feature_names', 'filename', 'frame', 'target', 'target_names']\n"
     ]
    },
    {
     "data": {
      "text/plain": [
       "dict_keys(['data', 'target', 'frame', 'target_names', 'DESCR', 'feature_names', 'filename'])"
      ]
     },
     "execution_count": 33,
     "metadata": {},
     "output_type": "execute_result"
    }
   ],
   "source": [
    "cancer = load_breast_cancer()\n",
    "print(dir(cancer)) # 변수와 매서드 확인\n",
    "cancer.keys() # 키 값 확인"
   ]
  },
  {
   "cell_type": "markdown",
   "metadata": {},
   "source": [
    "- target 과 target_names를 확인한 결과 'malignant(악성)' 'benign(양성)'를 0과 1로 분류되어 있음"
   ]
  },
  {
   "cell_type": "code",
   "execution_count": 34,
   "metadata": {},
   "outputs": [
    {
     "name": "stdout",
     "output_type": "stream",
     "text": [
      "['mean radius' 'mean texture' 'mean perimeter' 'mean area'\n",
      " 'mean smoothness' 'mean compactness' 'mean concavity'\n",
      " 'mean concave points' 'mean symmetry' 'mean fractal dimension'\n",
      " 'radius error' 'texture error' 'perimeter error' 'area error'\n",
      " 'smoothness error' 'compactness error' 'concavity error'\n",
      " 'concave points error' 'symmetry error' 'fractal dimension error'\n",
      " 'worst radius' 'worst texture' 'worst perimeter' 'worst area'\n",
      " 'worst smoothness' 'worst compactness' 'worst concavity'\n",
      " 'worst concave points' 'worst symmetry' 'worst fractal dimension']\n",
      "[0 0 0 0 0 0 0 0 0 0 0 0 0 0 0 0 0 0 0 1 1 1 0 0 0 0 0 0 0 0 0 0 0 0 0 0 0\n",
      " 1 0 0 0 0 0 0 0 0 1 0 1 1 1 1 1 0 0 1 0 0 1 1 1 1 0 1 0 0 1 1 1 1 0 1 0 0\n",
      " 1 0 1 0 0 1 1 1 0 0 1 0 0 0 1 1 1 0 1 1 0 0 1 1 1 0 0 1 1 1 1 0 1 1 0 1 1\n",
      " 1 1 1 1 1 1 0 0 0 1 0 0 1 1 1 0 0 1 0 1 0 0 1 0 0 1 1 0 1 1 0 1 1 1 1 0 1\n",
      " 1 1 1 1 1 1 1 1 0 1 1 1 1 0 0 1 0 1 1 0 0 1 1 0 0 1 1 1 1 0 1 1 0 0 0 1 0\n",
      " 1 0 1 1 1 0 1 1 0 0 1 0 0 0 0 1 0 0 0 1 0 1 0 1 1 0 1 0 0 0 0 1 1 0 0 1 1\n",
      " 1 0 1 1 1 1 1 0 0 1 1 0 1 1 0 0 1 0 1 1 1 1 0 1 1 1 1 1 0 1 0 0 0 0 0 0 0\n",
      " 0 0 0 0 0 0 0 1 1 1 1 1 1 0 1 0 1 1 0 1 1 0 1 0 0 1 1 1 1 1 1 1 1 1 1 1 1\n",
      " 1 0 1 1 0 1 0 1 1 1 1 1 1 1 1 1 1 1 1 1 1 0 1 1 1 0 1 0 1 1 1 1 0 0 0 1 1\n",
      " 1 1 0 1 0 1 0 1 1 1 0 1 1 1 1 1 1 1 0 0 0 1 1 1 1 1 1 1 1 1 1 1 0 0 1 0 0\n",
      " 0 1 0 0 1 1 1 1 1 0 1 1 1 1 1 0 1 1 1 0 1 1 0 0 1 1 1 1 1 1 0 1 1 1 1 1 1\n",
      " 1 0 1 1 1 1 1 0 1 1 0 1 1 1 1 1 1 1 1 1 1 1 1 0 1 0 0 1 0 1 1 1 1 1 0 1 1\n",
      " 0 1 0 1 1 0 1 0 1 1 1 1 1 1 1 1 0 0 1 1 1 1 1 1 0 1 1 1 1 1 1 1 1 1 1 0 1\n",
      " 1 1 1 1 1 1 0 1 0 1 1 0 1 1 1 1 1 0 0 1 0 1 0 1 1 1 1 1 0 1 1 0 1 0 1 0 0\n",
      " 1 1 1 0 1 1 1 1 1 1 1 1 1 1 1 0 1 0 0 1 1 1 1 1 1 1 1 1 1 1 1 1 1 1 1 1 1\n",
      " 1 1 1 1 1 1 1 0 0 0 0 0 0 1]\n",
      "['malignant' 'benign']\n"
     ]
    }
   ],
   "source": [
    "print(cancer.feature_names)\n",
    "print(cancer.target)\n",
    "print(cancer.target_names)"
   ]
  },
  {
   "cell_type": "markdown",
   "metadata": {},
   "source": [
    "- 전체 데이터의 개수는 569개이며, 30개의 데이터 특성(변수)를 가지고 있음"
   ]
  },
  {
   "cell_type": "code",
   "execution_count": 35,
   "metadata": {},
   "outputs": [
    {
     "name": "stdout",
     "output_type": "stream",
     "text": [
      ".. _breast_cancer_dataset:\n",
      "\n",
      "Breast cancer wisconsin (diagnostic) dataset\n",
      "--------------------------------------------\n",
      "\n",
      "**Data Set Characteristics:**\n",
      "\n",
      "    :Number of Instances: 569\n",
      "\n",
      "    :Number of Attributes: 30 numeric, predictive attributes and the class\n",
      "\n",
      "    :Attribute Information:\n",
      "        - radius (mean of distances from center to points on the perimeter)\n",
      "        - texture (standard deviation of gray-scale values)\n",
      "        - perimeter\n",
      "        - area\n",
      "        - smoothness (local variation in radius lengths)\n",
      "        - compactness (perimeter^2 / area - 1.0)\n",
      "        - concavity (severity of concave portions of the contour)\n",
      "        - concave points (number of concave portions of the contour)\n",
      "        - symmetry\n",
      "        - fractal dimension (\"coastline approximation\" - 1)\n",
      "\n",
      "        The mean, standard error, and \"worst\" or largest (mean of the three\n",
      "        worst/largest values) of these features were computed for each image,\n",
      "        resulting in 30 features.  For instance, field 0 is Mean Radius, field\n",
      "        10 is Radius SE, field 20 is Worst Radius.\n",
      "\n",
      "        - class:\n",
      "                - WDBC-Malignant\n",
      "                - WDBC-Benign\n",
      "\n",
      "    :Summary Statistics:\n",
      "\n",
      "    ===================================== ====== ======\n",
      "                                           Min    Max\n",
      "    ===================================== ====== ======\n",
      "    radius (mean):                        6.981  28.11\n",
      "    texture (mean):                       9.71   39.28\n",
      "    perimeter (mean):                     43.79  188.5\n",
      "    area (mean):                          143.5  2501.0\n",
      "    smoothness (mean):                    0.053  0.163\n",
      "    compactness (mean):                   0.019  0.345\n",
      "    concavity (mean):                     0.0    0.427\n",
      "    concave points (mean):                0.0    0.201\n",
      "    symmetry (mean):                      0.106  0.304\n",
      "    fractal dimension (mean):             0.05   0.097\n",
      "    radius (standard error):              0.112  2.873\n",
      "    texture (standard error):             0.36   4.885\n",
      "    perimeter (standard error):           0.757  21.98\n",
      "    area (standard error):                6.802  542.2\n",
      "    smoothness (standard error):          0.002  0.031\n",
      "    compactness (standard error):         0.002  0.135\n",
      "    concavity (standard error):           0.0    0.396\n",
      "    concave points (standard error):      0.0    0.053\n",
      "    symmetry (standard error):            0.008  0.079\n",
      "    fractal dimension (standard error):   0.001  0.03\n",
      "    radius (worst):                       7.93   36.04\n",
      "    texture (worst):                      12.02  49.54\n",
      "    perimeter (worst):                    50.41  251.2\n",
      "    area (worst):                         185.2  4254.0\n",
      "    smoothness (worst):                   0.071  0.223\n",
      "    compactness (worst):                  0.027  1.058\n",
      "    concavity (worst):                    0.0    1.252\n",
      "    concave points (worst):               0.0    0.291\n",
      "    symmetry (worst):                     0.156  0.664\n",
      "    fractal dimension (worst):            0.055  0.208\n",
      "    ===================================== ====== ======\n",
      "\n",
      "    :Missing Attribute Values: None\n",
      "\n",
      "    :Class Distribution: 212 - Malignant, 357 - Benign\n",
      "\n",
      "    :Creator:  Dr. William H. Wolberg, W. Nick Street, Olvi L. Mangasarian\n",
      "\n",
      "    :Donor: Nick Street\n",
      "\n",
      "    :Date: November, 1995\n",
      "\n",
      "This is a copy of UCI ML Breast Cancer Wisconsin (Diagnostic) datasets.\n",
      "https://goo.gl/U2Uwz2\n",
      "\n",
      "Features are computed from a digitized image of a fine needle\n",
      "aspirate (FNA) of a breast mass.  They describe\n",
      "characteristics of the cell nuclei present in the image.\n",
      "\n",
      "Separating plane described above was obtained using\n",
      "Multisurface Method-Tree (MSM-T) [K. P. Bennett, \"Decision Tree\n",
      "Construction Via Linear Programming.\" Proceedings of the 4th\n",
      "Midwest Artificial Intelligence and Cognitive Science Society,\n",
      "pp. 97-101, 1992], a classification method which uses linear\n",
      "programming to construct a decision tree.  Relevant features\n",
      "were selected using an exhaustive search in the space of 1-4\n",
      "features and 1-3 separating planes.\n",
      "\n",
      "The actual linear program used to obtain the separating plane\n",
      "in the 3-dimensional space is that described in:\n",
      "[K. P. Bennett and O. L. Mangasarian: \"Robust Linear\n",
      "Programming Discrimination of Two Linearly Inseparable Sets\",\n",
      "Optimization Methods and Software 1, 1992, 23-34].\n",
      "\n",
      "This database is also available through the UW CS ftp server:\n",
      "\n",
      "ftp ftp.cs.wisc.edu\n",
      "cd math-prog/cpo-dataset/machine-learn/WDBC/\n",
      "\n",
      ".. topic:: References\n",
      "\n",
      "   - W.N. Street, W.H. Wolberg and O.L. Mangasarian. Nuclear feature extraction \n",
      "     for breast tumor diagnosis. IS&T/SPIE 1993 International Symposium on \n",
      "     Electronic Imaging: Science and Technology, volume 1905, pages 861-870,\n",
      "     San Jose, CA, 1993.\n",
      "   - O.L. Mangasarian, W.N. Street and W.H. Wolberg. Breast cancer diagnosis and \n",
      "     prognosis via linear programming. Operations Research, 43(4), pages 570-577, \n",
      "     July-August 1995.\n",
      "   - W.H. Wolberg, W.N. Street, and O.L. Mangasarian. Machine learning techniques\n",
      "     to diagnose breast cancer from fine-needle aspirates. Cancer Letters 77 (1994) \n",
      "     163-171.\n"
     ]
    }
   ],
   "source": [
    "print(cancer.DESCR)"
   ]
  },
  {
   "cell_type": "markdown",
   "metadata": {},
   "source": [
    "# 3. 데이터 이해하기\n",
    "\n",
    "- 정답을 학습하는 '지도학습'이면서 암에 대한 '정확한 예측'이 필요한 데이터 셋"
   ]
  },
  {
   "cell_type": "code",
   "execution_count": 36,
   "metadata": {},
   "outputs": [
    {
     "name": "stdout",
     "output_type": "stream",
     "text": [
      "전체 데이터(행) 개수: 569\n",
      "전체 특성(열) 개수: 30\n",
      "타겟 데이터 개수: (569,)\n",
      "타겟 데이터 레이블명: ['malignant' 'benign']\n",
      "malignant(악성) 개수: 212\n",
      "benign(양성) 개수: 357\n"
     ]
    }
   ],
   "source": [
    "# 데이터 저장 및 확인\n",
    "import collections\n",
    "collections.Counter(cancer.target)\n",
    "\n",
    "cancer_data = cancer.data\n",
    "cancer_target = cancer.target\n",
    "\n",
    "print('전체 데이터(행) 개수:',cancer_data.shape[0])\n",
    "print('전체 특성(열) 개수:',cancer_data.shape[1])\n",
    "print('타겟 데이터 개수:',cancer_target.shape)\n",
    "print('타겟 데이터 레이블명:',cancer.target_names)\n",
    "print('malignant(악성) 개수:',collections.Counter(cancer.target)[0])\n",
    "print('benign(양성) 개수:',collections.Counter(cancer.target)[1])"
   ]
  },
  {
   "cell_type": "code",
   "execution_count": 37,
   "metadata": {},
   "outputs": [
    {
     "name": "stdout",
     "output_type": "stream",
     "text": [
      "   mean radius  mean texture  mean perimeter  mean area  mean smoothness  \\\n",
      "0        17.99         10.38           122.8     1001.0           0.1184   \n",
      "\n",
      "   mean compactness  mean concavity  mean concave points  mean symmetry  \\\n",
      "0            0.2776          0.3001               0.1471         0.2419   \n",
      "\n",
      "   mean fractal dimension  ...  worst texture  worst perimeter  worst area  \\\n",
      "0                 0.07871  ...          17.33            184.6      2019.0   \n",
      "\n",
      "   worst smoothness  worst compactness  worst concavity  worst concave points  \\\n",
      "0            0.1622             0.6656           0.7119                0.2654   \n",
      "\n",
      "   worst symmetry  worst fractal dimension  target  \n",
      "0          0.4601                   0.1189       0  \n",
      "\n",
      "[1 rows x 31 columns]\n"
     ]
    }
   ],
   "source": [
    "# 데이터 프레임에 저장\n",
    "cancer_df = pd.DataFrame(data = cancer_data, columns= cancer.feature_names)\n",
    "\n",
    "# 정답지인 target 칼럼 추가\n",
    "cancer_df['target'] = cancer.target\n",
    "print(cancer_df.head(1))\n",
    "\n",
    "# 컬럼이 이전 30개에서 31개로 증가했음으로 target데이터가 들어갔음을 확인"
   ]
  },
  {
   "cell_type": "code",
   "execution_count": 38,
   "metadata": {},
   "outputs": [
    {
     "data": {
      "text/html": [
       "<div>\n",
       "<style scoped>\n",
       "    .dataframe tbody tr th:only-of-type {\n",
       "        vertical-align: middle;\n",
       "    }\n",
       "\n",
       "    .dataframe tbody tr th {\n",
       "        vertical-align: top;\n",
       "    }\n",
       "\n",
       "    .dataframe thead th {\n",
       "        text-align: right;\n",
       "    }\n",
       "</style>\n",
       "<table border=\"1\" class=\"dataframe\">\n",
       "  <thead>\n",
       "    <tr style=\"text-align: right;\">\n",
       "      <th></th>\n",
       "      <th>mean radius</th>\n",
       "      <th>mean texture</th>\n",
       "      <th>mean perimeter</th>\n",
       "      <th>mean area</th>\n",
       "      <th>mean smoothness</th>\n",
       "      <th>mean compactness</th>\n",
       "      <th>mean concavity</th>\n",
       "      <th>mean concave points</th>\n",
       "      <th>mean symmetry</th>\n",
       "      <th>mean fractal dimension</th>\n",
       "      <th>...</th>\n",
       "      <th>worst texture</th>\n",
       "      <th>worst perimeter</th>\n",
       "      <th>worst area</th>\n",
       "      <th>worst smoothness</th>\n",
       "      <th>worst compactness</th>\n",
       "      <th>worst concavity</th>\n",
       "      <th>worst concave points</th>\n",
       "      <th>worst symmetry</th>\n",
       "      <th>worst fractal dimension</th>\n",
       "      <th>target</th>\n",
       "    </tr>\n",
       "  </thead>\n",
       "  <tbody>\n",
       "    <tr>\n",
       "      <th>count</th>\n",
       "      <td>569.000000</td>\n",
       "      <td>569.000000</td>\n",
       "      <td>569.000000</td>\n",
       "      <td>569.000000</td>\n",
       "      <td>569.000000</td>\n",
       "      <td>569.000000</td>\n",
       "      <td>569.000000</td>\n",
       "      <td>569.000000</td>\n",
       "      <td>569.000000</td>\n",
       "      <td>569.000000</td>\n",
       "      <td>...</td>\n",
       "      <td>569.000000</td>\n",
       "      <td>569.000000</td>\n",
       "      <td>569.000000</td>\n",
       "      <td>569.000000</td>\n",
       "      <td>569.000000</td>\n",
       "      <td>569.000000</td>\n",
       "      <td>569.000000</td>\n",
       "      <td>569.000000</td>\n",
       "      <td>569.000000</td>\n",
       "      <td>569.000000</td>\n",
       "    </tr>\n",
       "    <tr>\n",
       "      <th>mean</th>\n",
       "      <td>14.127292</td>\n",
       "      <td>19.289649</td>\n",
       "      <td>91.969033</td>\n",
       "      <td>654.889104</td>\n",
       "      <td>0.096360</td>\n",
       "      <td>0.104341</td>\n",
       "      <td>0.088799</td>\n",
       "      <td>0.048919</td>\n",
       "      <td>0.181162</td>\n",
       "      <td>0.062798</td>\n",
       "      <td>...</td>\n",
       "      <td>25.677223</td>\n",
       "      <td>107.261213</td>\n",
       "      <td>880.583128</td>\n",
       "      <td>0.132369</td>\n",
       "      <td>0.254265</td>\n",
       "      <td>0.272188</td>\n",
       "      <td>0.114606</td>\n",
       "      <td>0.290076</td>\n",
       "      <td>0.083946</td>\n",
       "      <td>0.627417</td>\n",
       "    </tr>\n",
       "    <tr>\n",
       "      <th>std</th>\n",
       "      <td>3.524049</td>\n",
       "      <td>4.301036</td>\n",
       "      <td>24.298981</td>\n",
       "      <td>351.914129</td>\n",
       "      <td>0.014064</td>\n",
       "      <td>0.052813</td>\n",
       "      <td>0.079720</td>\n",
       "      <td>0.038803</td>\n",
       "      <td>0.027414</td>\n",
       "      <td>0.007060</td>\n",
       "      <td>...</td>\n",
       "      <td>6.146258</td>\n",
       "      <td>33.602542</td>\n",
       "      <td>569.356993</td>\n",
       "      <td>0.022832</td>\n",
       "      <td>0.157336</td>\n",
       "      <td>0.208624</td>\n",
       "      <td>0.065732</td>\n",
       "      <td>0.061867</td>\n",
       "      <td>0.018061</td>\n",
       "      <td>0.483918</td>\n",
       "    </tr>\n",
       "    <tr>\n",
       "      <th>min</th>\n",
       "      <td>6.981000</td>\n",
       "      <td>9.710000</td>\n",
       "      <td>43.790000</td>\n",
       "      <td>143.500000</td>\n",
       "      <td>0.052630</td>\n",
       "      <td>0.019380</td>\n",
       "      <td>0.000000</td>\n",
       "      <td>0.000000</td>\n",
       "      <td>0.106000</td>\n",
       "      <td>0.049960</td>\n",
       "      <td>...</td>\n",
       "      <td>12.020000</td>\n",
       "      <td>50.410000</td>\n",
       "      <td>185.200000</td>\n",
       "      <td>0.071170</td>\n",
       "      <td>0.027290</td>\n",
       "      <td>0.000000</td>\n",
       "      <td>0.000000</td>\n",
       "      <td>0.156500</td>\n",
       "      <td>0.055040</td>\n",
       "      <td>0.000000</td>\n",
       "    </tr>\n",
       "    <tr>\n",
       "      <th>25%</th>\n",
       "      <td>11.700000</td>\n",
       "      <td>16.170000</td>\n",
       "      <td>75.170000</td>\n",
       "      <td>420.300000</td>\n",
       "      <td>0.086370</td>\n",
       "      <td>0.064920</td>\n",
       "      <td>0.029560</td>\n",
       "      <td>0.020310</td>\n",
       "      <td>0.161900</td>\n",
       "      <td>0.057700</td>\n",
       "      <td>...</td>\n",
       "      <td>21.080000</td>\n",
       "      <td>84.110000</td>\n",
       "      <td>515.300000</td>\n",
       "      <td>0.116600</td>\n",
       "      <td>0.147200</td>\n",
       "      <td>0.114500</td>\n",
       "      <td>0.064930</td>\n",
       "      <td>0.250400</td>\n",
       "      <td>0.071460</td>\n",
       "      <td>0.000000</td>\n",
       "    </tr>\n",
       "    <tr>\n",
       "      <th>50%</th>\n",
       "      <td>13.370000</td>\n",
       "      <td>18.840000</td>\n",
       "      <td>86.240000</td>\n",
       "      <td>551.100000</td>\n",
       "      <td>0.095870</td>\n",
       "      <td>0.092630</td>\n",
       "      <td>0.061540</td>\n",
       "      <td>0.033500</td>\n",
       "      <td>0.179200</td>\n",
       "      <td>0.061540</td>\n",
       "      <td>...</td>\n",
       "      <td>25.410000</td>\n",
       "      <td>97.660000</td>\n",
       "      <td>686.500000</td>\n",
       "      <td>0.131300</td>\n",
       "      <td>0.211900</td>\n",
       "      <td>0.226700</td>\n",
       "      <td>0.099930</td>\n",
       "      <td>0.282200</td>\n",
       "      <td>0.080040</td>\n",
       "      <td>1.000000</td>\n",
       "    </tr>\n",
       "    <tr>\n",
       "      <th>75%</th>\n",
       "      <td>15.780000</td>\n",
       "      <td>21.800000</td>\n",
       "      <td>104.100000</td>\n",
       "      <td>782.700000</td>\n",
       "      <td>0.105300</td>\n",
       "      <td>0.130400</td>\n",
       "      <td>0.130700</td>\n",
       "      <td>0.074000</td>\n",
       "      <td>0.195700</td>\n",
       "      <td>0.066120</td>\n",
       "      <td>...</td>\n",
       "      <td>29.720000</td>\n",
       "      <td>125.400000</td>\n",
       "      <td>1084.000000</td>\n",
       "      <td>0.146000</td>\n",
       "      <td>0.339100</td>\n",
       "      <td>0.382900</td>\n",
       "      <td>0.161400</td>\n",
       "      <td>0.317900</td>\n",
       "      <td>0.092080</td>\n",
       "      <td>1.000000</td>\n",
       "    </tr>\n",
       "    <tr>\n",
       "      <th>max</th>\n",
       "      <td>28.110000</td>\n",
       "      <td>39.280000</td>\n",
       "      <td>188.500000</td>\n",
       "      <td>2501.000000</td>\n",
       "      <td>0.163400</td>\n",
       "      <td>0.345400</td>\n",
       "      <td>0.426800</td>\n",
       "      <td>0.201200</td>\n",
       "      <td>0.304000</td>\n",
       "      <td>0.097440</td>\n",
       "      <td>...</td>\n",
       "      <td>49.540000</td>\n",
       "      <td>251.200000</td>\n",
       "      <td>4254.000000</td>\n",
       "      <td>0.222600</td>\n",
       "      <td>1.058000</td>\n",
       "      <td>1.252000</td>\n",
       "      <td>0.291000</td>\n",
       "      <td>0.663800</td>\n",
       "      <td>0.207500</td>\n",
       "      <td>1.000000</td>\n",
       "    </tr>\n",
       "  </tbody>\n",
       "</table>\n",
       "<p>8 rows × 31 columns</p>\n",
       "</div>"
      ],
      "text/plain": [
       "       mean radius  mean texture  mean perimeter    mean area  \\\n",
       "count   569.000000    569.000000      569.000000   569.000000   \n",
       "mean     14.127292     19.289649       91.969033   654.889104   \n",
       "std       3.524049      4.301036       24.298981   351.914129   \n",
       "min       6.981000      9.710000       43.790000   143.500000   \n",
       "25%      11.700000     16.170000       75.170000   420.300000   \n",
       "50%      13.370000     18.840000       86.240000   551.100000   \n",
       "75%      15.780000     21.800000      104.100000   782.700000   \n",
       "max      28.110000     39.280000      188.500000  2501.000000   \n",
       "\n",
       "       mean smoothness  mean compactness  mean concavity  mean concave points  \\\n",
       "count       569.000000        569.000000      569.000000           569.000000   \n",
       "mean          0.096360          0.104341        0.088799             0.048919   \n",
       "std           0.014064          0.052813        0.079720             0.038803   \n",
       "min           0.052630          0.019380        0.000000             0.000000   \n",
       "25%           0.086370          0.064920        0.029560             0.020310   \n",
       "50%           0.095870          0.092630        0.061540             0.033500   \n",
       "75%           0.105300          0.130400        0.130700             0.074000   \n",
       "max           0.163400          0.345400        0.426800             0.201200   \n",
       "\n",
       "       mean symmetry  mean fractal dimension  ...  worst texture  \\\n",
       "count     569.000000              569.000000  ...     569.000000   \n",
       "mean        0.181162                0.062798  ...      25.677223   \n",
       "std         0.027414                0.007060  ...       6.146258   \n",
       "min         0.106000                0.049960  ...      12.020000   \n",
       "25%         0.161900                0.057700  ...      21.080000   \n",
       "50%         0.179200                0.061540  ...      25.410000   \n",
       "75%         0.195700                0.066120  ...      29.720000   \n",
       "max         0.304000                0.097440  ...      49.540000   \n",
       "\n",
       "       worst perimeter   worst area  worst smoothness  worst compactness  \\\n",
       "count       569.000000   569.000000        569.000000         569.000000   \n",
       "mean        107.261213   880.583128          0.132369           0.254265   \n",
       "std          33.602542   569.356993          0.022832           0.157336   \n",
       "min          50.410000   185.200000          0.071170           0.027290   \n",
       "25%          84.110000   515.300000          0.116600           0.147200   \n",
       "50%          97.660000   686.500000          0.131300           0.211900   \n",
       "75%         125.400000  1084.000000          0.146000           0.339100   \n",
       "max         251.200000  4254.000000          0.222600           1.058000   \n",
       "\n",
       "       worst concavity  worst concave points  worst symmetry  \\\n",
       "count       569.000000            569.000000      569.000000   \n",
       "mean          0.272188              0.114606        0.290076   \n",
       "std           0.208624              0.065732        0.061867   \n",
       "min           0.000000              0.000000        0.156500   \n",
       "25%           0.114500              0.064930        0.250400   \n",
       "50%           0.226700              0.099930        0.282200   \n",
       "75%           0.382900              0.161400        0.317900   \n",
       "max           1.252000              0.291000        0.663800   \n",
       "\n",
       "       worst fractal dimension      target  \n",
       "count               569.000000  569.000000  \n",
       "mean                  0.083946    0.627417  \n",
       "std                   0.018061    0.483918  \n",
       "min                   0.055040    0.000000  \n",
       "25%                   0.071460    0.000000  \n",
       "50%                   0.080040    1.000000  \n",
       "75%                   0.092080    1.000000  \n",
       "max                   0.207500    1.000000  \n",
       "\n",
       "[8 rows x 31 columns]"
      ]
     },
     "execution_count": 38,
     "metadata": {},
     "output_type": "execute_result"
    }
   ],
   "source": [
    "cancer_df.describe() # 데이터의 최대,최소,평균 등 확인"
   ]
  },
  {
   "cell_type": "markdown",
   "metadata": {},
   "source": [
    "# 4. train, test 데이터 분리"
   ]
  },
  {
   "cell_type": "code",
   "execution_count": 39,
   "metadata": {},
   "outputs": [
    {
     "name": "stdout",
     "output_type": "stream",
     "text": [
      "X_train 개수: 398 X_test 개수: 171\n"
     ]
    }
   ],
   "source": [
    "X_train, X_test, y_train, y_test = train_test_split(cancer_data, cancer_target, test_size = 0.3 , random_state = 18)\n",
    "\n",
    "# 나누기 확인\n",
    "print('X_train 개수:', len(X_train), 'X_test 개수:', len(X_test))"
   ]
  },
  {
   "cell_type": "markdown",
   "metadata": {},
   "source": [
    "# 5. 다양한 모델 학습해보기\n",
    "- 유방암 데이터 셋의 경우 암에 대한 예측 여부(신뢰성)가 중요함\n",
    "- 분류의 성능평가지표는 정밀도가 높은 모델이 정확도가 높은 모델"
   ]
  },
  {
   "cell_type": "markdown",
   "metadata": {},
   "source": [
    "##### 의사결정트리"
   ]
  },
  {
   "cell_type": "code",
   "execution_count": 40,
   "metadata": {},
   "outputs": [
    {
     "name": "stdout",
     "output_type": "stream",
     "text": [
      "classifier\n",
      "              precision    recall  f1-score   support\n",
      "\n",
      "           0       0.94      0.83      0.88        70\n",
      "           1       0.89      0.96      0.92       101\n",
      "\n",
      "    accuracy                           0.91       171\n",
      "   macro avg       0.91      0.89      0.90       171\n",
      "weighted avg       0.91      0.91      0.91       171\n",
      "\n"
     ]
    }
   ],
   "source": [
    "# 라이브러리 불러오기\n",
    "from sklearn.tree import DecisionTreeClassifier\n",
    "from sklearn.metrics import classification_report\n",
    "\n",
    "decision_tree = DecisionTreeClassifier(random_state=8)\n",
    "print(decision_tree._estimator_type)\n",
    "\n",
    "# 모델 학습하기\n",
    "decision_tree.fit(X_train, y_train)\n",
    "\n",
    "# test 데이터로 모델 학습\n",
    "decision_tree_pred = decision_tree.predict(X_test)\n",
    "decision_tree_pred\n",
    "\n",
    "# 수치비교\n",
    "print(classification_report(y_test, decision_tree_pred))"
   ]
  },
  {
   "cell_type": "markdown",
   "metadata": {},
   "source": [
    "##### 랜덤포레스트"
   ]
  },
  {
   "cell_type": "code",
   "execution_count": 41,
   "metadata": {},
   "outputs": [
    {
     "name": "stdout",
     "output_type": "stream",
     "text": [
      "classifier\n",
      "              precision    recall  f1-score   support\n",
      "\n",
      "           0       0.98      0.90      0.94        70\n",
      "           1       0.93      0.99      0.96       101\n",
      "\n",
      "    accuracy                           0.95       171\n",
      "   macro avg       0.96      0.95      0.95       171\n",
      "weighted avg       0.95      0.95      0.95       171\n",
      "\n"
     ]
    }
   ],
   "source": [
    "from sklearn.ensemble import RandomForestClassifier\n",
    "RF = RandomForestClassifier(random_state=27)\n",
    "print(RandomForestClassifier._estimator_type)\n",
    "\n",
    "# 모델 학습하기\n",
    "RF.fit(X_train, y_train)\n",
    "\n",
    "# test 데이터로 모델 학습\n",
    "RF_pred = RF.predict(X_test)\n",
    "RF_pred\n",
    "\n",
    "# 수치비교\n",
    "print(classification_report(y_test, RF_pred))\n"
   ]
  },
  {
   "cell_type": "markdown",
   "metadata": {},
   "source": [
    "##### 서포트 벡터 머신"
   ]
  },
  {
   "cell_type": "code",
   "execution_count": 42,
   "metadata": {},
   "outputs": [
    {
     "name": "stdout",
     "output_type": "stream",
     "text": [
      "              precision    recall  f1-score   support\n",
      "\n",
      "           0       0.98      0.67      0.80        70\n",
      "           1       0.81      0.99      0.89       101\n",
      "\n",
      "    accuracy                           0.86       171\n",
      "   macro avg       0.90      0.83      0.84       171\n",
      "weighted avg       0.88      0.86      0.85       171\n",
      "\n"
     ]
    }
   ],
   "source": [
    "from sklearn import svm\n",
    "svm_model = svm.SVC()\n",
    "\n",
    "# 모델 학습하기\n",
    "svm_model.fit(X_train, y_train)\n",
    "\n",
    "# test 데이터로 모델 학습\n",
    "svm_model_pred = svm_model.predict(X_test)\n",
    "\n",
    "# 수치비교\n",
    "print(classification_report(y_test,svm_model_pred))"
   ]
  },
  {
   "cell_type": "markdown",
   "metadata": {},
   "source": [
    "##### 확률적 경사하강법"
   ]
  },
  {
   "cell_type": "code",
   "execution_count": 43,
   "metadata": {},
   "outputs": [
    {
     "name": "stdout",
     "output_type": "stream",
     "text": [
      "classifier\n",
      "              precision    recall  f1-score   support\n",
      "\n",
      "           0       0.88      0.86      0.87        70\n",
      "           1       0.90      0.92      0.91       101\n",
      "\n",
      "    accuracy                           0.89       171\n",
      "   macro avg       0.89      0.89      0.89       171\n",
      "weighted avg       0.89      0.89      0.89       171\n",
      "\n"
     ]
    }
   ],
   "source": [
    "# 모델 불러오기 및 변수에 모델 저장\n",
    "from sklearn.linear_model import SGDClassifier\n",
    "sgd_model = SGDClassifier()\n",
    "print(sgd_model._estimator_type)\n",
    "\n",
    "# 모델 학습하기\n",
    "sgd_model.fit(X_train,y_train)\n",
    "\n",
    "# test 데이터로 모델 학습\n",
    "sgd_model_pred = sgd_model.predict(X_test)\n",
    "\n",
    "# 수치비교\n",
    "print(classification_report(y_test,sgd_model_pred))\n"
   ]
  },
  {
   "cell_type": "markdown",
   "metadata": {},
   "source": [
    "##### 로지스틱 회귀분석"
   ]
  },
  {
   "cell_type": "code",
   "execution_count": 44,
   "metadata": {},
   "outputs": [
    {
     "name": "stdout",
     "output_type": "stream",
     "text": [
      "classifier\n",
      "              precision    recall  f1-score   support\n",
      "\n",
      "           0       0.94      0.89      0.91        70\n",
      "           1       0.92      0.96      0.94       101\n",
      "\n",
      "    accuracy                           0.93       171\n",
      "   macro avg       0.93      0.92      0.93       171\n",
      "weighted avg       0.93      0.93      0.93       171\n",
      "\n"
     ]
    }
   ],
   "source": [
    "from sklearn.linear_model import LogisticRegression\n",
    "logistic_model = LogisticRegression(max_iter=10000)\n",
    "\n",
    "print(logistic_model._estimator_type)\n",
    "\n",
    "# 모델 학습하기\n",
    "logistic_model.fit(X_train,y_train)\n",
    "\n",
    "# test 데이터로 모델 학습\n",
    "logistic_model_pred = logistic_model.predict(X_test)\n",
    "\n",
    "# 수치비교\n",
    "print(classification_report(y_test,logistic_model_pred))"
   ]
  },
  {
   "cell_type": "markdown",
   "metadata": {},
   "source": [
    "# 6. 모델 성능 평가해보기\n",
    "\n",
    "- 암을 진단할때, 음성을 양성으로 진단하는것 보다 양성을 음성으로 진단하는 것이 더 큰 문제가 되므로  \n",
    "그러므로 거짓음성(FN)을 낮추는데 집중을 해야함 따라서, recall값으로 모델을 평가\n"
   ]
  },
  {
   "cell_type": "code",
   "execution_count": 45,
   "metadata": {},
   "outputs": [],
   "source": [
    "# 모델별 성능 딕셔너리화\n",
    "decision_tree_result = classification_report(y_test, decision_tree_pred, output_dict=True)\n",
    "RF_result = classification_report(y_test, RF_pred,output_dict=True)\n",
    "svm_result = classification_report(y_test,svm_model_pred, output_dict=True)\n",
    "sgd_result = classification_report(y_test,sgd_model_pred,output_dict= True)\n",
    "logistic_result = classification_report(y_test,logistic_model_pred, output_dict= True)\n"
   ]
  },
  {
   "cell_type": "code",
   "execution_count": 46,
   "metadata": {},
   "outputs": [],
   "source": [
    "# 각 모델별 recall 값만 저장\n",
    "recall = []\n",
    "name = ['decision_tree','RF','SVM','logistic','SGD']\n",
    "\n",
    "recall.append(decision_tree_result['macro avg']['recall'])\n",
    "recall.append(RF_result['macro avg']['recall'])\n",
    "recall.append(svm_result['macro avg']['recall'])\n",
    "recall.append(logistic_result['macro avg']['recall'])\n",
    "recall.append(sgd_result['macro avg']['recall'])"
   ]
  },
  {
   "cell_type": "code",
   "execution_count": 47,
   "metadata": {},
   "outputs": [
    {
     "data": {
      "image/png": "[encoded data removed]",
      "text/plain": [
       "<Figure size 432x288 with 1 Axes>"
      ]
     },
     "metadata": {
      "needs_background": "light"
     },
     "output_type": "display_data"
    }
   ],
   "source": [
    "# recall를 기준으로 시각화\n",
    "import matplotlib.pyplot as plt\n",
    "plt.bar(name, recall, color = ['r','g','b','y','m'])\n",
    "plt.title('recall')\n",
    "\n",
    "for i, v in enumerate(name):\n",
    "    plt.text(v, recall[i], '%0.2f' %recall[i],       # 좌표 (x축,y축, 표시)\n",
    "             fontsize = 11,                           # 표시값 앞에 소수점 자리수 지정 \n",
    "             color='black',\n",
    "             ha='center',  # horizontalalignment (left, center, right)\n",
    "             va='bottom')    # verticalalignment (top, center, bottom)"
   ]
  },
  {
   "cell_type": "markdown",
   "metadata": {},
   "source": [
    "recall을 기준으로 하였을 때는 랜덤포레스트가 가장 예측 정확도가 높은 모델이라 볼 수 있음"
   ]
  },
  {
   "cell_type": "markdown",
   "metadata": {},
   "source": [
    "# 추가)\n",
    "### 이진 분류의 경우 각 모델별 ROC곡선과 AUC값을 확인해 성능을 평가\n",
    "- 의학 분야에서 많이 사용\n",
    "- ROC 곡선의 하단의 넓이를 AUC값으로 나타내며 0.5부터 1까지의 범위를 가짐\n",
    "- 1에 가까울 수록 정확도가 높은 모델"
   ]
  },
  {
   "cell_type": "markdown",
   "metadata": {},
   "source": [
    "##### 의사결정트리"
   ]
  },
  {
   "cell_type": "code",
   "execution_count": 48,
   "metadata": {},
   "outputs": [
    {
     "name": "stdout",
     "output_type": "stream",
     "text": [
      "반환된 분류 결정 임곗값 배열의 shape :  (3,)\n"
     ]
    },
    {
     "data": {
      "text/html": [
       "<div>\n",
       "<style scoped>\n",
       "    .dataframe tbody tr th:only-of-type {\n",
       "        vertical-align: middle;\n",
       "    }\n",
       "\n",
       "    .dataframe tbody tr th {\n",
       "        vertical-align: top;\n",
       "    }\n",
       "\n",
       "    .dataframe thead th {\n",
       "        text-align: right;\n",
       "    }\n",
       "</style>\n",
       "<table border=\"1\" class=\"dataframe\">\n",
       "  <thead>\n",
       "    <tr style=\"text-align: right;\">\n",
       "      <th></th>\n",
       "      <th>index</th>\n",
       "      <th>FPR</th>\n",
       "      <th>TPR</th>\n",
       "    </tr>\n",
       "  </thead>\n",
       "  <tbody>\n",
       "    <tr>\n",
       "      <th>0</th>\n",
       "      <td>1</td>\n",
       "      <td>0.171429</td>\n",
       "      <td>0.960396</td>\n",
       "    </tr>\n",
       "    <tr>\n",
       "      <th>1</th>\n",
       "      <td>2</td>\n",
       "      <td>1.000000</td>\n",
       "      <td>1.000000</td>\n",
       "    </tr>\n",
       "  </tbody>\n",
       "</table>\n",
       "</div>"
      ],
      "text/plain": [
       "   index       FPR       TPR\n",
       "0      1  0.171429  0.960396\n",
       "1      2  1.000000  1.000000"
      ]
     },
     "execution_count": 48,
     "metadata": {},
     "output_type": "execute_result"
    }
   ],
   "source": [
    "from sklearn.metrics import roc_curve\n",
    "\n",
    "# predict_proba 함수는 각 샘플에 대해 어느 클래스에 속할 확률을 0에서 1사이의 값으로 돌려줌 / 해당 함수를 사용해 클래스 레이블(정답)을 예측\n",
    "# 레이블 값이 1일 떄, 예측확률을 추출\n",
    "pred_decision_target = decision_tree.predict_proba(X_test)[:,1]\n",
    "pred_decision_target\n",
    "\n",
    "# FPR(1 - 특이도(실제음성비율)) TPR(민감도:실제 양성 비율) 임계값 설정\n",
    "fprs, tprs, thresholds = roc_curve(y_test, pred_decision_target)\n",
    "print(\"반환된 분류 결정 임곗값 배열의 shape : \", thresholds.shape)\n",
    "\n",
    "# 반환된 임계값 배열 row를 샘플로 추출\n",
    "# thresholds[0]은 max(예측확률)+1로 임의 설정됨. 이를 제외하기위해 np.arange는 1부터 시작\n",
    "thr_index = np.arange(1,thresholds.shape[0])\n",
    "pd.DataFrame({'index':thr_index,'FPR':fprs[thr_index],'TPR':tprs[thr_index]})"
   ]
  },
  {
   "cell_type": "code",
   "execution_count": 49,
   "metadata": {},
   "outputs": [
    {
     "data": {
      "image/png": "[encoded data removed]",
      "text/plain": [
       "<Figure size 432x288 with 1 Axes>"
      ]
     },
     "metadata": {
      "needs_background": "light"
     },
     "output_type": "display_data"
    }
   ],
   "source": [
    "def roc_curve_plot(y_test, pred_proba_c1):\n",
    "    # 임계값에 따른 FPR, TPR 값\n",
    "    fprs, tprs, thresholds = roc_curve(y_test, pred_proba_c1)\n",
    "    # ROC 곡선을 시각화\n",
    "    plt.plot(fprs, tprs, label='ROC')\n",
    "    # 가운데 대각선 직선\n",
    "    plt.plot([0,1],[0,1], 'k--',label='Random')\n",
    "    \n",
    "    # FPR X 축의 scla 0.1 단위 지정\n",
    "    start, end = plt.xlim()\n",
    "    plt.xticks(np.round(np.arange(start, end, 0.1),2)) # x축의 눈금 범위\n",
    "    plt.xlim(0, 1) # x축 시작값과 끝값\n",
    "    plt.ylim(0, 1) # y축 시작값과 끝값\n",
    "    plt.xlabel('FPR( 1 - Snesitivity )') # x축 레이블명\n",
    "    plt.ylabel('TPR( Recall )') # y축 레이블명\n",
    "    plt.legend() # 범례\n",
    "    \n",
    "roc_curve_plot(y_test, pred_decision_target)"
   ]
  },
  {
   "cell_type": "code",
   "execution_count": 50,
   "metadata": {},
   "outputs": [
    {
     "name": "stdout",
     "output_type": "stream",
     "text": [
      "ROC AUC Score:  0.8944837340876944\n"
     ]
    }
   ],
   "source": [
    "from sklearn.metrics import roc_auc_score\n",
    "\n",
    "pred_proba_tree = decision_tree.predict_proba(X_test)[:, 1]\n",
    "roc_score_tree = roc_auc_score(y_test, pred_proba_tree)\n",
    "print('ROC AUC Score: ', roc_score_tree)"
   ]
  },
  {
   "cell_type": "markdown",
   "metadata": {},
   "source": [
    "##### 랜덤포레스트"
   ]
  },
  {
   "cell_type": "code",
   "execution_count": 51,
   "metadata": {},
   "outputs": [
    {
     "data": {
      "text/html": [
       "<div>\n",
       "<style scoped>\n",
       "    .dataframe tbody tr th:only-of-type {\n",
       "        vertical-align: middle;\n",
       "    }\n",
       "\n",
       "    .dataframe tbody tr th {\n",
       "        vertical-align: top;\n",
       "    }\n",
       "\n",
       "    .dataframe thead th {\n",
       "        text-align: right;\n",
       "    }\n",
       "</style>\n",
       "<table border=\"1\" class=\"dataframe\">\n",
       "  <thead>\n",
       "    <tr style=\"text-align: right;\">\n",
       "      <th></th>\n",
       "      <th>index</th>\n",
       "      <th>FPR</th>\n",
       "      <th>TPR</th>\n",
       "    </tr>\n",
       "  </thead>\n",
       "  <tbody>\n",
       "    <tr>\n",
       "      <th>0</th>\n",
       "      <td>1</td>\n",
       "      <td>0.171429</td>\n",
       "      <td>0.960396</td>\n",
       "    </tr>\n",
       "    <tr>\n",
       "      <th>1</th>\n",
       "      <td>2</td>\n",
       "      <td>1.000000</td>\n",
       "      <td>1.000000</td>\n",
       "    </tr>\n",
       "  </tbody>\n",
       "</table>\n",
       "</div>"
      ],
      "text/plain": [
       "   index       FPR       TPR\n",
       "0      1  0.171429  0.960396\n",
       "1      2  1.000000  1.000000"
      ]
     },
     "execution_count": 51,
     "metadata": {},
     "output_type": "execute_result"
    }
   ],
   "source": [
    "pd.DataFrame({'index':thr_index,'FPR':fprs[thr_index],'TPR':tprs[thr_index]})"
   ]
  },
  {
   "cell_type": "code",
   "execution_count": 52,
   "metadata": {},
   "outputs": [
    {
     "name": "stdout",
     "output_type": "stream",
     "text": [
      "반환된 분류 결정 임곗값 배열의 shape :  (33,)\n"
     ]
    },
    {
     "data": {
      "image/png": "[encoded data removed]",
      "text/plain": [
       "<Figure size 432x288 with 1 Axes>"
      ]
     },
     "metadata": {
      "needs_background": "light"
     },
     "output_type": "display_data"
    }
   ],
   "source": [
    "from sklearn.metrics import roc_curve\n",
    "\n",
    "# predict_proba 함수는 각 샘플에 대해 어느 클래스에 속할 확률을 0에서 1사이의 값으로 돌려줌 / 해당 함수를 사용해 클래스 레이블(정답)을 예측\n",
    "# 레이블 값이 1일 떄, 예측확률을 추출\n",
    "pred_RF_target = RF.predict_proba(X_test)[:,1]\n",
    "pred_RF_target\n",
    "\n",
    "# FPR(1 - 특이도(실제음성비율)) TPR(민감도:실제 양성 비율) 임계값 설정\n",
    "fprs, tprs, thresholds = roc_curve(y_test, pred_RF_target)\n",
    "print(\"반환된 분류 결정 임곗값 배열의 shape : \", thresholds.shape)\n",
    "\n",
    "# 반환된 임계값 배열 row를 샘플로 추출\n",
    "# thresholds[0]은 max(예측확률)+1로 임의 설정됨. 이를 제외하기위해 np.arange는 1부터 시작\n",
    "thr_index = np.arange(1,thresholds.shape[0])\n",
    "pd.DataFrame({'index':thr_index,'FPR':fprs[thr_index],'TPR':tprs[thr_index]})\n",
    "\n",
    "def roc_curve_plot(y_test, pred_proba_c1):\n",
    "    # 임계값에 따른 FPR, TPR 값\n",
    "    fprs, tprs, thresholds = roc_curve(y_test, pred_proba_c1)\n",
    "    # ROC 곡선을 시각화\n",
    "    plt.plot(fprs, tprs, label='ROC')\n",
    "    # 가운데 대각선 직선\n",
    "    plt.plot([0,1],[0,1], 'k--',label='Random')\n",
    "    \n",
    "    # FPR X 축의 scla 0.1 단위 지정\n",
    "    start, end = plt.xlim()\n",
    "    plt.xticks(np.round(np.arange(start, end, 0.1),2)) # x축의 눈금 범위\n",
    "    plt.xlim(0, 1) # x축 시작값과 끝값\n",
    "    plt.ylim(0, 1) # y축 시작값과 끝값\n",
    "    plt.xlabel('FPR( 1 - Snesitivity )') # x축 레이블명\n",
    "    plt.ylabel('TPR( Recall )') # y축 레이블명\n",
    "    plt.legend() # 범례\n",
    "    \n",
    "roc_curve_plot(y_test, pred_RF_target)"
   ]
  },
  {
   "cell_type": "code",
   "execution_count": 53,
   "metadata": {},
   "outputs": [
    {
     "name": "stdout",
     "output_type": "stream",
     "text": [
      "ROC AUC Score:  0.9905940594059407\n"
     ]
    }
   ],
   "source": [
    "from sklearn.metrics import roc_auc_score\n",
    "\n",
    "pred_proba_rf = RF.predict_proba(X_test)[:, 1]\n",
    "roc_score_rf = roc_auc_score(y_test, pred_proba_rf)\n",
    "print('ROC AUC Score: ', roc_score_rf)"
   ]
  },
  {
   "cell_type": "markdown",
   "metadata": {},
   "source": [
    "##### 서포트벡터머신"
   ]
  },
  {
   "cell_type": "code",
   "execution_count": 54,
   "metadata": {},
   "outputs": [
    {
     "name": "stdout",
     "output_type": "stream",
     "text": [
      "반환된 분류 결정 임곗값 배열의 shape :  (26,)\n"
     ]
    },
    {
     "data": {
      "image/png": "[encoded data removed]",
      "text/plain": [
       "<Figure size 432x288 with 1 Axes>"
      ]
     },
     "metadata": {
      "needs_background": "light"
     },
     "output_type": "display_data"
    }
   ],
   "source": [
    "from sklearn.metrics import roc_curve\n",
    "\n",
    "# predict_proba 함수는 각 샘플에 대해 어느 클래스에 속할 확률을 0에서 1사이의 값으로 돌려줌 / 해당 함수를 사용해 클래스 레이블(정답)을 예측\n",
    "# 레이블 값이 1일 떄, 예측확률을 추출\n",
    "# svm의 경우 predict_proba함수를 가지고 있지만 모델 생성시 probalilty = True로 설정해야 사용가능 (다중분류)\n",
    "# decision_function은 이진분류에서만 사용 가능 \n",
    "# predict는 예측 확률을 반환 / decision은 모델이 학습한 선형 방정식의 출력을 반환 \n",
    "\n",
    "pred_svm_target = svm_model.decision_function(X_test)\n",
    "pred_svm_target\n",
    "\n",
    "# FPR(1 - 특이도(실제음성비율)) TPR(민감도:실제 양성 비율) 임계값 설정\n",
    "fprs, tprs, thresholds = roc_curve(y_test, pred_svm_target)\n",
    "print(\"반환된 분류 결정 임곗값 배열의 shape : \", thresholds.shape)\n",
    "\n",
    "# 반환된 임계값 배열 row를 샘플로 추출\n",
    "# thresholds[0]은 max(예측확률)+1로 임의 설정됨. 이를 제외하기위해 np.arange는 1부터 시작\n",
    "thr_index = np.arange(1,thresholds.shape[0])\n",
    "pd.DataFrame({'index':thr_index,'FPR':fprs[thr_index],'TPR':tprs[thr_index]})\n",
    "\n",
    "def roc_curve_plot(y_test, pred_proba_c1):\n",
    "    # 임계값에 따른 FPR, TPR 값\n",
    "    fprs, tprs, thresholds = roc_curve(y_test, pred_proba_c1)\n",
    "    # ROC 곡선을 시각화\n",
    "    plt.plot(fprs, tprs, label='ROC')\n",
    "    # 가운데 대각선 직선\n",
    "    plt.plot([0,1],[0,1], 'k--',label='Random')\n",
    "    \n",
    "    # FPR X 축의 scla 0.1 단위 지정\n",
    "    start, end = plt.xlim()\n",
    "    plt.xticks(np.round(np.arange(start, end, 0.1),2)) # x축의 눈금 범위\n",
    "    plt.xlim(0, 1) # x축 시작값과 끝값\n",
    "    plt.ylim(0, 1) # y축 시작값과 끝값\n",
    "    plt.xlabel('FPR( 1 - Snesitivity )') # x축 레이블명\n",
    "    plt.ylabel('TPR( Recall )') # y축 레이블명\n",
    "    plt.legend() # 범례\n",
    "    \n",
    "roc_curve_plot(y_test, pred_svm_target)"
   ]
  },
  {
   "cell_type": "code",
   "execution_count": 55,
   "metadata": {},
   "outputs": [
    {
     "name": "stdout",
     "output_type": "stream",
     "text": [
      "ROC AUC Score:  0.9652050919377652\n"
     ]
    }
   ],
   "source": [
    "from sklearn.metrics import roc_auc_score\n",
    "\n",
    "pred_proba_svm = svm_model.decision_function(X_test)\n",
    "roc_score_svm = roc_auc_score(y_test, pred_proba_svm)\n",
    "print('ROC AUC Score: ', roc_score_svm)"
   ]
  },
  {
   "cell_type": "markdown",
   "metadata": {},
   "source": [
    "##### 확률적경사하강법"
   ]
  },
  {
   "cell_type": "code",
   "execution_count": 56,
   "metadata": {},
   "outputs": [
    {
     "name": "stdout",
     "output_type": "stream",
     "text": [
      "반환된 분류 결정 임곗값 배열의 shape :  (34,)\n"
     ]
    },
    {
     "data": {
      "image/png": "[encoded data removed]",
      "text/plain": [
       "<Figure size 432x288 with 1 Axes>"
      ]
     },
     "metadata": {
      "needs_background": "light"
     },
     "output_type": "display_data"
    }
   ],
   "source": [
    "from sklearn.metrics import roc_curve\n",
    "\n",
    "# predict_proba 함수는 각 샘플에 대해 어느 클래스에 속할 확률을 0에서 1사이의 값으로 돌려줌 / 해당 함수를 사용해 클래스 레이블(정답)을 예측\n",
    "# 레이블 값이 1일 떄, 예측확률을 추출\n",
    "# pre는 예측 확률을 반환 / decision은 모델이 학습한 선형 방정식의 출력을 반환 \n",
    "pred_sgd_target = sgd_model.decision_function(X_test)\n",
    "pred_sgd_target\n",
    "\n",
    "# FPR(1 - 특이도(실제음성비율)) TPR(민감도:실제 양성 비율) 임계값 설정\n",
    "fprs, tprs, thresholds = roc_curve(y_test, pred_sgd_target)\n",
    "print(\"반환된 분류 결정 임곗값 배열의 shape : \", thresholds.shape)\n",
    "\n",
    "# 반환된 임계값 배열 row를 샘플로 추출 \n",
    "# thresholds[0]은 max(예측확률)+1로 임의 설정됨. 이를 제외하기위해 np.arange는 1부터 시작\n",
    "thr_index = np.arange(1,thresholds.shape[0])\n",
    "pd.DataFrame({'index':thr_index,'FPR':fprs[thr_index],'TPR':tprs[thr_index]})\n",
    "\n",
    "def roc_curve_plot(y_test, pred_proba_c1):\n",
    "    # 임계값에 따른 FPR, TPR 값\n",
    "    fprs, tprs, thresholds = roc_curve(y_test, pred_proba_c1)\n",
    "    # ROC 곡선을 시각화\n",
    "    plt.plot(fprs, tprs, label='ROC')\n",
    "    # 가운데 대각선 직선\n",
    "    plt.plot([0,1],[0,1], 'k--',label='Random')\n",
    "    \n",
    "    # FPR X 축의 scla 0.1 단위 지정\n",
    "    start, end = plt.xlim()\n",
    "    plt.xticks(np.round(np.arange(start, end, 0.1),2)) # x축의 눈금 범위\n",
    "    plt.xlim(0, 1) # x축 시작값과 끝값\n",
    "    plt.ylim(0, 1) # y축 시작값과 끝값\n",
    "    plt.xlabel('FPR( 1 - Snesitivity )') # x축 레이블명\n",
    "    plt.ylabel('TPR( Recall )') # y축 레이블명\n",
    "    plt.legend() # 범례\n",
    "    \n",
    "roc_curve_plot(y_test, pred_sgd_target)"
   ]
  },
  {
   "cell_type": "code",
   "execution_count": 57,
   "metadata": {},
   "outputs": [
    {
     "name": "stdout",
     "output_type": "stream",
     "text": [
      "ROC AUC Score:  0.9628005657708629\n"
     ]
    }
   ],
   "source": [
    "from sklearn.metrics import roc_auc_score\n",
    "\n",
    "pred_proba_sgd = sgd_model.decision_function(X_test)\n",
    "roc_score_sgd = roc_auc_score(y_test, pred_proba_sgd)\n",
    "print('ROC AUC Score: ', roc_score_sgd)"
   ]
  },
  {
   "cell_type": "markdown",
   "metadata": {},
   "source": [
    "##### 로지스틱 회귀분석"
   ]
  },
  {
   "cell_type": "code",
   "execution_count": 58,
   "metadata": {},
   "outputs": [
    {
     "name": "stdout",
     "output_type": "stream",
     "text": [
      "반환된 분류 결정 임곗값 배열의 shape :  (18,)\n"
     ]
    },
    {
     "data": {
      "image/png": "[encoded data removed]",
      "text/plain": [
       "<Figure size 432x288 with 1 Axes>"
      ]
     },
     "metadata": {
      "needs_background": "light"
     },
     "output_type": "display_data"
    }
   ],
   "source": [
    "from sklearn.metrics import roc_curve\n",
    "\n",
    "# predict_proba 함수는 각 샘플에 대해 어느 클래스에 속할 확률을 0에서 1사이의 값으로 돌려줌 / 해당 함수를 사용해 클래스 레이블(정답)을 예측\n",
    "# 레이블 값이 1일 떄, 예측확률을 추출\n",
    "\n",
    "pred_logistic_target = logistic_model.predict_proba(X_test)[:,1]\n",
    "pred_logistic_target\n",
    "\n",
    "# FPR(1 - 특이도(실제음성비율)) TPR(민감도:실제 양성 비율) 임계값 설정\n",
    "fprs, tprs, thresholds = roc_curve(y_test, pred_logistic_target)\n",
    "print(\"반환된 분류 결정 임곗값 배열의 shape : \", thresholds.shape)\n",
    "\n",
    "# 반환된 임계값 배열 row를 샘플로 추출\n",
    "# thresholds[0]은 max(예측확률)+1로 임의 설정됨. 이를 제외하기위해 np.arange는 1부터 시작\n",
    "thr_index = np.arange(1,thresholds.shape[0])\n",
    "pd.DataFrame({'index':thr_index,'FPR':fprs[thr_index],'TPR':tprs[thr_index]})\n",
    "\n",
    "def roc_curve_plot(y_test, pred_proba_c1):\n",
    "    # 임계값에 따른 FPR, TPR 값\n",
    "    fprs, tprs, thresholds = roc_curve(y_test, pred_proba_c1)\n",
    "    # ROC 곡선을 시각화\n",
    "    plt.plot(fprs, tprs, label='ROC')\n",
    "    # 가운데 대각선 직선\n",
    "    plt.plot([0,1],[0,1], 'k--',label='Random')\n",
    "    \n",
    "    # FPR X 축의 scla 0.1 단위 지정\n",
    "    start, end = plt.xlim()\n",
    "    plt.xticks(np.round(np.arange(start, end, 0.1),2)) # x축의 눈금 범위\n",
    "    plt.xlim(0, 1) # x축 시작값과 끝값\n",
    "    plt.ylim(0, 1) # y축 시작값과 끝값\n",
    "    plt.xlabel('FPR( 1 - Snesitivity )') # x축 레이블명\n",
    "    plt.ylabel('TPR( Recall )') # y축 레이블명\n",
    "    plt.legend() # 범례\n",
    "    \n",
    "roc_curve_plot(y_test, pred_logistic_target)"
   ]
  },
  {
   "cell_type": "code",
   "execution_count": 59,
   "metadata": {},
   "outputs": [
    {
     "name": "stdout",
     "output_type": "stream",
     "text": [
      "ROC AUC Score:  0.9908062234794909\n"
     ]
    }
   ],
   "source": [
    "from sklearn.metrics import roc_auc_score\n",
    "\n",
    "pred_proba_log = logistic_model.predict_proba(X_test)[:,1]\n",
    "roc_score_log = roc_auc_score(y_test, pred_proba_log)\n",
    "print('ROC AUC Score: ', roc_score_log)"
   ]
  },
  {
   "cell_type": "markdown",
   "metadata": {},
   "source": [
    "### AUC 점수를 토대로 각 모델을 비교해 보았을때, 랜덤포레스트가 가장 높은 정확도를 보임"
   ]
  },
  {
   "cell_type": "code",
   "execution_count": 60,
   "metadata": {},
   "outputs": [
    {
     "name": "stdout",
     "output_type": "stream",
     "text": [
      "의사결정트리_AUC Score: 0.894\n",
      "랜덤 포레스트_AUC Score: 0.991\n",
      "서포트 벡터 머신_AUC Score: 0.965\n",
      "확률적 경사 하강법_AUC Score: 0.963\n",
      "로지스틱 회귀분석_AUC Score: 0.991\n"
     ]
    }
   ],
   "source": [
    "print('의사결정트리_AUC Score: %0.3f' %roc_score_tree)\n",
    "print('랜덤 포레스트_AUC Score: %0.3f' %roc_score_rf)\n",
    "print('서포트 벡터 머신_AUC Score: %0.3f' %roc_score_svm)\n",
    "print('확률적 경사 하강법_AUC Score: %0.3f' %roc_score_sgd)\n",
    "print('로지스틱 회귀분석_AUC Score: %0.3f' %roc_score_log)"
   ]
  },
  {
   "cell_type": "markdown",
   "metadata": {},
   "source": [
    "# ----------------------------유방암 데이터 종료-----------------------------"
   ]
  }
 ],
 "metadata": {
  "interpreter": {
   "hash": "8304a273293ff553923ad58e0bbfbb68d42103ea8ff98bcac614e0d841aefdf2"
  },
  "kernelspec": {
   "display_name": "Python 3.8.8 ('base')",
   "language": "python",
   "name": "python3"
  },
  "language_info": {
   "codemirror_mode": {
    "name": "ipython",
    "version": 3
   },
   "file_extension": ".py",
   "mimetype": "text/x-python",
   "name": "python",
   "nbconvert_exporter": "python",
   "pygments_lexer": "ipython3",
   "version": "3.8.8"
  },
  "orig_nbformat": 4
 },
 "nbformat": 4,
 "nbformat_minor": 2
}
